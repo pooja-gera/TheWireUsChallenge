{
  "nbformat": 4,
  "nbformat_minor": 0,
  "metadata": {
    "colab": {
      "name": "Untitled12.ipynb",
      "provenance": []
    },
    "kernelspec": {
      "name": "python3",
      "display_name": "Python 3"
    }
  },
  "cells": [
    {
      "cell_type": "code",
      "metadata": {
        "id": "NRj4oombr35J",
        "colab_type": "code",
        "colab": {}
      },
      "source": [
        "import random\n",
        "import string \n",
        "\n",
        "\n"
      ],
      "execution_count": 12,
      "outputs": []
    },
    {
      "cell_type": "code",
      "metadata": {
        "id": "jCkji08cytyg",
        "colab_type": "code",
        "colab": {}
      },
      "source": [
        "letter  = string.ascii_letters\n",
        "numbers = string.digits\n",
        "punctuation = string.punctuation\n",
        "\n",
        "\n",
        "#add pyton app.py\n",
        "\n",
        "def get_password_length():\n",
        "    length = input(\"how long the password had to be : \")\n",
        "    return int(length)\n",
        "\n",
        "def generate_password(length):\n",
        "    \n",
        "    printable = f'{letter}{numbers}{punctuation}'\n",
        "    printable = list(printble)\n",
        "    random.shuffle(printable)\n",
        "\n",
        "    random_password = random.choices(printable,k=length)\n",
        "    random_password = ''.join(random_password)\n",
        "    print(randon_password)\n",
        "\n",
        "def password_generator(length):\n",
        "   \n",
        "\n",
        "# testing password generator with it's default length of 8\n",
        "   password_one = password_generator()\n",
        "\n",
        "# testing password generator using user's input as length\n",
        "   password_length = get_password_length()\n",
        "   password_two = password_generator(password_length)\n",
        "\n",
        "   print(\"password one (\" + str(len(password_one)) + \"):\\t\\t\" + password_one )\n",
        "   print(\"password one (\" + str(len(password_two)) + \"):\\t\\t\" + password_two )"
      ],
      "execution_count": 23,
      "outputs": []
    },
    {
      "cell_type": "code",
      "metadata": {
        "id": "bbb6cyVjZRQ_",
        "colab_type": "code",
        "colab": {}
      },
      "source": [
        ""
      ],
      "execution_count": null,
      "outputs": []
    }
  ]
}