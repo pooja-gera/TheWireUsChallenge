{
  "nbformat": 4,
  "nbformat_minor": 0,
  "metadata": {
    "colab": {
      "name": "Untitled8.ipynb",
      "provenance": [],
      "private_outputs": true
    },
    "kernelspec": {
      "name": "python3",
      "display_name": "Python 3"
    }
  },
  "cells": [
    {
      "cell_type": "markdown",
      "metadata": {
        "id": "M_KLZ9ZzTLdq"
      },
      "source": [
        "Heyy guys!\n",
        "I hope you all are doing fine, and having fun with these wonderful challenges.\n",
        "\n",
        "So the next challenge for Machine learning is using the KNN algorithm.I am sure you must have heard about this algorithm. I mean it is a pretty famous and a fun algo.\n",
        "\n",
        "K- nearest neighbours is a classification algorithm.\n",
        "KNN is non parametric means that it does not make any assumptions on the underlying data distribution.\n",
        "To know more about this data refer the given link :-\n",
        "https://www.tutorialspoint.com/machine_learning_with_python/machine_learning_with_python_knn_algorithm_finding_nearest_neighbors.htm\n",
        "\n",
        "Challenges are :\n",
        "1. import necessary libraries to perform the challenge.\n",
        "2. Import the dataset(you can use any dataset or the dataset you have provided)\n",
        "3. Split the given dataset into test and train dataset\n",
        "4. Use feature scaling to transform test and train data\n",
        "5. Fit KNN algorithm to the result\n",
        "6. predict the test results of the given dataset\n",
        "7. make the confusion matrix for the same\n",
        "\n",
        "\n",
        "ALL THE BEST!\n"
      ]
    },
    {
      "cell_type": "code",
      "metadata": {
        "id": "8ReNQDcPTJ7a"
      },
      "source": [
        "import numpy as np\n",
        "import matplotlib.pyplot as plt\n",
        "import pandas as pd"
      ],
      "execution_count": null,
      "outputs": []
    },
    {
      "cell_type": "code",
      "metadata": {
        "id": "YWqnN1zohRcy"
      },
      "source": [
        "#importing the file\n",
        "dataset = pd.read_csv('Social_Network_Ads.csv')\n",
        "X = dataset.iloc[:, [2, 3]].values\n",
        "y = dataset.iloc[:, 4].values"
      ],
      "execution_count": null,
      "outputs": []
    },
    {
      "cell_type": "code",
      "metadata": {
        "id": "Zc6WqnQVhfOG"
      },
      "source": [
        "#splitting the data set into training and test data\n",
        "from sklearn.cross_validation import train_test_split\n",
        "X_train, X_test, y_train, y_test = train_test_split(X, y, test_size = 0.25, random_state = 0)"
      ],
      "execution_count": null,
      "outputs": []
    },
    {
      "cell_type": "code",
      "metadata": {
        "id": "MuFqK3gkhlCW"
      },
      "source": [
        "#feature scaling\n",
        "from sklearn.preprocessing import StandardScaler\n",
        "sc = StandardScaler()\n",
        "X_train = sc.fit_transform(X_train)\n",
        "X_test = sc.transform(X_test)"
      ],
      "execution_count": null,
      "outputs": []
    },
    {
      "cell_type": "code",
      "metadata": {
        "id": "MY597ar_hrf-"
      },
      "source": [
        "#fitting KNN to the result\n",
        "from sklearn.neighbors import KNeighborsClassifier\n",
        "classifier = KNeighborsClassifier(n_neighbors = 5, metric = 'minkowski', p = 2)\n",
        "classifier.fit(X_train, y_train)"
      ],
      "execution_count": null,
      "outputs": []
    },
    {
      "cell_type": "code",
      "metadata": {
        "id": "SGVDv7BghtxT"
      },
      "source": [
        "#predicting the test results\n",
        "y_pred = classifier.predict(X_test)"
      ],
      "execution_count": null,
      "outputs": []
    },
    {
      "cell_type": "code",
      "metadata": {
        "id": "AgCBXLi5hyaU"
      },
      "source": [
        "#making the confusion matrix\n",
        "from sklearn.metrics import confusion_matrix\n",
        "cm = confusion_matrix(y_test, y_pred)"
      ],
      "execution_count": null,
      "outputs": []
    }
  ]
}