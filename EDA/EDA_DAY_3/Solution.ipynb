{
  "nbformat": 4,
  "nbformat_minor": 0,
  "metadata": {
    "colab": {
      "name": "Untitled6.ipynb",
      "provenance": [],
      "private_outputs": true,
      "collapsed_sections": []
    },
    "kernelspec": {
      "name": "python3",
      "display_name": "Python 3"
    }
  },
  "cells": [
    {
      "cell_type": "code",
      "metadata": {
        "id": "onQGi5zQhbWC",
        "colab_type": "code",
        "colab": {}
      },
      "source": [
        "import numpy as np\n",
        "import scipy as sp\n",
        "import matplotlib as mpl\n",
        "import matplotlib.pyplot as plt"
      ],
      "execution_count": null,
      "outputs": []
    },
    {
      "cell_type": "code",
      "metadata": {
        "id": "zDkyXaAmqZrs",
        "colab_type": "code",
        "colab": {}
      },
      "source": [
        "from scipy import linalg, optimize"
      ],
      "execution_count": null,
      "outputs": []
    },
    {
      "cell_type": "code",
      "metadata": {
        "id": "UVlVM2KIrwpU",
        "colab_type": "code",
        "colab": {}
      },
      "source": [
        "#commands for different mathematical operations using scipy\n",
        "from scipy.special import cbrt\n",
        "#Find cubic root of 27 & 64 using cbrt() function\n",
        "cb = cbrt([27, 64])\n",
        "#print value of cb\n",
        "print(cb)"
      ],
      "execution_count": null,
      "outputs": []
    },
    {
      "cell_type": "code",
      "metadata": {
        "id": "cgoppw2YWcWl",
        "colab_type": "code",
        "colab": {}
      },
      "source": [
        "from scipy.special import exp10\n",
        "#define exp10 function and pass value in its\n",
        "exp = exp10([1,10])\n",
        "print(exp)"
      ],
      "execution_count": null,
      "outputs": []
    },
    {
      "cell_type": "code",
      "metadata": {
        "id": "qrJmAIdGWjjT",
        "colab_type": "code",
        "colab": {}
      },
      "source": [
        "#code to find the determinant of a matrix\n",
        "from scipy import linalg\n",
        "import numpy as np\n",
        "#define square matrix\n",
        "two_d_array = np.array([ [4,5], [3,2] ])\n",
        "#pass values to det() function\n",
        "linalg.det( two_d_array )"
      ],
      "execution_count": null,
      "outputs": []
    },
    {
      "cell_type": "code",
      "metadata": {
        "id": "YYaRwiO_Wrbp",
        "colab_type": "code",
        "colab": {}
      },
      "source": [
        "#code to find a eigen value corresponding to a eigenvector of a 2D matrix\n",
        "from scipy import linalg\n",
        "import numpy as np\n",
        "#define two dimensional array\n",
        "arr = np.array([[5,4],[6,3]])\n",
        "#pass value into function\n",
        "eg_val, eg_vect = linalg.eig(arr)\n",
        "#get eigenvalues\n",
        "print(eg_val)\n",
        "#get eigenvectors\n",
        "print(eg_vect)"
      ],
      "execution_count": null,
      "outputs": []
    }
  ]
}