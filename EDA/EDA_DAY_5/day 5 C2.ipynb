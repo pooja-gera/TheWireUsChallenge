{
  "nbformat": 4,
  "nbformat_minor": 0,
  "metadata": {
    "colab": {
      "name": "Untitled",
      "provenance": [],
      "private_outputs": true
    },
    "kernelspec": {
      "name": "python3",
      "display_name": "Python 3"
    }
  },
  "cells": [
    {
      "cell_type": "code",
      "metadata": {
        "id": "fQp6K17a198P",
        "colab_type": "code",
        "colab": {}
      },
      "source": [
        "import textblob\n",
        "from textblob import TextBlob\n",
        "\n",
        "import nltk\n",
        "nltk.download('punkt')"
      ],
      "execution_count": null,
      "outputs": []
    },
    {
      "cell_type": "markdown",
      "metadata": {
        "id": "iQR5Qedn2uCL",
        "colab_type": "text"
      },
      "source": [
        "Code to perform tokenization over a document "
      ]
    },
    {
      "cell_type": "code",
      "metadata": {
        "id": "hC70AW-b2Mtg",
        "colab_type": "code",
        "colab": {}
      },
      "source": [
        "document = (\"In computer science, artificial intelligence (AI), \\\n",
        "            sometimes called machine intelligence, is intelligence \\\n",
        "            demonstrated by machines, in contrast to the natural intelligence \\\n",
        "            displayed by humans and animals. Computer science defines AI \\\n",
        "            research as the study of \\\"intelligent agents\\\": any device that \\\n",
        "            perceives its environment and takes actions that maximize its\\\n",
        "            chance of successfully achieving its goals.[1] Colloquially,\\\n",
        "            the term \\\"artificial intelligence\\\" is used to describe machines\\\n",
        "            that mimic \\\"cognitive\\\" functions that humans associate with other\\\n",
        "            human minds, such as \\\"learning\\\" and \\\"problem solving\\\".[2]\")"
      ],
      "execution_count": null,
      "outputs": []
    },
    {
      "cell_type": "code",
      "metadata": {
        "id": "SUFpmBU42SDn",
        "colab_type": "code",
        "colab": {}
      },
      "source": [
        "text_blob_object = TextBlob(document)"
      ],
      "execution_count": null,
      "outputs": []
    },
    {
      "cell_type": "code",
      "metadata": {
        "id": "OXhp8rJi2Zzm",
        "colab_type": "code",
        "colab": {}
      },
      "source": [
        "document_sentence = text_blob_object.sentences\n",
        "\n",
        "print(document_sentence)\n",
        "print(len(document_sentence))"
      ],
      "execution_count": null,
      "outputs": []
    },
    {
      "cell_type": "code",
      "metadata": {
        "id": "j7-C8u4f2pBd",
        "colab_type": "code",
        "colab": {}
      },
      "source": [
        "document_words = text_blob_object.words\n",
        "\n",
        "print(document_words)\n",
        "print(len(document_words))"
      ],
      "execution_count": null,
      "outputs": []
    },
    {
      "cell_type": "markdown",
      "metadata": {
        "id": "elNirhSY20S2",
        "colab_type": "text"
      },
      "source": [
        "Code to perform lemmatization"
      ]
    },
    {
      "cell_type": "markdown",
      "metadata": {
        "id": "cTms5Mhj3Oj0",
        "colab_type": "text"
      },
      "source": [
        "Code to convert a singular text into plural\n"
      ]
    }
  ]
}