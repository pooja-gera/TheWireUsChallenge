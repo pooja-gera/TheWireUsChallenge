{
  "nbformat": 4,
  "nbformat_minor": 0,
  "metadata": {
    "colab": {
      "name": "Untitled5.ipynb",
      "provenance": [],
      "private_outputs": true
    },
    "kernelspec": {
      "name": "python3",
      "display_name": "Python 3"
    }
  },
  "cells": [
    {
      "cell_type": "code",
      "metadata": {
        "id": "9qTd1WdOQW7U",
        "colab_type": "code",
        "colab": {}
      },
      "source": [
        "pip install statsmodels"
      ],
      "execution_count": null,
      "outputs": []
    },
    {
      "cell_type": "code",
      "metadata": {
        "id": "HNs4xBxdi2z4",
        "colab_type": "code",
        "colab": {}
      },
      "source": [
        "import numpy as np\n",
        "import statsmodels.api as sm\n",
        "import statsmodels.formula.api as smf\n",
        "import pandas as pd\n",
        "import matplotlib.pyplot as plt\n",
        "from statsmodels.graphics.mosaicplot import mosaic"
      ],
      "execution_count": null,
      "outputs": []
    },
    {
      "cell_type": "code",
      "metadata": {
        "id": "JWSV_xuai5lh",
        "colab_type": "code",
        "colab": {}
      },
      "source": [
        "#code to print the probability plots with options to fit distribution and various reference lines using statsmodels\n",
        "x = np.random.normal(loc=1.12, scale=0.25, size=37)\n",
        "y = np.random.normal(loc=0.75, scale=0.45, size=37)\n",
        "ppx = sm.ProbPlot(x)\n",
        "ppy =  sm.ProbPlot(y)\n",
        "fig1 = ppx.qqplot()\n",
        "fig2 = ppx.qqplot(other=ppy)"
      ],
      "execution_count": null,
      "outputs": []
    },
    {
      "cell_type": "code",
      "metadata": {
        "id": "GTYJjSC3jgkR",
        "colab_type": "code",
        "colab": {}
      },
      "source": [
        "#code to print a mosaic plot using the necessary libraries\n",
        "data = {'a': 10, 'b': 15, 'c': 16}\n",
        "mosaic(data, title='basic dictionary')\n",
        "plt.show()"
      ],
      "execution_count": null,
      "outputs": []
    },
    {
      "cell_type": "code",
      "metadata": {
        "id": "w1u9imGCjgdE",
        "colab_type": "code",
        "colab": {}
      },
      "source": [
        "#give the above data in hierarchichal index series\n",
        "rand = np.random.random\n",
        "from itertools import product\n",
        "tuples = list(product(['bar', 'baz', 'foo', 'qux'], ['one', 'two']))\n",
        "index = pd.MultiIndex.from_tuples(tuples, names=['first', 'second'])\n",
        "data = pd.Series(rand(8), index=index)\n",
        "mosaic(data, title='hierarchical index series')\n",
        "plt.show()"
      ],
      "execution_count": null,
      "outputs": []
    }
  ]
}