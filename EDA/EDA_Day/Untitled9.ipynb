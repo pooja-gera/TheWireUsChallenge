{
  "nbformat": 4,
  "nbformat_minor": 0,
  "metadata": {
    "colab": {
      "name": "Untitled9.ipynb",
      "provenance": [],
      "private_outputs": true
    },
    "kernelspec": {
      "name": "python3",
      "display_name": "Python 3"
    }
  },
  "cells": [
    {
      "cell_type": "code",
      "metadata": {
        "id": "XTdRJyycq8NS"
      },
      "source": [
        "#importing necessary libraries\n",
        "import numpy as np\n",
        "import pandas as pd\n",
        "import matplotlib.pyplot as plt\n",
        "import matplotlib.image as mpimg\n",
        "%matplotlib inline"
      ],
      "execution_count": null,
      "outputs": []
    },
    {
      "cell_type": "code",
      "metadata": {
        "id": "pIU1K0Tkq9Si"
      },
      "source": [
        "#plot a word population graph\n",
        "years=[1,1000,1500,1600,1700,1750,1800,1850,1900,1950,1955,1960,1965,1970,1980,1985,1990,\n",
        "       1995,2000,2005,2010,2015]\n",
        "pops=[200,400,458,580,682,791,1000,1262,1650,2525,2758,3018,3322,3682,\n",
        "      4061,4440,4853,5310,5735,6127,6520,7349]\n",
        "plt.plot(years,pops)\n",
        "plt.show"
      ],
      "execution_count": null,
      "outputs": []
    },
    {
      "cell_type": "code",
      "metadata": {
        "id": "Qa2RzwGzrwB8"
      },
      "source": [
        "#Add labels and custom inline colours to the plot\n",
        "years=[1950,1955,1960,1965,1970,1980,1985,1990,1995,2000,2005,2010,2015]\n",
        "pops=[2.5,2.7,3.0,3.3,3.6,4.0,4.4,4.8,5.3,5.7,6.1,6.5,7.3]\n",
        "plt.plot(years,pops,color=(255/255,100/255,100/255))\n",
        "plt.ylabel(\"Population in Billions\")\n",
        "plt.xlabel(\"Population growth by year\")\n",
        "plt.title(\"Population Growth\")\n",
        "plt.show"
      ],
      "execution_count": null,
      "outputs": []
    },
    {
      "cell_type": "code",
      "metadata": {
        "id": "cqMSZDW0mfe1"
      },
      "source": [
        "#plotting multiple lines and different lines\n",
        "years=[1950,1955,1960,1965,1970,1980,1985,1990,1995,2000,2005,2010,2015]\n",
        "pops=[2.5,2.7,3.0,3.3,3.6,4.0,4.4,4.8,5.3,5.7,6.1,6.5,7.3]\n",
        "death=[1.2,1.1,1.2,2.1,2.0,2.3,1.8,1.9,2.6,1.6,2.4,2.4,4.0]\n",
        "plt.plot(years,pops,'--',color=(255/255,100/255,100/255))\n",
        "plt.plot(years,death,color=(.6,.6,1))\n",
        "plt.ylabel(\"Population in Billions\")\n",
        "plt.xlabel(\"Population growth by year\")\n",
        "plt.title(\"Population Growth\")\n",
        "plt.show"
      ],
      "execution_count": null,
      "outputs": []
    }
  ]
}