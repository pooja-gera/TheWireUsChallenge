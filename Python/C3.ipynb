{
  "nbformat": 4,
  "nbformat_minor": 0,
  "metadata": {
    "colab": {
      "name": "Untitled7.ipynb",
      "provenance": [],
      "private_outputs": true
    },
    "kernelspec": {
      "name": "python3",
      "display_name": "Python 3"
    }
  },
  "cells": [
    {
      "cell_type": "markdown",
      "metadata": {
        "id": "X-2bMkT9dumr",
        "colab_type": "text"
      },
      "source": [
        "Question 3: Create a lambda function to print cube of a number."
      ]
    },
    {
      "cell_type": "code",
      "metadata": {
        "id": "fCi9zJ1rdkji",
        "colab_type": "code",
        "colab": {}
      },
      "source": [
        "def lambda(n):\n",
        "    return n*n*n"
      ],
      "execution_count": null,
      "outputs": []
    }
  ]
}