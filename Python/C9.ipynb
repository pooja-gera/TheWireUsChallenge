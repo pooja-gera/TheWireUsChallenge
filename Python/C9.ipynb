{
  "nbformat": 4,
  "nbformat_minor": 0,
  "metadata": {
    "colab": {
      "name": "Untitled7.ipynb",
      "provenance": [],
      "private_outputs": true
    },
    "kernelspec": {
      "name": "python3",
      "display_name": "Python 3"
    }
  },
  "cells": [
    {
      "cell_type": "code",
      "metadata": {
        "id": "A7QZ_kh0foPm",
        "colab_type": "code",
        "colab": {}
      },
      "source": [
        "#First step is to import the libraries\n",
        "import urllib.request\n",
        "request_url = urllib.request.urlopen('https://news.google.com/topstories?hl=en-IN&gl=IN&ceid=IN:en') \n",
        "print(request_url.read())"
      ],
      "execution_count": null,
      "outputs": []
    },
    {
      "cell_type": "code",
      "metadata": {
        "id": "DKID0nrKgeSq",
        "colab_type": "code",
        "colab": {}
      },
      "source": [
        "#write a command to parse the values into the url\n",
        "import urllib.parse\n",
        "url = 'https://www.google.com/search'\n",
        "values = {'q' : 'TheWireUsChallenges'}"
      ],
      "execution_count": null,
      "outputs": []
    }
  ]
}