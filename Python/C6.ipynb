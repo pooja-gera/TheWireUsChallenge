{
  "nbformat": 4,
  "nbformat_minor": 0,
  "metadata": {
    "colab": {
      "name": "Untitled7.ipynb",
      "provenance": [],
      "private_outputs": true
    },
    "kernelspec": {
      "name": "python3",
      "display_name": "Python 3"
    }
  },
  "cells": [
    {
      "cell_type": "markdown",
      "metadata": {
        "id": "X-2bMkT9dumr",
        "colab_type": "text"
      },
      "source": [
        "\n",
        "Question 6:Write a code in python to display different functions of python module."
      ]
    },
    {
      "cell_type": "code",
      "metadata": {
        "id": "fCi9zJ1rdkji",
        "colab_type": "code",
        "colab": {}
      },
      "source": [
        "#module required\n",
        "import time\n",
        "print(\"I am Iron Man.\")\n",
        "time.sleep(2.4)#this function delays the time\n",
        "print(\"I love you 3000.\") #this statement is printed after 2.4 seconds"
      ],
      "execution_count": null,
      "outputs": []
    },
    {
      "cell_type": "code",
      "metadata": {
        "id": "d-XNI0HrffxL",
        "colab_type": "code",
        "colab": {}
      },
      "source": [
        "\n",
        "import time\n",
        "\n",
        "# seconds passed since epoch\n",
        "seconds = 1545925769.9618232\n",
        "local_time = time.ctime(seconds)\n",
        "print(\"Local time:\", local_time)"
      ],
      "execution_count": null,
      "outputs": []
    }
  ]
}