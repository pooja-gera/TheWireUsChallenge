{
  "nbformat": 4,
  "nbformat_minor": 0,
  "metadata": {
    "colab": {
      "name": "Untitled7.ipynb",
      "provenance": [],
      "private_outputs": true
    },
    "kernelspec": {
      "name": "python3",
      "display_name": "Python 3"
    }
  },
  "cells": [
    {
      "cell_type": "markdown",
      "metadata": {
        "id": "X-2bMkT9dumr",
        "colab_type": "text"
      },
      "source": [
        "Question 5: Write a code to check the voting age of a person."
      ]
    },
    {
      "cell_type": "code",
      "metadata": {
        "id": "fCi9zJ1rdkji",
        "colab_type": "code",
        "colab": {}
      },
      "source": [
        "age = int(input())\n",
        "if age<18 :\n",
        "  print(\"underage\")\n",
        "elif age>=18:\n",
        "  print(\"Adult\")"
      ],
      "execution_count": null,
      "outputs": []
    }
  ]
}