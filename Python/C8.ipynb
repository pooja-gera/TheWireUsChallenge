{
  "nbformat": 4,
  "nbformat_minor": 0,
  "metadata": {
    "colab": {
      "name": "Untitled7.ipynb",
      "provenance": [],
      "private_outputs": true
    },
    "kernelspec": {
      "name": "python3",
      "display_name": "Python 3"
    }
  },
  "cells": [
    {
      "cell_type": "code",
      "metadata": {
        "id": "A7QZ_kh0foPm",
        "colab_type": "code",
        "colab": {}
      },
      "source": [
        "#First step is to import the libraries\n",
        "import urllib.request\n",
        "request_url = urllib.request.urlopen('https://news.google.com/topstories?hl=en-IN&gl=IN&ceid=IN:en') \n",
        "print(request_url.read())"
      ],
      "execution_count": null,
      "outputs": []
    }
  ]
}