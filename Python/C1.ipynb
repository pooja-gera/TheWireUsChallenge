{
  "nbformat": 4,
  "nbformat_minor": 0,
  "metadata": {
    "colab": {
      "name": "Untitled7.ipynb",
      "provenance": [],
      "private_outputs": true
    },
    "kernelspec": {
      "name": "python3",
      "display_name": "Python 3"
    }
  },
  "cells": [
    {
      "cell_type": "markdown",
      "metadata": {
        "id": "X-2bMkT9dumr",
        "colab_type": "text"
      },
      "source": [
        "Question 1 : Write a python code to identify the data types of different inputs given by the user."
      ]
    },
    {
      "cell_type": "code",
      "metadata": {
        "id": "fCi9zJ1rdkji",
        "colab_type": "code",
        "colab": {}
      },
      "source": [
        "m = input()\n",
        "print(type(m))\n",
        "a = int(input())\n",
        "print(type(a))\n",
        "b = [1,2,3]\n",
        "print(type(b))\n",
        "c = ( 1,2,3)\n",
        "print(type(c))"
      ],
      "execution_count": null,
      "outputs": []
    }
  ]
}