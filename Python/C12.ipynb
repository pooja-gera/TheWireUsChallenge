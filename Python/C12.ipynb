{
  "nbformat": 4,
  "nbformat_minor": 0,
  "metadata": {
    "colab": {
      "name": "Untitled7.ipynb",
      "provenance": [],
      "private_outputs": true
    },
    "kernelspec": {
      "name": "python3",
      "display_name": "Python 3"
    }
  },
  "cells": [
    {
      "cell_type": "code",
      "metadata": {
        "id": "A7QZ_kh0foPm",
        "colab_type": "code",
        "colab": {}
      },
      "source": [
        "pip install fuzzywuzzy"
      ],
      "execution_count": null,
      "outputs": []
    },
    {
      "cell_type": "code",
      "metadata": {
        "id": "DKID0nrKgeSq",
        "colab_type": "code",
        "colab": {}
      },
      "source": [
        "from fuzzywuzzy import fuzz\n",
        "from fuzzywuzzy import process"
      ],
      "execution_count": null,
      "outputs": []
    },
    {
      "cell_type": "code",
      "metadata": {
        "id": "kfqkqiI5g_ZR",
        "colab_type": "code",
        "colab": {}
      },
      "source": [
        "#code to find simple ratio\n",
        "fuzz.ratio(\"this is a test\", \"this is a test!\")"
      ],
      "execution_count": null,
      "outputs": []
    },
    {
      "cell_type": "code",
      "metadata": {
        "id": "Ka8kAd6yhGJy",
        "colab_type": "code",
        "colab": {}
      },
      "source": [
        "#code to find token set and token sort ratio\n",
        "fuzz.token_sort_ratio(\"fuzzy was a bear\", \"fuzzy fuzzy was a bear\")"
      ],
      "execution_count": null,
      "outputs": []
    }
  ]
}