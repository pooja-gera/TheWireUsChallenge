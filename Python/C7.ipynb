{
  "nbformat": 4,
  "nbformat_minor": 0,
  "metadata": {
    "colab": {
      "name": "Untitled7.ipynb",
      "provenance": [],
      "private_outputs": true
    },
    "kernelspec": {
      "name": "python3",
      "display_name": "Python 3"
    }
  },
  "cells": [
    {
      "cell_type": "markdown",
      "metadata": {
        "id": "X-2bMkT9dumr",
        "colab_type": "text"
      },
      "source": [
        "Question 7: A code showing use of 'in' keyword, slicing and negative indices."
      ]
    },
    {
      "cell_type": "code",
      "metadata": {
        "id": "A7QZ_kh0foPm",
        "colab_type": "code",
        "colab": {}
      },
      "source": [
        "#for slicing and negative indices lets input a string\n",
        "str = \"I am spiderman.\"\n",
        "print(str[:2])\n",
        "#slicing from start to second last character\n",
        "print(str[:-2])\n",
        "#use of in keyword\n",
        "str1 = \"I live in Delhi.\"\n",
        "if I in str1:\n",
        "  print(\"True.\")\n",
        "else : \n",
        "  print(\"False\")"
      ],
      "execution_count": null,
      "outputs": []
    }
  ]
}