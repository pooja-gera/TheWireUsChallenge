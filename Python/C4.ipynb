{
  "nbformat": 4,
  "nbformat_minor": 0,
  "metadata": {
    "colab": {
      "name": "Untitled7.ipynb",
      "provenance": [],
      "private_outputs": true
    },
    "kernelspec": {
      "name": "python3",
      "display_name": "Python 3"
    }
  },
  "cells": [
    {
      "cell_type": "markdown",
      "metadata": {
        "id": "X-2bMkT9dumr",
        "colab_type": "text"
      },
      "source": [
        "Question 4:Write a python code showing different string methods and functions."
      ]
    },
    {
      "cell_type": "code",
      "metadata": {
        "id": "fCi9zJ1rdkji",
        "colab_type": "code",
        "colab": {}
      },
      "source": [
        "str = 'I am Shaktiman.'\n",
        "#print the string\"\n",
        "print(str)\n",
        "#print first character of string\n",
        "print(str[0])\n",
        "#last character\n",
        "print('str[-1] = ', str[-1])\n",
        "#slicing 2nd to 5th character\n",
        "print('str[1:5] = ', str[1:5])\n",
        "#slicing 6th to 2nd last character\n",
        "print('str[5:-2] = ', str[5:-2])\n",
        "\n",
        "# Iterating through a string\n",
        "count = 0\n",
        "for letter in str:\n",
        "    if(letter == 'a'):\n",
        "        count += 1\n",
        "print(count,'letters found')"
      ],
      "execution_count": null,
      "outputs": []
    }
  ]
}