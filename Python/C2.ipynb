{
  "nbformat": 4,
  "nbformat_minor": 0,
  "metadata": {
    "colab": {
      "name": "Untitled7.ipynb",
      "provenance": [],
      "private_outputs": true
    },
    "kernelspec": {
      "name": "python3",
      "display_name": "Python 3"
    }
  },
  "cells": [
    {
      "cell_type": "markdown",
      "metadata": {
        "id": "X-2bMkT9dumr",
        "colab_type": "text"
      },
      "source": [
        "Question 2: Write a python code to count of number of digits in a number inputted by the user."
      ]
    },
    {
      "cell_type": "code",
      "metadata": {
        "id": "fCi9zJ1rdkji",
        "colab_type": "code",
        "colab": {}
      },
      "source": [
        "n=int(input(\"Enter number:\"))\n",
        "count=0\n",
        "while(n>0):\n",
        "    count=count+1\n",
        "    n=n//10\n",
        "print(\"The number of digits in the number are:\",count)"
      ],
      "execution_count": null,
      "outputs": []
    }
  ]
}