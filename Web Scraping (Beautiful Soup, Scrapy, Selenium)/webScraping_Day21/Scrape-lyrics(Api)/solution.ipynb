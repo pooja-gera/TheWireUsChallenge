{
 "cells": [
  {
   "cell_type": "code",
   "execution_count": null,
   "metadata": {},
   "outputs": [],
   "source": [
    "import requests\n",
    "import json\n",
    "import pandas as pd"
   ]
  },
  {
   "cell_type": "code",
   "execution_count": null,
   "metadata": {},
   "outputs": [],
   "source": [
    "# read csv file for names of the artist and their songs from your machine\n",
    "df=pd.read_csv(\"/Users/jappanjeetsingh/Downloads/datasets/songs_top50.csv\")"
   ]
  },
  {
   "cell_type": "code",
   "execution_count": null,
   "metadata": {},
   "outputs": [],
   "source": [
    "lyrics=[]\n",
    "for idx in range(0,49):\n",
    "    song=df.iloc[idx][\"Song\"]\n",
    "    artist=df.iloc[idx][\"Artist\"]\n",
    "    url=f\"https://api.lyrics.ovh/v1/{artist}/{song}\" #call to api\n",
    "    response=requests.get(url)\n",
    "    json_string=json.loads(response.content)\n",
    "    if list(json_string.keys())[0]!=\"error\":\n",
    "        py_string=json.dumps(json_string[\"lyrics\"]) #change the data into python string object\n",
    "        lyrics.append(py_string)"
   ]
  },
  {
   "cell_type": "code",
   "execution_count": null,
   "metadata": {},
   "outputs": [],
   "source": [
    "df[\"lyrics\"]=pd.Series(lyrics)\n",
    "df.tail(10)"
   ]
  }
 ],
 "metadata": {
  "kernelspec": {
   "display_name": "Python 3",
   "language": "python",
   "name": "python3"
  },
  "language_info": {
   "codemirror_mode": {
    "name": "ipython",
    "version": 3
   },
   "file_extension": ".py",
   "mimetype": "text/x-python",
   "name": "python",
   "nbconvert_exporter": "python",
   "pygments_lexer": "ipython3",
   "version": "3.8.2"
  },
  "toc": {
   "base_numbering": 1,
   "nav_menu": {},
   "number_sections": true,
   "sideBar": true,
   "skip_h1_title": false,
   "title_cell": "Table of Contents",
   "title_sidebar": "Contents",
   "toc_cell": false,
   "toc_position": {},
   "toc_section_display": true,
   "toc_window_display": false
  }
 },
 "nbformat": 4,
 "nbformat_minor": 4
}
