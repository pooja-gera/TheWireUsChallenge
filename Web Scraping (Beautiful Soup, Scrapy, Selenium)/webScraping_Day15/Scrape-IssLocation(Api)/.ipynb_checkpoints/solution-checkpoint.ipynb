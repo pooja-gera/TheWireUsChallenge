{
 "cells": [
  {
   "cell_type": "code",
   "execution_count": 19,
   "metadata": {},
   "outputs": [],
   "source": [
    "from bs4 import BeautifulSoup\n",
    "import pandas as pd\n",
    "import requests\n",
    "import json\n",
    "import time"
   ]
  },
  {
   "cell_type": "code",
   "execution_count": 23,
   "metadata": {},
   "outputs": [
    {
     "name": "stdout",
     "output_type": "stream",
     "text": [
      "\n",
      "Latitude: -51.6201\n",
      "Longitude: 90.2340\n",
      "\n",
      "Latitude: -51.6171\n",
      "Longitude: 90.7827\n",
      "\n",
      "Latitude: -51.6106\n",
      "Longitude: 91.3812\n",
      "\n",
      "Latitude: -51.6018\n",
      "Longitude: 91.9297\n",
      "\n",
      "Latitude: -51.5902\n",
      "Longitude: 92.4779\n",
      "\n",
      "Latitude: -51.5758\n",
      "Longitude: 93.0258\n"
     ]
    }
   ],
   "source": [
    "counter=0\n",
    "while True:\n",
    "    url=\"http://api.open-notify.org/iss-now.json\" \n",
    "    response=requests.get(url) #make get request to the API\n",
    "    data=json.loads(response.content)\n",
    "#     STORE DATA\n",
    "    lat=data[\"iss_position\"][\"latitude\"] \n",
    "    lon=data[\"iss_position\"][\"longitude\"]\n",
    "#     PRINT DATA\n",
    "    print(\"\\nLatitude: \" + str(lat))\n",
    "    print(\"Longitude: \" +str(lon))\n",
    "    counter+=1\n",
    "    if counter==6:\n",
    "        break\n",
    "    time.sleep(5)"
   ]
  },
  {
   "cell_type": "code",
   "execution_count": null,
   "metadata": {},
   "outputs": [],
   "source": []
  },
  {
   "cell_type": "code",
   "execution_count": null,
   "metadata": {},
   "outputs": [],
   "source": []
  },
  {
   "cell_type": "code",
   "execution_count": null,
   "metadata": {},
   "outputs": [],
   "source": []
  }
 ],
 "metadata": {
  "kernelspec": {
   "display_name": "Python 3",
   "language": "python",
   "name": "python3"
  },
  "language_info": {
   "codemirror_mode": {
    "name": "ipython",
    "version": 3
   },
   "file_extension": ".py",
   "mimetype": "text/x-python",
   "name": "python",
   "nbconvert_exporter": "python",
   "pygments_lexer": "ipython3",
   "version": "3.8.2"
  },
  "toc": {
   "base_numbering": 1,
   "nav_menu": {},
   "number_sections": true,
   "sideBar": true,
   "skip_h1_title": false,
   "title_cell": "Table of Contents",
   "title_sidebar": "Contents",
   "toc_cell": false,
   "toc_position": {},
   "toc_section_display": true,
   "toc_window_display": false
  }
 },
 "nbformat": 4,
 "nbformat_minor": 4
}
