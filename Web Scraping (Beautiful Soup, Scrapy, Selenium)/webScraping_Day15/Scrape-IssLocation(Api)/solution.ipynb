{
 "cells": [
  {
   "cell_type": "code",
   "execution_count": null,
   "metadata": {},
   "outputs": [],
   "source": [
    "# import necessary libraries\n",
    "from bs4 import BeautifulSoup\n",
    "import pandas as pd\n",
    "import requests\n",
    "import json\n",
    "import time"
   ]
  },
  {
   "cell_type": "code",
   "execution_count": null,
   "metadata": {},
   "outputs": [],
   "source": [
    "counter=0\n",
    "while True:\n",
    "    url=\"http://api.open-notify.org/iss-now.json\" \n",
    "    response=requests.get(url) #make get request to the API\n",
    "    data=json.loads(response.content)\n",
    "#     STORE DATA\n",
    "    lat=data[\"iss_position\"][\"latitude\"] \n",
    "    lon=data[\"iss_position\"][\"longitude\"]\n",
    "#     PRINT DATA\n",
    "    print(\"\\nLatitude: \" + str(lat))\n",
    "    print(\"Longitude: \" +str(lon))\n",
    "    counter+=1\n",
    "    if counter==6:\n",
    "        break\n",
    "    time.sleep(5)"
   ]
  }
 ],
 "metadata": {
  "kernelspec": {
   "display_name": "Python 3",
   "language": "python",
   "name": "python3"
  },
  "language_info": {
   "codemirror_mode": {
    "name": "ipython",
    "version": 3
   },
   "file_extension": ".py",
   "mimetype": "text/x-python",
   "name": "python",
   "nbconvert_exporter": "python",
   "pygments_lexer": "ipython3",
   "version": "3.8.2"
  },
  "toc": {
   "base_numbering": 1,
   "nav_menu": {},
   "number_sections": true,
   "sideBar": true,
   "skip_h1_title": false,
   "title_cell": "Table of Contents",
   "title_sidebar": "Contents",
   "toc_cell": false,
   "toc_position": {},
   "toc_section_display": true,
   "toc_window_display": false
  }
 },
 "nbformat": 4,
 "nbformat_minor": 4
}
