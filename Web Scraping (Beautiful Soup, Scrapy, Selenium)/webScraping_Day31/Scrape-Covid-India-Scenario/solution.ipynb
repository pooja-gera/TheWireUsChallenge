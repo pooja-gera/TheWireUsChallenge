{
 "cells": [
  {
   "cell_type": "code",
   "execution_count": 94,
   "metadata": {},
   "outputs": [],
   "source": [
    "from selenium import webdriver\n",
    "from time import sleep"
   ]
  },
  {
   "cell_type": "code",
   "execution_count": 95,
   "metadata": {},
   "outputs": [],
   "source": [
    "# load the selenium driver from your machine\n",
    "driver = webdriver.Chrome(\n",
    "    \"/Users/jappanjeetsingh/Downloads/drivers/chromedriver\")\n",
    "driver.get(\"https://www.worldometers.info/coronavirus/\")\n",
    "sleep(5)"
   ]
  },
  {
   "cell_type": "code",
   "execution_count": 96,
   "metadata": {},
   "outputs": [],
   "source": [
    "# finding the xpath to the table\n",
    "table = driver.find_element_by_xpath(\n",
    "    \"//*[@id=\\\"main_table_countries_today\\\"]/tbody[1]\")\n",
    "# finding the country\n",
    "country = table.find_element_by_xpath(\"//td[contains(., 'India')]\")\n",
    "# we find the parent element of the country element and store it into row because we want all data in the row\n",
    "row = country.find_element_by_xpath(\"./..\")\n",
    "data = row.text.split(\" \")"
   ]
  },
  {
   "cell_type": "code",
   "execution_count": 97,
   "metadata": {},
   "outputs": [
    {
     "name": "stdout",
     "output_type": "stream",
     "text": [
      "Country: India\n",
      "Total cases: 2,294,438\n",
      "New cases: +27,285\n",
      "Total deaths: 45,597\n",
      "New deaths: +244\n",
      "Active cases: 1,604,119\n",
      "Total recovered: 644,722\n",
      "Serious, critical cases: 8,944\n"
     ]
    }
   ],
   "source": [
    "print(\"Country: \" + country.text)\n",
    "print(\"Total cases: \" + data[2])\n",
    "print(\"New cases: \" + data[3])\n",
    "print(\"Total deaths: \" + data[4])\n",
    "print(\"New deaths: \" + data[5])\n",
    "print(\"Active cases: \" + data[6])\n",
    "print(\"Total recovered: \" + data[7])\n",
    "print(\"Serious, critical cases: \" + data[8])"
   ]
  },
  {
   "cell_type": "code",
   "execution_count": null,
   "metadata": {},
   "outputs": [],
   "source": [
    "# whenever we are creating a webdriver instance, it has to be terminated using driver.quit(). If we do not terminate the opened instances, it starts to use up RAM, which may impact the machine's performance and slow it down.\n",
    "driver.quit()"
   ]
  }
 ],
 "metadata": {
  "kernelspec": {
   "display_name": "Python 3",
   "language": "python",
   "name": "python3"
  },
  "language_info": {
   "codemirror_mode": {
    "name": "ipython",
    "version": 3
   },
   "file_extension": ".py",
   "mimetype": "text/x-python",
   "name": "python",
   "nbconvert_exporter": "python",
   "pygments_lexer": "ipython3",
   "version": "3.8.2"
  },
  "toc": {
   "base_numbering": 1,
   "nav_menu": {},
   "number_sections": true,
   "sideBar": true,
   "skip_h1_title": false,
   "title_cell": "Table of Contents",
   "title_sidebar": "Contents",
   "toc_cell": false,
   "toc_position": {},
   "toc_section_display": true,
   "toc_window_display": false
  }
 },
 "nbformat": 4,
 "nbformat_minor": 4
}