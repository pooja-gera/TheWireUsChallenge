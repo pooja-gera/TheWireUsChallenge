{
 "cells": [
  {
   "cell_type": "code",
   "execution_count": 86,
   "metadata": {},
   "outputs": [],
   "source": [
    "from bs4 import BeautifulSoup\n",
    "import pandas as pd\n",
    "import requests\n",
    "# import the re module\n",
    "import re"
   ]
  },
  {
   "cell_type": "code",
   "execution_count": 87,
   "metadata": {},
   "outputs": [],
   "source": [
    "url=\"https://www.cleveland.com/metro/2017/12/case_western_reserve_university_president_barbara_snyders_base_salary_and_bonus_pay_tops_among_private_colleges_in_ohio.html\""
   ]
  },
  {
   "cell_type": "code",
   "execution_count": 88,
   "metadata": {},
   "outputs": [],
   "source": [
    "# make a GET request to the url\n",
    "response=requests.get(url)"
   ]
  },
  {
   "cell_type": "code",
   "execution_count": 89,
   "metadata": {},
   "outputs": [],
   "source": [
    "# make a Beautiful soup object to parse the data into html\n",
    "soup=BeautifulSoup(response.content)"
   ]
  },
  {
   "cell_type": "code",
   "execution_count": 90,
   "metadata": {},
   "outputs": [],
   "source": [
    "soup=BeautifulSoup(response.content)\n",
    "s=\"\" #empty string which will contain the content we want\n",
    "data=soup.findAll(\"ul\",{\"class\":\"article__unordered-list\"})[0]\n",
    "for li in data:\n",
    "    s+=li.span.text+\" \""
   ]
  },
  {
   "cell_type": "code",
   "execution_count": 91,
   "metadata": {},
   "outputs": [],
   "source": [
    "# finding the names of the presidents\n",
    "NamePattern=re.compile(r\"\\w+?\\.?\\s?\\w+\\s\\w+\\s?\\w+?\\.?,\")\n",
    "names = NamePattern.findall(s)\n",
    "# remove unwanted characters\n",
    "names = [re.sub(r'\\d+\\s', '', n) for n in names]\n",
    "names = [n.replace(',','') for n in names]\n",
    "# remove the unrequiredd field\n",
    "names.remove(\"Antioch College\")"
   ]
  },
  {
   "cell_type": "code",
   "execution_count": 92,
   "metadata": {},
   "outputs": [],
   "source": [
    "# finding the institution name\n",
    "institutePattern=re.compile(r\"(?:,|,\\s)([A-Z]{1}.*?)(?:\\s\\(|:|,)\")\n",
    "institutes = institutePattern.findall(s)"
   ]
  },
  {
   "cell_type": "code",
   "execution_count": 93,
   "metadata": {},
   "outputs": [],
   "source": [
    "# finding the salaries of the presidents\n",
    "salaryPattern=re.compile(r\"\\$\\d+,\\d+\")\n",
    "salaries=salaryPattern.findall(s)"
   ]
  },
  {
   "cell_type": "code",
   "execution_count": 94,
   "metadata": {},
   "outputs": [],
   "source": [
    "# make a dataframe to store the data\n",
    "df=pd.DataFrame(columns=[\"President\",\"Institution\",\"Salary\"])\n",
    "# store the data\n",
    "df.President=names\n",
    "df.Institution=college\n",
    "df.Salary=salaries"
   ]
  },
  {
   "cell_type": "code",
   "execution_count": 96,
   "metadata": {},
   "outputs": [
    {
     "data": {
      "text/html": [
       "<div>\n",
       "<style scoped>\n",
       "    .dataframe tbody tr th:only-of-type {\n",
       "        vertical-align: middle;\n",
       "    }\n",
       "\n",
       "    .dataframe tbody tr th {\n",
       "        vertical-align: top;\n",
       "    }\n",
       "\n",
       "    .dataframe thead th {\n",
       "        text-align: right;\n",
       "    }\n",
       "</style>\n",
       "<table border=\"1\" class=\"dataframe\">\n",
       "  <thead>\n",
       "    <tr style=\"text-align: right;\">\n",
       "      <th></th>\n",
       "      <th>President</th>\n",
       "      <th>Institution</th>\n",
       "      <th>Salary</th>\n",
       "    </tr>\n",
       "  </thead>\n",
       "  <tbody>\n",
       "    <tr>\n",
       "      <th>0</th>\n",
       "      <td>Grant Cornwell</td>\n",
       "      <td>College of Wooster</td>\n",
       "      <td>$911,651</td>\n",
       "    </tr>\n",
       "    <tr>\n",
       "      <th>1</th>\n",
       "      <td>Marvin Krislov</td>\n",
       "      <td>Oberlin College</td>\n",
       "      <td>$829,913</td>\n",
       "    </tr>\n",
       "    <tr>\n",
       "      <th>2</th>\n",
       "      <td>Mark Roosevelt</td>\n",
       "      <td>Antioch College</td>\n",
       "      <td>$507,672</td>\n",
       "    </tr>\n",
       "    <tr>\n",
       "      <th>3</th>\n",
       "      <td>Laurie Joyner</td>\n",
       "      <td>Wittenberg University</td>\n",
       "      <td>$463,504</td>\n",
       "    </tr>\n",
       "    <tr>\n",
       "      <th>4</th>\n",
       "      <td>Richard Giese</td>\n",
       "      <td>University of Mount Union</td>\n",
       "      <td>$453,800</td>\n",
       "    </tr>\n",
       "  </tbody>\n",
       "</table>\n",
       "</div>"
      ],
      "text/plain": [
       "        President                Institution    Salary\n",
       "0  Grant Cornwell         College of Wooster  $911,651\n",
       "1  Marvin Krislov            Oberlin College  $829,913\n",
       "2  Mark Roosevelt            Antioch College  $507,672\n",
       "3   Laurie Joyner      Wittenberg University  $463,504\n",
       "4   Richard Giese  University of Mount Union  $453,800"
      ]
     },
     "execution_count": 96,
     "metadata": {},
     "output_type": "execute_result"
    }
   ],
   "source": [
    "df.head(5)"
   ]
  }
 ],
 "metadata": {
  "kernelspec": {
   "display_name": "Python 3",
   "language": "python",
   "name": "python3"
  },
  "language_info": {
   "codemirror_mode": {
    "name": "ipython",
    "version": 3
   },
   "file_extension": ".py",
   "mimetype": "text/x-python",
   "name": "python",
   "nbconvert_exporter": "python",
   "pygments_lexer": "ipython3",
   "version": "3.8.2"
  },
  "toc": {
   "base_numbering": 1,
   "nav_menu": {},
   "number_sections": true,
   "sideBar": true,
   "skip_h1_title": false,
   "title_cell": "Table of Contents",
   "title_sidebar": "Contents",
   "toc_cell": false,
   "toc_position": {},
   "toc_section_display": true,
   "toc_window_display": false
  }
 },
 "nbformat": 4,
 "nbformat_minor": 4
}
