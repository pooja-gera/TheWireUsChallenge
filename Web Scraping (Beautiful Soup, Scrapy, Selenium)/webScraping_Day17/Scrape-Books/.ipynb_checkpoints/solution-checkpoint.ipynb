{
 "cells": [
  {
   "cell_type": "code",
   "execution_count": null,
   "metadata": {},
   "outputs": [],
   "source": [
    "# import necessary libraries\n",
    "import requests\n",
    "from bs4 import BeautifulSoup\n",
    "import pandas as pd"
   ]
  },
  {
   "cell_type": "code",
   "execution_count": null,
   "metadata": {},
   "outputs": [],
   "source": [
    "title=[]\n",
    "price=[]\n",
    "availability=[]\n",
    "for page in range(1,51):\n",
    "    r=requests.get(\"http://books.toscrape.com/catalogue/page-{}.html\".format(page)) #GET request to a page\n",
    "    soup=BeautifulSoup(r.content)\n",
    "    products=soup.findAll(\"article\",{\"class\":\"product_pod\"})\n",
    "    for product in products:\n",
    "        title.append(product.h3.a.attrs[\"title\"])\n",
    "        price.append(product.find(\"p\",{\"class\":\"price_color\"}).getText())\n",
    "        availability.append(product.find(\"p\",{\"class\":\"instock availability\"}).getText().strip())"
   ]
  },
  {
   "cell_type": "code",
   "execution_count": null,
   "metadata": {},
   "outputs": [],
   "source": [
    "#pandas dataframe to save data\n",
    "df=pd.DataFrame(columns=[\"title\",\"price\",\"availability\"])\n",
    "df[\"title\"]=title\n",
    "df[\"price\"]=price\n",
    "df[\"availability\"]=availability"
   ]
  },
  {
   "cell_type": "code",
   "execution_count": null,
   "metadata": {},
   "outputs": [],
   "source": [
    "df.head()"
   ]
  }
 ],
 "metadata": {
  "kernelspec": {
   "display_name": "Python 3",
   "language": "python",
   "name": "python3"
  },
  "language_info": {
   "codemirror_mode": {
    "name": "ipython",
    "version": 3
   },
   "file_extension": ".py",
   "mimetype": "text/x-python",
   "name": "python",
   "nbconvert_exporter": "python",
   "pygments_lexer": "ipython3",
   "version": "3.8.2"
  },
  "toc": {
   "base_numbering": 1,
   "nav_menu": {},
   "number_sections": true,
   "sideBar": true,
   "skip_h1_title": false,
   "title_cell": "Table of Contents",
   "title_sidebar": "Contents",
   "toc_cell": false,
   "toc_position": {},
   "toc_section_display": true,
   "toc_window_display": false
  }
 },
 "nbformat": 4,
 "nbformat_minor": 4
}
