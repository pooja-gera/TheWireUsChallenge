{
 "cells": [
  {
   "cell_type": "code",
   "execution_count": 104,
   "metadata": {},
   "outputs": [],
   "source": [
    "# import necessary libraries\n",
    "from selenium import webdriver\n",
    "import pandas as pd\n",
    "import time"
   ]
  },
  {
   "cell_type": "code",
   "execution_count": 105,
   "metadata": {},
   "outputs": [],
   "source": [
    "# make a web driver object\n",
    "driver=webdriver.Chrome(\"/Users/jappanjeetsingh/Downloads/Drivers/chromedriver\")"
   ]
  },
  {
   "cell_type": "code",
   "execution_count": 106,
   "metadata": {},
   "outputs": [],
   "source": [
    "# make call to the url u\n",
    "driver.get(\"http://www2.scc.rutgers.edu/memdb/search_form_metzpr.php\")"
   ]
  },
  {
   "cell_type": "code",
   "execution_count": 127,
   "metadata": {},
   "outputs": [],
   "source": [
    "data=[]\n",
    "for page in range(1,6):\n",
    "    table=driver.find_element_by_xpath(\"/html/body/form/main/table/tbody/tr/td[2]/p[3]/table\")\n",
    "    for row in table.find_elements_by_xpath(\".//tr\"):\n",
    "        data.append([td.text for td in row.find_elements_by_xpath(\".//td\")])\n",
    "    \n",
    "    try:\n",
    "        # More commonly found button to navigate to the next page.\n",
    "        button_path = '/html/body/form/main/table/tbody/tr/td[2]/center[3]/input[2]'\n",
    "        driver.find_element_by_xpath(button_path).click()\n",
    "    except:\n",
    "        # Less commonly found button to navigate to the next page. Using this for every page will navigate you to the previous page which we dont want.\n",
    "        button_path = '/html/body/form/main/table/tbody/tr/td[2]/center[3]/input'\n",
    "        driver.find_element_by_xpath(button_path).click()\n",
    "    #optional: waiting to avoid any errors that could occur     \n",
    "    time.sleep(2)"
   ]
  },
  {
   "cell_type": "code",
   "execution_count": 128,
   "metadata": {},
   "outputs": [],
   "source": [
    "# create the dataframe using pandas having the required columns and adding the list of data to it.\n",
    "df=pd.DataFrame(data[1:],columns=[\"Num\",\"Year\",\"Month\",\"Week\",\"Product\",\"Malters sold\",\"Currency\",\"Price/Malter\"])"
   ]
  },
  {
   "cell_type": "code",
   "execution_count": 132,
   "metadata": {},
   "outputs": [
    {
     "data": {
      "text/html": [
       "<div>\n",
       "<style scoped>\n",
       "    .dataframe tbody tr th:only-of-type {\n",
       "        vertical-align: middle;\n",
       "    }\n",
       "\n",
       "    .dataframe tbody tr th {\n",
       "        vertical-align: top;\n",
       "    }\n",
       "\n",
       "    .dataframe thead th {\n",
       "        text-align: right;\n",
       "    }\n",
       "</style>\n",
       "<table border=\"1\" class=\"dataframe\">\n",
       "  <thead>\n",
       "    <tr style=\"text-align: right;\">\n",
       "      <th></th>\n",
       "      <th>Num</th>\n",
       "      <th>Year</th>\n",
       "      <th>Month</th>\n",
       "      <th>Week</th>\n",
       "      <th>Product</th>\n",
       "      <th>Malters sold</th>\n",
       "      <th>Currency</th>\n",
       "      <th>Price/Malter</th>\n",
       "    </tr>\n",
       "  </thead>\n",
       "  <tbody>\n",
       "    <tr>\n",
       "      <th>0</th>\n",
       "      <td>101</td>\n",
       "      <td>1533</td>\n",
       "      <td>7</td>\n",
       "      <td>1</td>\n",
       "      <td>Barley</td>\n",
       "      <td>22</td>\n",
       "      <td>Mark</td>\n",
       "      <td>5</td>\n",
       "    </tr>\n",
       "    <tr>\n",
       "      <th>1</th>\n",
       "      <td>102</td>\n",
       "      <td>1533</td>\n",
       "      <td>7</td>\n",
       "      <td>2</td>\n",
       "      <td>Barley</td>\n",
       "      <td>7</td>\n",
       "      <td>Mark</td>\n",
       "      <td>4.67</td>\n",
       "    </tr>\n",
       "    <tr>\n",
       "      <th>2</th>\n",
       "      <td>103</td>\n",
       "      <td>1533</td>\n",
       "      <td>7</td>\n",
       "      <td>3</td>\n",
       "      <td>Barley</td>\n",
       "      <td>15</td>\n",
       "      <td>Mark</td>\n",
       "      <td>4.67</td>\n",
       "    </tr>\n",
       "    <tr>\n",
       "      <th>3</th>\n",
       "      <td>104</td>\n",
       "      <td>1533</td>\n",
       "      <td>7</td>\n",
       "      <td>4</td>\n",
       "      <td>Barley</td>\n",
       "      <td>19</td>\n",
       "      <td>Mark</td>\n",
       "      <td>4.67</td>\n",
       "    </tr>\n",
       "    <tr>\n",
       "      <th>4</th>\n",
       "      <td>105</td>\n",
       "      <td>1533</td>\n",
       "      <td>7</td>\n",
       "      <td>5</td>\n",
       "      <td>Barley</td>\n",
       "      <td>20</td>\n",
       "      <td>Mark</td>\n",
       "      <td>4.67</td>\n",
       "    </tr>\n",
       "  </tbody>\n",
       "</table>\n",
       "</div>"
      ],
      "text/plain": [
       "    Num   Year Month Week  Product Malters sold Currency Price/Malter\n",
       "0   101   1533     7    1   Barley           22     Mark            5\n",
       "1   102   1533     7    2   Barley            7     Mark         4.67\n",
       "2   103   1533     7    3   Barley           15     Mark         4.67\n",
       "3   104   1533     7    4   Barley           19     Mark         4.67\n",
       "4   105   1533     7    5   Barley           20     Mark         4.67"
      ]
     },
     "execution_count": 132,
     "metadata": {},
     "output_type": "execute_result"
    }
   ],
   "source": [
    "df.head()"
   ]
  }
 ],
 "metadata": {
  "kernelspec": {
   "display_name": "Python 3",
   "language": "python",
   "name": "python3"
  },
  "language_info": {
   "codemirror_mode": {
    "name": "ipython",
    "version": 3
   },
   "file_extension": ".py",
   "mimetype": "text/x-python",
   "name": "python",
   "nbconvert_exporter": "python",
   "pygments_lexer": "ipython3",
   "version": "3.8.2"
  },
  "toc": {
   "base_numbering": 1,
   "nav_menu": {},
   "number_sections": true,
   "sideBar": true,
   "skip_h1_title": false,
   "title_cell": "Table of Contents",
   "title_sidebar": "Contents",
   "toc_cell": false,
   "toc_position": {},
   "toc_section_display": true,
   "toc_window_display": false
  }
 },
 "nbformat": 4,
 "nbformat_minor": 4
}
