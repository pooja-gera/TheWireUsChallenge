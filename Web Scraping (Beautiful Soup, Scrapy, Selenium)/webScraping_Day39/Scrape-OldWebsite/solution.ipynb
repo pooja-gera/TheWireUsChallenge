{
 "cells": [
  {
   "cell_type": "code",
   "execution_count": 104,
   "metadata": {},
   "outputs": [],
   "source": [
    "# import necessary libraries\n",
    "from selenium import webdriver\n",
    "import pandas as pd\n",
    "import time"
   ]
  },
  {
   "cell_type": "code",
   "execution_count": 105,
   "metadata": {},
   "outputs": [],
   "source": [
    "# make a web driver object\n",
    "driver=webdriver.Chrome(\"/Users/jappanjeetsingh/Downloads/Drivers/chromedriver\")"
   ]
  },
  {
   "cell_type": "code",
   "execution_count": 106,
   "metadata": {},
   "outputs": [],
   "source": [
    "# make call to the url \n",
    "driver.get(\"http://www2.scc.rutgers.edu/memdb/search_form_metzpr.php\")"
   ]
  },
  {
   "cell_type": "code",
   "execution_count": 127,
   "metadata": {},
   "outputs": [],
   "source": [
    "data=[]\n",
    "for page in range(1,6):\n",
    "    table=driver.find_element_by_xpath(\"/html/body/form/main/table/tbody/tr/td[2]/p[3]/table\")\n",
    "    for row in table.find_elements_by_xpath(\".//tr\"):\n",
    "        data.append([td.text for td in row.find_elements_by_xpath(\".//td\")])\n",
    "    \n",
    "    try:\n",
    "        # More commonly found button to navigate to the next page.\n",
    "        button = '/html/body/form/main/table/tbody/tr/td[2]/center[3]/input[2]'\n",
    "        driver.find_element_by_xpath(button).click()\n",
    "    except:\n",
    "        # Less commonly found button to navigate to the next page. Using this for every page will navigate you to the previous page which we dont want.\n",
    "        button = '/html/body/form/main/table/tbody/tr/td[2]/center[3]/input'\n",
    "        driver.find_element_by_xpath(button).click()\n",
    "    #optional: waiting to avoid any errors that could occur due to network    \n",
    "    time.sleep(2)"
   ]
  },
  {
   "cell_type": "code",
   "execution_count": 128,
   "metadata": {},
   "outputs": [],
   "source": [
    "# create the dataframe using pandas having the required columns and adding the list of data to it.\n",
    "df=pd.DataFrame(data[1:],columns=[\"Num\",\"Year\",\"Month\",\"Week\",\"Product\",\"Malters sold\",\"Currency\",\"Price/Malter\"])"
   ]
  },
  {
   "cell_type": "code",
   "execution_count": 1,
   "metadata": {},
   "outputs": [],
   "source": [
    "df.head()"
   ]
  }
 ],
 "metadata": {
  "kernelspec": {
   "display_name": "Python 3",
   "language": "python",
   "name": "python3"
  },
  "language_info": {
   "codemirror_mode": {
    "name": "ipython",
    "version": 3
   },
   "file_extension": ".py",
   "mimetype": "text/x-python",
   "name": "python",
   "nbconvert_exporter": "python",
   "pygments_lexer": "ipython3",
   "version": "3.8.2-final"
  },
  "toc": {
   "base_numbering": 1,
   "nav_menu": {},
   "number_sections": true,
   "sideBar": true,
   "skip_h1_title": false,
   "title_cell": "Table of Contents",
   "title_sidebar": "Contents",
   "toc_cell": false,
   "toc_position": {},
   "toc_section_display": true,
   "toc_window_display": false
  }
 },
 "nbformat": 4,
 "nbformat_minor": 4
}