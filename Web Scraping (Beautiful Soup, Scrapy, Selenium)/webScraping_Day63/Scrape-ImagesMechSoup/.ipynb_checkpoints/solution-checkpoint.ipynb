{
 "cells": [
  {
   "cell_type": "code",
   "execution_count": 50,
   "metadata": {},
   "outputs": [],
   "source": [
    "import mechanicalsoup\n",
    "import requests\n",
    "import os\n",
    "import time"
   ]
  },
  {
   "cell_type": "code",
   "execution_count": 51,
   "metadata": {},
   "outputs": [
    {
     "name": "stdout",
     "output_type": "stream",
     "text": [
      "https://www.google.com/imghp?hl=EN\n"
     ]
    }
   ],
   "source": [
    "# creating a headless browser mechanical soup object\n",
    "browser=mechanicalsoup.StatefulBrowser()\n",
    "# specifying the url to google images in which we'll seac for the item\n",
    "url=\"https://www.google.com/imghp?hl=EN\"\n",
    "# open the url\n",
    "browser.open(url)\n",
    "print(browser.get_url())"
   ]
  },
  {
   "cell_type": "code",
   "execution_count": 53,
   "metadata": {},
   "outputs": [],
   "source": [
    "# search for the terms\n",
    "search_terms=[\"tesla model x\",\"tesla model y\",\"tesla model 3\",\"tesla roadster\",\"tesla truck\"]\n",
    "for search_term in search_terms:\n",
    "    \n",
    "    # get HTML\n",
    "    browser.get_current_page()\n",
    "\n",
    "    # finding the input field\n",
    "    browser.select_form()\n",
    "\n",
    "    # inputting the search item\n",
    "    browser[\"q\"]=search_term\n",
    "\n",
    "    # submit the search\n",
    "    response=browser.submit_selected()\n",
    "    \n",
    "    # update the new url\n",
    "    url=browser.get_url()\n",
    "    browser.open(url)\n",
    "    \n",
    "    # get html\n",
    "    page=browser.get_current_page()\n",
    "    all_images=page.findAll(\"img\")\n",
    "    \n",
    "    # targetting the source value only\n",
    "    image_source=[]\n",
    "    for image in all_images:\n",
    "        image=image.get(\"src\")\n",
    "        image_source.append(image)\n",
    "        \n",
    "    # cleaning unwanted urls\n",
    "    image_source=[image for image in image_source if image.startswith(\"https\")]\n",
    "    \n",
    "    # creating a directory for storing images\n",
    "    path=os.getcwd()\n",
    "    path=os.path.join(path,search_term)\n",
    "    os.mkdir(path)\n",
    "    \n",
    "    # storing the images with unique names      \n",
    "    for idx,src in enumerate(image_source):\n",
    "        with open(f\"{path}/image{idx}.jpg\",\"wb\") as f:\n",
    "            r=requests.get(src)\n",
    "            f.write(r.content)\n",
    "    image_source.clear()"
   ]
  }
 ],
 "metadata": {
  "kernelspec": {
   "display_name": "Python 3",
   "language": "python",
   "name": "python3"
  },
  "language_info": {
   "codemirror_mode": {
    "name": "ipython",
    "version": 3
   },
   "file_extension": ".py",
   "mimetype": "text/x-python",
   "name": "python",
   "nbconvert_exporter": "python",
   "pygments_lexer": "ipython3",
   "version": "3.8.2"
  },
  "toc": {
   "base_numbering": 1,
   "nav_menu": {},
   "number_sections": true,
   "sideBar": true,
   "skip_h1_title": false,
   "title_cell": "Table of Contents",
   "title_sidebar": "Contents",
   "toc_cell": false,
   "toc_position": {},
   "toc_section_display": true,
   "toc_window_display": false
  }
 },
 "nbformat": 4,
 "nbformat_minor": 4
}
