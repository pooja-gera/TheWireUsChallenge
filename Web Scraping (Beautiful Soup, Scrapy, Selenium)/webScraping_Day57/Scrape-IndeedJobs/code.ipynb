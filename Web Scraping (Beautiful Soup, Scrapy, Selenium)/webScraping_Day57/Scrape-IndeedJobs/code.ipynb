{
 "cells": [
  {
   "cell_type": "markdown",
   "metadata": {},
   "source": [
    "## Your Tasks:\n",
    "\n",
    "- Scrape the first 100 available search results\n",
    "- Generalize your code to allow searching for different locations/jobs\n",
    "- Pick out information about the URL, job title, and job location\n",
    "- Save the results to a file"
   ]
  },
  {
   "cell_type": "code",
   "execution_count": 1,
   "metadata": {},
   "outputs": [],
   "source": [
    "import requests\n",
    "from bs4 import BeautifulSoup"
   ]
  },
  {
   "cell_type": "markdown",
   "metadata": {},
   "source": [
    "---\n",
    "\n",
    "### Part 1: Inspect\n",
    "\n",
    "- How do the URLs change when you navigate to the next results page?\n",
    "- How do the URLs change when you use a different location and/or job title search?\n",
    "- Which HTML elements contain the link, title, and location of each job?"
   ]
  },
  {
   "cell_type": "markdown",
   "metadata": {},
   "source": [
    "**Next Page**: The `start=` parameter gets added and incremented by the value of `10` for each additional page. This is because each results page displays 10 job results.\n",
    "\n",
    "E.g.: <https://www.indeed.com/jobs?q=python&l=new+york&start=20>"
   ]
  },
  {
   "cell_type": "markdown",
   "metadata": {},
   "source": [
    "**Different Location/Job Title**: The values for the query parameters `q` (for job title) and `l` (for location) change accordingly."
   ]
  },
  {
   "cell_type": "code",
   "execution_count": 2,
   "metadata": {},
   "outputs": [],
   "source": [
    "page = requests.get('https://www.indeed.com/jobs?q=python&l=new+york')"
   ]
  },
  {
   "cell_type": "markdown",
   "metadata": {},
   "source": [
    "**HTML Elements**: A single job posting lives inside of a `div` element with the class name `result`. Inside there are other elements. You can find the specific info you're looking for here:\n",
    "\n",
    "- **Link**: In the `href` attribute of the `<a>` Element that is a child of the title `<h2>` element\n",
    "- **Title**: The text of the link in the `<h2>` element which also contains the link URL mentioned above\n",
    "- **Location**: A `<span>` element with the telling class name `location`"
   ]
  },
  {
   "cell_type": "markdown",
   "metadata": {},
   "source": [
    "---\n",
    "\n",
    "### Part 2: Scrape\n",
    "\n",
    "- Build the code to fetch the first 100 search results. This means you will need to automatically navigate to multiple results pages\n",
    "- Write functions that allow you to specify the job title, location, and amount of results as arguments"
   ]
  },
  {
   "cell_type": "code",
   "execution_count": 3,
   "metadata": {},
   "outputs": [],
   "source": [
    "page_2 = requests.get('https://www.indeed.com/jobs?q=python&l=new+york&start=20')"
   ]
  },
  {
   "cell_type": "markdown",
   "metadata": {},
   "source": [
    "Every 10 results means you're on a new page. Let's make that an argument to a function:"
   ]
  },
  {
   "cell_type": "code",
   "execution_count": 4,
   "metadata": {},
   "outputs": [],
   "source": [
    "def get_jobs(page=1):\n",
    "    \"\"\"Fetches the HTML from a search for Python jobs in New York on Indeed.com from a specified page.\"\"\"\n",
    "    base_url_indeed = 'https://www.indeed.com/jobs?q=python&l=new+york&start='\n",
    "    results_start_num = page*10\n",
    "    url = f'{base_url_indeed}{results_start_num}'\n",
    "    page = requests.get(url)\n",
    "    return page"
   ]
  },
  {
   "cell_type": "code",
   "execution_count": 5,
   "metadata": {},
   "outputs": [
    {
     "data": {
      "text/plain": [
       "<Response [200]>"
      ]
     },
     "execution_count": 5,
     "metadata": {},
     "output_type": "execute_result"
    }
   ],
   "source": [
    "get_jobs(3)"
   ]
  },
  {
   "cell_type": "code",
   "execution_count": 6,
   "metadata": {},
   "outputs": [
    {
     "data": {
      "text/plain": [
       "<Response [200]>"
      ]
     },
     "execution_count": 6,
     "metadata": {},
     "output_type": "execute_result"
    }
   ],
   "source": [
    "get_jobs(4)"
   ]
  },
  {
   "cell_type": "markdown",
   "metadata": {},
   "source": [
    "Great! Let's customize this function some more to allow for different search queries and search locations:"
   ]
  },
  {
   "cell_type": "code",
   "execution_count": 7,
   "metadata": {},
   "outputs": [],
   "source": [
    "def get_jobs(title, location, page=1):\n",
    "    \"\"\"Fetches the HTML from a search for Python jobs in New York on Indeed.com from a specified page.\"\"\"\n",
    "    loc = location.replace(' ', '+')  # for multi-part locations\n",
    "    base_url_indeed = f'https://www.indeed.com/jobs?q={title}&l={loc}&start='\n",
    "    results_start_num = page*10\n",
    "    url = f'{base_url_indeed}{results_start_num}'\n",
    "    page = requests.get(url)\n",
    "    return page"
   ]
  },
  {
   "cell_type": "code",
   "execution_count": 8,
   "metadata": {},
   "outputs": [
    {
     "data": {
      "text/plain": [
       "<Response [200]>"
      ]
     },
     "execution_count": 8,
     "metadata": {},
     "output_type": "execute_result"
    }
   ],
   "source": [
    "get_jobs('python', 'new york', 3)"
   ]
  },
  {
   "cell_type": "markdown",
   "metadata": {},
   "source": [
    "With a generalized way of scraping the page done, you can move on to picking out the information you need by parsing the HTML."
   ]
  },
  {
   "cell_type": "markdown",
   "metadata": {},
   "source": [
    "---\n",
    "\n",
    "### Part 3: Parse\n",
    "\n",
    "- Sieve through your HTML soup to pick out only the job title, link, and location\n",
    "- Format the results in a readable format (e.g. JSON)\n",
    "- Save the results to a file"
   ]
  },
  {
   "cell_type": "markdown",
   "metadata": {},
   "source": [
    "Let's start by getting access to all interesting search results for one page:"
   ]
  },
  {
   "cell_type": "code",
   "execution_count": 9,
   "metadata": {},
   "outputs": [],
   "source": [
    "site = get_jobs('python', 'new york')"
   ]
  },
  {
   "cell_type": "code",
   "execution_count": 10,
   "metadata": {},
   "outputs": [],
   "source": [
    "soup = BeautifulSoup(site.content)"
   ]
  },
  {
   "cell_type": "code",
   "execution_count": 11,
   "metadata": {},
   "outputs": [],
   "source": [
    "results = soup.find(id='resultsCol')"
   ]
  },
  {
   "cell_type": "code",
   "execution_count": 12,
   "metadata": {},
   "outputs": [],
   "source": [
    "jobs = results.find_all('div', class_='result')"
   ]
  },
  {
   "cell_type": "markdown",
   "metadata": {},
   "source": [
    "**Job Titles** can be found like this:"
   ]
  },
  {
   "cell_type": "code",
   "execution_count": 13,
   "metadata": {},
   "outputs": [],
   "source": [
    "job_titles = [job.find('h2').find('a').text.strip() for job in jobs]"
   ]
  },
  {
   "cell_type": "code",
   "execution_count": 14,
   "metadata": {},
   "outputs": [
    {
     "data": {
      "text/plain": [
       "['Data Engineer Internship (REMOTE)',\n",
       " 'Data Scientist Internship (REMOTE)',\n",
       " 'Fraud Intelligence, Data Operations Analyst',\n",
       " 'Data Analyst, Royalties and Accounting',\n",
       " 'Computer Vision Co-Op Internship',\n",
       " 'Software Developer (Work Remotely)',\n",
       " 'Forward Deployed Engineer',\n",
       " 'Data Scientist',\n",
       " 'Junior Laboratory Associate',\n",
       " 'Data Science Intern',\n",
       " 'Technical Recruiter',\n",
       " 'Python Developer - Clearing',\n",
       " 'Python / Perl Dev (Application Development)',\n",
       " 'Assistant Deputy Comptroller - Item # 06585',\n",
       " 'Software Engineer - Python']"
      ]
     },
     "execution_count": 14,
     "metadata": {},
     "output_type": "execute_result"
    }
   ],
   "source": [
    "job_titles"
   ]
  },
  {
   "cell_type": "markdown",
   "metadata": {},
   "source": [
    "**Link URLs** need to be assembled, and can be found like this:"
   ]
  },
  {
   "cell_type": "code",
   "execution_count": 15,
   "metadata": {},
   "outputs": [],
   "source": [
    "base_url = 'https://www.indeed.com'"
   ]
  },
  {
   "cell_type": "code",
   "execution_count": 16,
   "metadata": {},
   "outputs": [],
   "source": [
    "job_links = [base_url + job.find('h2').find('a')['href'] for job in jobs]"
   ]
  },
  {
   "cell_type": "code",
   "execution_count": 17,
   "metadata": {},
   "outputs": [
    {
     "data": {
      "text/plain": [
       "['https://www.indeed.com/rc/clk?jk=230b869a1ae6f0d9&fccid=f0d890633e02e75f&vjs=3',\n",
       " 'https://www.indeed.com/rc/clk?jk=a418287c804bd2e0&fccid=f0d890633e02e75f&vjs=3',\n",
       " 'https://www.indeed.com/rc/clk?jk=9b185f14c1a68aaa&fccid=046813bd6f2871bb&vjs=3',\n",
       " 'https://www.indeed.com/rc/clk?jk=68aa8fc72efce89d&fccid=fe404d18bb9eef1e&vjs=3',\n",
       " 'https://www.indeed.com/rc/clk?jk=d27cdbda643f6fba&fccid=ffd98152d5e973b6&vjs=3',\n",
       " 'https://www.indeed.com/rc/clk?jk=9fe2a2c6c88eb76f&fccid=105ecfd0283f415f&vjs=3',\n",
       " 'https://www.indeed.com/rc/clk?jk=11d921a85988c3a5&fccid=e032d49a262c01c8&vjs=3',\n",
       " 'https://www.indeed.com/rc/clk?jk=1636faa0308fd08f&fccid=1577085fc2290983&vjs=3',\n",
       " 'https://www.indeed.com/rc/clk?jk=7866f9bbf9d0b701&fccid=8077183a161ef0fd&vjs=3',\n",
       " 'https://www.indeed.com/rc/clk?jk=4ca17765619fed16&fccid=f68587a673422855&vjs=3',\n",
       " 'https://www.indeed.com/rc/clk?jk=470fff695259ff95&fccid=363d27976f5fa667&vjs=3',\n",
       " 'https://www.indeed.com/rc/clk?jk=a035a9bc24f8c883&fccid=01b91641951e8886&vjs=3',\n",
       " 'https://www.indeed.com/rc/clk?jk=5bc3a03967df249b&fccid=0c39fb2c91742dcf&vjs=3',\n",
       " 'https://www.indeed.com/rc/clk?jk=84b62668dc0a0e6c&fccid=0fd962242343693a&vjs=3',\n",
       " 'https://www.indeed.com/rc/clk?jk=1c31d11b9c0ba35e&fccid=e57dd60872c14271&vjs=3']"
      ]
     },
     "execution_count": 17,
     "metadata": {},
     "output_type": "execute_result"
    }
   ],
   "source": [
    "job_links"
   ]
  },
  {
   "cell_type": "markdown",
   "metadata": {},
   "source": [
    "**Locations** can be picked out of the soup by their class name:"
   ]
  },
  {
   "cell_type": "code",
   "execution_count": 18,
   "metadata": {},
   "outputs": [],
   "source": [
    "job_locations = [job.find(class_='location').text for job in jobs]"
   ]
  },
  {
   "cell_type": "code",
   "execution_count": 19,
   "metadata": {
    "scrolled": true
   },
   "outputs": [
    {
     "data": {
      "text/plain": [
       "['New York State',\n",
       " 'New York State',\n",
       " 'New York State',\n",
       " 'New York, NY 10011 (Flatiron District area)',\n",
       " 'Clifton Park, NY',\n",
       " 'New York, NY 10003 (Flatiron District area)',\n",
       " 'New York, NY 10002 (Lower East Side area)',\n",
       " 'New York, NY',\n",
       " 'New York, NY 10012 (Greenwich Village area)',\n",
       " 'New York, NY 10006 (Financial District area)',\n",
       " 'New York, NY 10013 (SoHo area)',\n",
       " 'New York, NY 10005 (Financial District area)',\n",
       " 'New York, NY',\n",
       " 'New York, NY 10038 (Financial District area)',\n",
       " 'New York, NY']"
      ]
     },
     "execution_count": 19,
     "metadata": {},
     "output_type": "execute_result"
    }
   ],
   "source": [
    "job_locations"
   ]
  },
  {
   "cell_type": "markdown",
   "metadata": {},
   "source": [
    "Let's assemble all this info into a function, so you can pick out the pieces and save them to a useful data structure:"
   ]
  },
  {
   "cell_type": "code",
   "execution_count": 20,
   "metadata": {},
   "outputs": [],
   "source": [
    "def parse_info(soup):\n",
    "    \"\"\"\n",
    "    Parses HTML containing job postings and picks out job title, location, and link.\n",
    "    \n",
    "    args:\n",
    "    soup (BeautifulSoup object): A parsed bs4.BeautifulSoup object of a search results page on indeed.com\n",
    "    \n",
    "    returns:\n",
    "    job_list (list): A list of dictionaries containing the title, link, and location of each job posting\n",
    "    \"\"\"\n",
    "    results = soup.find(id='resultsCol')\n",
    "    jobs = results.find_all('div', class_='result')\n",
    "    base_url = 'https://www.indeed.com'\n",
    "\n",
    "    job_list = list()\n",
    "    for job in jobs:\n",
    "        title = job.find('h2').find('a').text.strip()\n",
    "        link = base_url + job.find('h2').find('a')['href']\n",
    "        location = job.find(class_='location').text\n",
    "        job_list.append({'title': title, 'link': link, 'location': location})\n",
    "\n",
    "    return job_list"
   ]
  },
  {
   "cell_type": "markdown",
   "metadata": {},
   "source": [
    "Let's give it a try:"
   ]
  },
  {
   "cell_type": "code",
   "execution_count": 21,
   "metadata": {},
   "outputs": [],
   "source": [
    "page = get_jobs('python', 'new_york')"
   ]
  },
  {
   "cell_type": "code",
   "execution_count": 22,
   "metadata": {},
   "outputs": [],
   "source": [
    "soup = BeautifulSoup(page.content)"
   ]
  },
  {
   "cell_type": "code",
   "execution_count": 23,
   "metadata": {},
   "outputs": [],
   "source": [
    "results = parse_info(soup)"
   ]
  },
  {
   "cell_type": "code",
   "execution_count": 24,
   "metadata": {},
   "outputs": [
    {
     "data": {
      "text/plain": [
       "[{'title': 'Junior Software Engineer',\n",
       "  'link': 'https://www.indeed.com/rc/clk?jk=611147834ac53ea4&fccid=5eb16c6eab3dc5ef&vjs=3',\n",
       "  'location': 'Long Island City, NY 11101'},\n",
       " {'title': 'Data Strategy & Operations Associate',\n",
       "  'link': 'https://www.indeed.com/rc/clk?jk=d63a6ea80c6f91ea&fccid=facc18fe475dac15&vjs=3',\n",
       "  'location': 'New York, NY'},\n",
       " {'title': 'Python Developer',\n",
       "  'link': 'https://www.indeed.com/rc/clk?jk=ff6aa54312d72b56&fccid=c2a63affe8751868&vjs=3',\n",
       "  'location': 'New York, NY 10271 (Financial District area)'},\n",
       " {'title': 'Content Contributor: Data Science',\n",
       "  'link': 'https://www.indeed.com/rc/clk?jk=4376c8c660c60538&fccid=b9d4e9eceb3ff4c0&vjs=3',\n",
       "  'location': 'New York State'},\n",
       " {'title': 'Apprentice Conversion - Entry-Level Software Developer',\n",
       "  'link': 'https://www.indeed.com/rc/clk?jk=49f1e9e8766bb5cf&fccid=de71a49b535e21cb&vjs=3',\n",
       "  'location': 'Poughkeepsie, NY 12601'},\n",
       " {'title': 'Data Engineer Internship (REMOTE)',\n",
       "  'link': 'https://www.indeed.com/rc/clk?jk=230b869a1ae6f0d9&fccid=f0d890633e02e75f&vjs=3',\n",
       "  'location': 'New York State'},\n",
       " {'title': 'Data Scientist Internship (REMOTE)',\n",
       "  'link': 'https://www.indeed.com/rc/clk?jk=a418287c804bd2e0&fccid=f0d890633e02e75f&vjs=3',\n",
       "  'location': 'New York State'},\n",
       " {'title': 'Fraud Intelligence, Data Operations Analyst',\n",
       "  'link': 'https://www.indeed.com/rc/clk?jk=9b185f14c1a68aaa&fccid=046813bd6f2871bb&vjs=3',\n",
       "  'location': 'New York State'},\n",
       " {'title': 'Data Analyst, Royalties and Accounting',\n",
       "  'link': 'https://www.indeed.com/rc/clk?jk=68aa8fc72efce89d&fccid=fe404d18bb9eef1e&vjs=3',\n",
       "  'location': 'New York, NY 10011 (Flatiron District area)'},\n",
       " {'title': 'Computer Vision Co-Op Internship',\n",
       "  'link': 'https://www.indeed.com/rc/clk?jk=d27cdbda643f6fba&fccid=ffd98152d5e973b6&vjs=3',\n",
       "  'location': 'Clifton Park, NY'}]"
      ]
     },
     "execution_count": 24,
     "metadata": {},
     "output_type": "execute_result"
    }
   ],
   "source": [
    "results"
   ]
  },
  {
   "cell_type": "markdown",
   "metadata": {},
   "source": [
    "And let's add a final step of generalization:"
   ]
  },
  {
   "cell_type": "code",
   "execution_count": 25,
   "metadata": {},
   "outputs": [],
   "source": [
    "def get_job_listings(title, location, amount=100):\n",
    "    results = list()\n",
    "    for page in range(amount//10):\n",
    "        site = get_jobs(title, location, page=page)\n",
    "        soup = BeautifulSoup(site.content)\n",
    "        page_results = parse_info(soup)\n",
    "        results += page_results\n",
    "    return results"
   ]
  },
  {
   "cell_type": "code",
   "execution_count": 26,
   "metadata": {},
   "outputs": [],
   "source": [
    "r = get_job_listings('python', 'new york', 100)"
   ]
  },
  {
   "cell_type": "code",
   "execution_count": 27,
   "metadata": {},
   "outputs": [
    {
     "data": {
      "text/plain": [
       "135"
      ]
     },
     "execution_count": 27,
     "metadata": {},
     "output_type": "execute_result"
    }
   ],
   "source": [
    "len(r)"
   ]
  },
  {
   "cell_type": "code",
   "execution_count": 29,
   "metadata": {},
   "outputs": [
    {
     "data": {
      "text/plain": [
       "[{'title': 'Junior Python Developer',\n",
       "  'link': 'https://www.indeed.com/rc/clk?jk=f8f068da6dd93fa6&fccid=ca7680692810259a&vjs=3',\n",
       "  'location': 'New York, NY 10022 (Midtown area)'},\n",
       " {'title': \"Mosaic Group's Free Artificial Intelligence Academy\",\n",
       "  'link': 'https://www.indeed.com/rc/clk?jk=420abc44f8e74252&fccid=bb2c5b251a31bfc4&vjs=3',\n",
       "  'location': 'New York State'},\n",
       " {'title': 'Python Developer',\n",
       "  'link': 'https://www.indeed.com/rc/clk?jk=f61cf22d1bc1088d&fccid=0c39fb2c91742dcf&vjs=3',\n",
       "  'location': 'New York, NY'},\n",
       " {'title': 'Penetration Testing Trainee (Remote USA)',\n",
       "  'link': 'https://www.indeed.com/rc/clk?jk=487b30db63184515&fccid=bf0600f0f252b45b&vjs=3',\n",
       "  'location': 'Florida, NY'},\n",
       " {'title': 'Data Technician (Full- or Part-Time)',\n",
       "  'link': 'https://www.indeed.com/rc/clk?jk=da727c0cddda240e&fccid=56a26d4c816e53d1&vjs=3',\n",
       "  'location': 'New York, NY 10003 (Greenwich Village area)'},\n",
       " {'title': 'Software Engineer Internship (REMOTE)',\n",
       "  'link': 'https://www.indeed.com/rc/clk?jk=7a463a438ef39d0b&fccid=f0d890633e02e75f&vjs=3',\n",
       "  'location': 'New York State'},\n",
       " {'title': 'Fall 2020 Virtual Intern- HBOMax Information Security',\n",
       "  'link': 'https://www.indeed.com/rc/clk?jk=7a709ea3e550069d&fccid=a710372f724c1e2e&vjs=3',\n",
       "  'location': 'New York, NY'},\n",
       " {'title': 'Senior Full Stack Developer - Python',\n",
       "  'link': 'https://www.indeed.com/rc/clk?jk=89f446f4aee2c2ee&fccid=1b0043cf80779505&vjs=3',\n",
       "  'location': 'New York, NY 10014 (SoHo area)'},\n",
       " {'title': 'Junior Software Engineer',\n",
       "  'link': 'https://www.indeed.com/rc/clk?jk=611147834ac53ea4&fccid=5eb16c6eab3dc5ef&vjs=3',\n",
       "  'location': 'Long Island City, NY 11101'},\n",
       " {'title': 'Data Engineer - Python, SQL and Airflow-New York, NY-CGEMJP0...',\n",
       "  'link': 'https://www.indeed.com/rc/clk?jk=87ae010273a5847d&fccid=b868f07d84101767&vjs=3',\n",
       "  'location': 'New York, NY 10035 (Harlem area)'},\n",
       " {'title': 'Data Strategy & Operations Associate',\n",
       "  'link': 'https://www.indeed.com/rc/clk?jk=d63a6ea80c6f91ea&fccid=facc18fe475dac15&vjs=3',\n",
       "  'location': 'New York, NY'},\n",
       " {'title': 'Data Journalist',\n",
       "  'link': 'https://www.indeed.com/rc/clk?jk=4d9d2519f0b7a069&fccid=e35c5b96d66d895e&vjs=3',\n",
       "  'location': 'New York, NY 10012 (SoHo area)'},\n",
       " {'title': 'Content Contributor: Data Science',\n",
       "  'link': 'https://www.indeed.com/rc/clk?jk=4376c8c660c60538&fccid=b9d4e9eceb3ff4c0&vjs=3',\n",
       "  'location': 'New York State'},\n",
       " {'title': 'Data Engineer Internship (REMOTE)',\n",
       "  'link': 'https://www.indeed.com/rc/clk?jk=230b869a1ae6f0d9&fccid=f0d890633e02e75f&vjs=3',\n",
       "  'location': 'New York State'},\n",
       " {'title': 'Python Developer',\n",
       "  'link': 'https://www.indeed.com/rc/clk?jk=ff6aa54312d72b56&fccid=c2a63affe8751868&vjs=3',\n",
       "  'location': 'New York, NY 10271 (Financial District area)'},\n",
       " {'title': 'Apprentice Conversion - Entry-Level Software Developer',\n",
       "  'link': 'https://www.indeed.com/rc/clk?jk=49f1e9e8766bb5cf&fccid=de71a49b535e21cb&vjs=3',\n",
       "  'location': 'Poughkeepsie, NY 12601'},\n",
       " {'title': 'Fraud Intelligence, Data Operations Analyst',\n",
       "  'link': 'https://www.indeed.com/rc/clk?jk=9b185f14c1a68aaa&fccid=046813bd6f2871bb&vjs=3',\n",
       "  'location': 'New York State'},\n",
       " {'title': 'Data Scientist Internship (REMOTE)',\n",
       "  'link': 'https://www.indeed.com/rc/clk?jk=a418287c804bd2e0&fccid=f0d890633e02e75f&vjs=3',\n",
       "  'location': 'New York State'},\n",
       " {'title': 'Computer Vision Co-Op Internship',\n",
       "  'link': 'https://www.indeed.com/rc/clk?jk=d27cdbda643f6fba&fccid=ffd98152d5e973b6&vjs=3',\n",
       "  'location': 'Clifton Park, NY'},\n",
       " {'title': 'Junior Laboratory Associate',\n",
       "  'link': 'https://www.indeed.com/rc/clk?jk=7866f9bbf9d0b701&fccid=8077183a161ef0fd&vjs=3',\n",
       "  'location': 'New York, NY 10012 (Greenwich Village area)'},\n",
       " {'title': 'Data Analyst, Royalties and Accounting',\n",
       "  'link': 'https://www.indeed.com/rc/clk?jk=68aa8fc72efce89d&fccid=fe404d18bb9eef1e&vjs=3',\n",
       "  'location': 'New York, NY 10011 (Flatiron District area)'},\n",
       " {'title': 'Data Science Intern',\n",
       "  'link': 'https://www.indeed.com/rc/clk?jk=4ca17765619fed16&fccid=f68587a673422855&vjs=3',\n",
       "  'location': 'New York, NY 10006 (Financial District area)'},\n",
       " {'title': 'Forward Deployed Engineer',\n",
       "  'link': 'https://www.indeed.com/rc/clk?jk=11d921a85988c3a5&fccid=e032d49a262c01c8&vjs=3',\n",
       "  'location': 'New York, NY 10002 (Lower East Side area)'},\n",
       " {'title': 'Data Scientist',\n",
       "  'link': 'https://www.indeed.com/rc/clk?jk=1636faa0308fd08f&fccid=1577085fc2290983&vjs=3',\n",
       "  'location': 'New York, NY'},\n",
       " {'title': 'Technical Recruiter',\n",
       "  'link': 'https://www.indeed.com/rc/clk?jk=470fff695259ff95&fccid=363d27976f5fa667&vjs=3',\n",
       "  'location': 'New York, NY 10013 (SoHo area)'},\n",
       " {'title': 'Software Developer (Work Remotely)',\n",
       "  'link': 'https://www.indeed.com/rc/clk?jk=9fe2a2c6c88eb76f&fccid=105ecfd0283f415f&vjs=3',\n",
       "  'location': 'New York, NY 10003 (Flatiron District area)'},\n",
       " {'title': 'Assistant Deputy Comptroller - Item # 06585',\n",
       "  'link': 'https://www.indeed.com/rc/clk?jk=84b62668dc0a0e6c&fccid=0fd962242343693a&vjs=3',\n",
       "  'location': 'New York, NY 10038 (Financial District area)'},\n",
       " {'title': 'Python Developer - Clearing',\n",
       "  'link': 'https://www.indeed.com/rc/clk?jk=a035a9bc24f8c883&fccid=01b91641951e8886&vjs=3',\n",
       "  'location': 'New York, NY 10005 (Financial District area)'},\n",
       " {'title': 'Python / Perl Dev (Application Development)',\n",
       "  'link': 'https://www.indeed.com/rc/clk?jk=5bc3a03967df249b&fccid=0c39fb2c91742dcf&vjs=3',\n",
       "  'location': 'New York, NY'},\n",
       " {'title': 'Editorial Production Associate, The New Yorker',\n",
       "  'link': 'https://www.indeed.com/rc/clk?jk=3ecb7c1d250a060f&fccid=7ca1385998532a85&vjs=3',\n",
       "  'location': 'New York, NY 10007 (Financial District area)'},\n",
       " {'title': 'Frontend Engineer',\n",
       "  'link': 'https://www.indeed.com/rc/clk?jk=cfb10c2fe6f989d9&fccid=435926113439e52e&vjs=3',\n",
       "  'location': 'New York, NY'},\n",
       " {'title': 'Data Engineer',\n",
       "  'link': 'https://www.indeed.com/rc/clk?jk=b293ec73c443f43c&fccid=ae4c0182fd37ef13&vjs=3',\n",
       "  'location': 'New York, NY'},\n",
       " {'title': 'Junior Portfolio Manager Inflation Linked Debt Team',\n",
       "  'link': 'https://www.indeed.com/rc/clk?jk=be823bf1c2ed5c64&fccid=1392500f835bba92&vjs=3',\n",
       "  'location': 'New York, NY'},\n",
       " {'title': 'Editorial Production Associate, The New Yorker',\n",
       "  'link': 'https://www.indeed.com/rc/clk?jk=3ecb7c1d250a060f&fccid=7ca1385998532a85&vjs=3',\n",
       "  'location': 'New York, NY 10007 (Financial District area)'},\n",
       " {'title': 'Data Scientist',\n",
       "  'link': 'https://www.indeed.com/rc/clk?jk=e1073ebbf5a96b86&fccid=0773ac3d4e33a966&vjs=3',\n",
       "  'location': 'New York State'},\n",
       " {'title': 'Software Engineer - Internship',\n",
       "  'link': 'https://www.indeed.com/rc/clk?jk=35f5172589c18d80&fccid=1b3df0faac85255e&vjs=3',\n",
       "  'location': 'New York, NY'},\n",
       " {'title': 'Computer Vision Research Interns',\n",
       "  'link': 'https://www.indeed.com/rc/clk?jk=908376edb379a7ec&fccid=ffd98152d5e973b6&vjs=3',\n",
       "  'location': 'Clifton Park, NY'},\n",
       " {'title': 'Data Scientist',\n",
       "  'link': 'https://www.indeed.com/rc/clk?jk=5247c00d10cc43e8&fccid=5b63e967a659d38e&vjs=3',\n",
       "  'location': 'Manhattan, NY'},\n",
       " {'title': 'Software Engineer, Observability',\n",
       "  'link': 'https://www.indeed.com/rc/clk?jk=9b6665a2bbe602a4&fccid=8f058a4520929e26&vjs=3',\n",
       "  'location': 'New York, NY'},\n",
       " {'title': 'C++ Developer (INTERN)',\n",
       "  'link': 'https://www.indeed.com/rc/clk?jk=dc047d997412893d&fccid=4f36cf717ed1367b&vjs=3',\n",
       "  'location': 'New York, NY 10017 (Midtown area)'},\n",
       " {'title': 'Business Intelligence Analyst',\n",
       "  'link': 'https://www.indeed.com/rc/clk?jk=d9696460f1b5d1ab&fccid=915628603ff911ad&vjs=3',\n",
       "  'location': 'Long Island City, NY 11101'},\n",
       " {'title': 'Group Economic Research and Strategy - Intern/Contract Role',\n",
       "  'link': 'https://www.indeed.com/rc/clk?jk=0d0cad7ff9b11a36&fccid=ce527f971de2a93a&vjs=3',\n",
       "  'location': 'Armonk, NY 10504'},\n",
       " {'title': 'Python Software Developer',\n",
       "  'link': 'https://www.indeed.com/rc/clk?jk=816ed6a12da63b68&fccid=66e1f4a3e0832700&vjs=3',\n",
       "  'location': 'Rochester, NY 14623'},\n",
       " {'title': 'Data Scientist',\n",
       "  'link': 'https://www.indeed.com/rc/clk?jk=8d14533982422e61&fccid=b4df24bc350094d0&vjs=3',\n",
       "  'location': 'New York, NY'},\n",
       " {'title': 'Python Strategy Implementation Developer',\n",
       "  'link': 'https://www.indeed.com/rc/clk?jk=68e2d9e30a6a1e57&fccid=e72c2ef86157888a&vjs=3',\n",
       "  'location': 'New York, NY 10010 (Flatiron District area)'},\n",
       " {'title': 'Data Scientist',\n",
       "  'link': 'https://www.indeed.com/rc/clk?jk=5247c00d10cc43e8&fccid=5b63e967a659d38e&vjs=3',\n",
       "  'location': 'Manhattan, NY'},\n",
       " {'title': 'Data Scientist',\n",
       "  'link': 'https://www.indeed.com/rc/clk?jk=8d14533982422e61&fccid=b4df24bc350094d0&vjs=3',\n",
       "  'location': 'New York, NY'},\n",
       " {'title': 'Software Engineer - Internship',\n",
       "  'link': 'https://www.indeed.com/rc/clk?jk=35f5172589c18d80&fccid=1b3df0faac85255e&vjs=3',\n",
       "  'location': 'New York, NY'},\n",
       " {'title': 'Python Hacker - Machine Learning',\n",
       "  'link': 'https://www.indeed.com/rc/clk?jk=570b70628645883d&fccid=0c39fb2c91742dcf&vjs=3',\n",
       "  'location': 'New York, NY'},\n",
       " {'title': 'Algo Software Engineer (C++/Python)',\n",
       "  'link': 'https://www.indeed.com/rc/clk?jk=c7c193ae35f5bad7&fccid=01b91641951e8886&vjs=3',\n",
       "  'location': 'New York, NY 10005 (Financial District area)'},\n",
       " {'title': 'Junior Business Analyst',\n",
       "  'link': 'https://www.indeed.com/rc/clk?jk=45c3752ac3bd59da&fccid=5eb16c6eab3dc5ef&vjs=3',\n",
       "  'location': 'Long Island City, NY 11101'},\n",
       " {'title': 'Research Assistant',\n",
       "  'link': 'https://www.indeed.com/rc/clk?jk=939d34c914293d2a&fccid=bd976cc171c690e0&vjs=3',\n",
       "  'location': 'New York, NY'},\n",
       " {'title': 'Data Scientist',\n",
       "  'link': 'https://www.indeed.com/rc/clk?jk=4f523338f8659ca4&fccid=e75ab46e12b5582d&vjs=3',\n",
       "  'location': 'New York, NY'},\n",
       " {'title': 'Software Engineer Intern',\n",
       "  'link': 'https://www.indeed.com/rc/clk?jk=bad2b818f1b3c28c&fccid=30cc7a5451d4ee77&vjs=3',\n",
       "  'location': 'Troy, NY'},\n",
       " {'title': 'Machine Learning Engineer',\n",
       "  'link': 'https://www.indeed.com/rc/clk?jk=d12eb716d4f210c6&fccid=6867c53ddcaa8459&vjs=3',\n",
       "  'location': 'New York State'},\n",
       " {'title': 'Software Assurance Engineer, Junior',\n",
       "  'link': 'https://www.indeed.com/rc/clk?jk=5a709a4cf00fbd76&fccid=4e041af1d0af1bc8&vjs=3',\n",
       "  'location': 'New York, NY 10036 (Garment District area)'},\n",
       " {'title': 'Senior Systems Engineer',\n",
       "  'link': 'https://www.indeed.com/rc/clk?jk=fa66673b83c6eac6&fccid=d5d7a01768467aaa&vjs=3',\n",
       "  'location': 'New York State'},\n",
       " {'title': 'Data Analyst - Predictive Modeler',\n",
       "  'link': 'https://www.indeed.com/rc/clk?jk=b03042c1fa9ee61c&fccid=d440534677583830&vjs=3',\n",
       "  'location': 'New York, NY 10016 (Murray Hill area)'},\n",
       " {'title': 'Quantitative Software Engineer (Python)',\n",
       "  'link': 'https://www.indeed.com/rc/clk?jk=b4f5f2630da6d94a&fccid=01b91641951e8886&vjs=3',\n",
       "  'location': 'New York, NY 10005 (Financial District area)'},\n",
       " {'title': 'Software Engineer, Backend',\n",
       "  'link': 'https://www.indeed.com/rc/clk?jk=2134c7942751417c&fccid=1b3df0faac85255e&vjs=3',\n",
       "  'location': 'New York, NY'},\n",
       " {'title': 'Quantitative Researcher - Internship',\n",
       "  'link': 'https://www.indeed.com/rc/clk?jk=7fc681ef6b68c4fa&fccid=facc18fe475dac15&vjs=3',\n",
       "  'location': 'New York, NY'},\n",
       " {'title': 'C++ Developer (INTERN)',\n",
       "  'link': 'https://www.indeed.com/rc/clk?jk=dc047d997412893d&fccid=4f36cf717ed1367b&vjs=3',\n",
       "  'location': 'New York, NY 10017 (Midtown area)'},\n",
       " {'title': 'Business Intelligence Analyst',\n",
       "  'link': 'https://www.indeed.com/rc/clk?jk=d9696460f1b5d1ab&fccid=915628603ff911ad&vjs=3',\n",
       "  'location': 'Long Island City, NY 11101'},\n",
       " {'title': 'Group Economic Research and Strategy - Intern/Contract Role',\n",
       "  'link': 'https://www.indeed.com/rc/clk?jk=0d0cad7ff9b11a36&fccid=ce527f971de2a93a&vjs=3',\n",
       "  'location': 'Armonk, NY 10504'},\n",
       " {'title': 'Software Engineer, Observability',\n",
       "  'link': 'https://www.indeed.com/rc/clk?jk=9b6665a2bbe602a4&fccid=8f058a4520929e26&vjs=3',\n",
       "  'location': 'New York, NY'},\n",
       " {'title': 'Data Scientist',\n",
       "  'link': 'https://www.indeed.com/rc/clk?jk=5247c00d10cc43e8&fccid=5b63e967a659d38e&vjs=3',\n",
       "  'location': 'Manhattan, NY'},\n",
       " {'title': 'Data Scientist',\n",
       "  'link': 'https://www.indeed.com/rc/clk?jk=8d14533982422e61&fccid=b4df24bc350094d0&vjs=3',\n",
       "  'location': 'New York, NY'},\n",
       " {'title': 'Software Engineer - Internship',\n",
       "  'link': 'https://www.indeed.com/rc/clk?jk=35f5172589c18d80&fccid=1b3df0faac85255e&vjs=3',\n",
       "  'location': 'New York, NY'},\n",
       " {'title': 'Python Hacker - Machine Learning',\n",
       "  'link': 'https://www.indeed.com/rc/clk?jk=570b70628645883d&fccid=0c39fb2c91742dcf&vjs=3',\n",
       "  'location': 'New York, NY'},\n",
       " {'title': 'Algo Software Engineer (C++/Python)',\n",
       "  'link': 'https://www.indeed.com/rc/clk?jk=c7c193ae35f5bad7&fccid=01b91641951e8886&vjs=3',\n",
       "  'location': 'New York, NY 10005 (Financial District area)'},\n",
       " {'title': 'Creative Operations Coordinator : 20-02230',\n",
       "  'link': 'https://www.indeed.com/rc/clk?jk=2cff5d2c13ddc8c5&fccid=474b9602e1305593&vjs=3',\n",
       "  'location': 'New York, NY 10011 (Chelsea area)'},\n",
       " {'title': 'Subject Matter Expert: Backend Web Development',\n",
       "  'link': 'https://www.indeed.com/rc/clk?jk=3aa87baa34e5ea4b&fccid=b9d4e9eceb3ff4c0&vjs=3',\n",
       "  'location': 'New York State'},\n",
       " {'title': 'Quantitative Researcher - Internship',\n",
       "  'link': 'https://www.indeed.com/rc/clk?jk=7fc681ef6b68c4fa&fccid=facc18fe475dac15&vjs=3',\n",
       "  'location': 'New York, NY'},\n",
       " {'title': 'Junior Business Analyst',\n",
       "  'link': 'https://www.indeed.com/rc/clk?jk=45c3752ac3bd59da&fccid=5eb16c6eab3dc5ef&vjs=3',\n",
       "  'location': 'Long Island City, NY 11101'},\n",
       " {'title': 'TradeOps Developer - NYC (Python)',\n",
       "  'link': 'https://www.indeed.com/rc/clk?jk=b3ce044ac4b73644&fccid=01b91641951e8886&vjs=3',\n",
       "  'location': 'New York, NY 10005 (Financial District area)'},\n",
       " {'title': 'Software Engineer Intern',\n",
       "  'link': 'https://www.indeed.com/rc/clk?jk=bad2b818f1b3c28c&fccid=30cc7a5451d4ee77&vjs=3',\n",
       "  'location': 'Troy, NY'},\n",
       " {'title': 'Data Scientist',\n",
       "  'link': 'https://www.indeed.com/rc/clk?jk=a85e8c19ca219c49&fccid=046813bd6f2871bb&vjs=3',\n",
       "  'location': 'New York, NY 10010 (Flatiron District area)'},\n",
       " {'title': 'Quantitative/Data Analyst Intern',\n",
       "  'link': 'https://www.indeed.com/rc/clk?jk=018ed0ca7a7ce1a2&fccid=2b84f8204d39aa3a&vjs=3',\n",
       "  'location': 'New York, NY'},\n",
       " {'title': 'Software Assurance Engineer, Junior',\n",
       "  'link': 'https://www.indeed.com/rc/clk?jk=5a709a4cf00fbd76&fccid=4e041af1d0af1bc8&vjs=3',\n",
       "  'location': 'New York, NY 10036 (Garment District area)'},\n",
       " {'title': 'Computer Scientist',\n",
       "  'link': 'https://www.indeed.com/rc/clk?jk=5b0e36598638ab5a&fccid=eb24c57e72a85c13&vjs=3',\n",
       "  'location': 'Buffalo, NY'},\n",
       " {'title': 'Software Engineer, Data',\n",
       "  'link': 'https://www.indeed.com/rc/clk?jk=5250b6633f5ed85c&fccid=2ddbc08fb5c49732&vjs=3',\n",
       "  'location': 'New York, NY'},\n",
       " {'title': 'Full Stack Developer',\n",
       "  'link': 'https://www.indeed.com/rc/clk?jk=470c00aa06f17d0d&fccid=9df1e83adac21eb3&vjs=3',\n",
       "  'location': 'Port Jefferson Station, NY 11776'},\n",
       " {'title': 'Python Developer',\n",
       "  'link': 'https://www.indeed.com/rc/clk?jk=d22ff5825ca3ff53&fccid=10b01ad79751d722&vjs=3',\n",
       "  'location': 'New York, NY'},\n",
       " {'title': 'Data Analyst',\n",
       "  'link': 'https://www.indeed.com/rc/clk?jk=524041b9f0e8babd&fccid=a6dcbec0fe72d871&vjs=3',\n",
       "  'location': 'New York, NY 10014 (SoHo area)'},\n",
       " {'title': 'Research Staff Member - Quantum',\n",
       "  'link': 'https://www.indeed.com/rc/clk?jk=9591a0304d17fbca&fccid=de71a49b535e21cb&vjs=3',\n",
       "  'location': 'Yorktown Heights, NY 10598'},\n",
       " {'title': 'Software Engineer: Platform Core',\n",
       "  'link': 'https://www.indeed.com/rc/clk?jk=16eb25182af4b90e&fccid=61a3c30968b3442a&vjs=3',\n",
       "  'location': 'New York State'},\n",
       " {'title': 'Analyst, Workforce Planning',\n",
       "  'link': 'https://www.indeed.com/rc/clk?jk=f518506964ddcb17&fccid=b36c94d1cb5b3ddc&vjs=3',\n",
       "  'location': 'New York, NY 10018 (Garment District area)'},\n",
       " {'title': 'Software Engineer Intern (Temporary)',\n",
       "  'link': 'https://www.indeed.com/rc/clk?jk=c3ad4a6152d8751d&fccid=30cc7a5451d4ee77&vjs=3',\n",
       "  'location': 'Troy, NY'},\n",
       " {'title': 'Full Stack LAMP Developer',\n",
       "  'link': 'https://www.indeed.com/rc/clk?jk=3b4599d78efdc65b&fccid=c6740ca0f8a588b9&vjs=3',\n",
       "  'location': 'New York, NY'},\n",
       " {'title': 'Portfolio Associate - Equity',\n",
       "  'link': 'https://www.indeed.com/rc/clk?jk=6c598efa1edae98b&fccid=2d949908fcb6b985&vjs=3',\n",
       "  'location': 'New York, NY'},\n",
       " {'title': 'Software Engineer',\n",
       "  'link': 'https://www.indeed.com/rc/clk?jk=8ad7f3909255c1c0&fccid=448951d0ddf03e0c&vjs=3',\n",
       "  'location': 'New York, NY'},\n",
       " {'title': 'RIGGER (Freelance)',\n",
       "  'link': 'https://www.indeed.com/rc/clk?jk=4a6092cd9c2dbd5b&fccid=ce4631aa25c33124&vjs=3',\n",
       "  'location': 'New York, NY 10002 (Lower East Side area)'},\n",
       " {'title': 'Full Stack Python Developer with Django NEW',\n",
       "  'link': 'https://www.indeed.com/rc/clk?jk=44de6dc964947e03&fccid=7430123989f080fa&vjs=3',\n",
       "  'location': 'New York, NY 10018 (Garment District area)'},\n",
       " {'title': 'Software Engineer',\n",
       "  'link': 'https://www.indeed.com/rc/clk?jk=1dca0aaf0dfff8b6&fccid=6bab5fc4ce26f101&vjs=3',\n",
       "  'location': 'New York, NY'},\n",
       " {'title': 'Forward Deployed Software Engineer, Internship',\n",
       "  'link': 'https://www.indeed.com/rc/clk?jk=d28b57559b724f05&fccid=c47ef3947291e221&vjs=3',\n",
       "  'location': 'New York, NY 10014 (West Village area)'},\n",
       " {'title': 'Data Engineer, BI Engineering (Python/SQL)',\n",
       "  'link': 'https://www.indeed.com/rc/clk?jk=65b206b832d694e6&fccid=73a66bd1ffb12cba&vjs=3',\n",
       "  'location': 'New York, NY'},\n",
       " {'title': 'GIS Analyst',\n",
       "  'link': 'https://www.indeed.com/rc/clk?jk=b2d4d48780558c65&fccid=7690d1268f298c33&vjs=3',\n",
       "  'location': 'New York, NY 11201 (Fort Greene area)'},\n",
       " {'title': '2021 Key Technology, Operations and Services Internship - Al...',\n",
       "  'link': 'https://www.indeed.com/rc/clk?jk=458af1f9c449adca&fccid=23db8b01ff3384c2&vjs=3',\n",
       "  'location': 'Albany, NY 12206 (West Hill area)'},\n",
       " {'title': 'Technical Analyst',\n",
       "  'link': 'https://www.indeed.com/rc/clk?jk=df5d9b4ca2ae5293&fccid=7074185bd7d0c1bb&vjs=3',\n",
       "  'location': 'New York, NY'},\n",
       " {'title': 'Software Engineering Internship - NYC',\n",
       "  'link': 'https://www.indeed.com/rc/clk?jk=a27cfffaf4c528c4&fccid=facc18fe475dac15&vjs=3',\n",
       "  'location': 'New York, NY'},\n",
       " {'title': 'Associate, Application Engineering',\n",
       "  'link': 'https://www.indeed.com/rc/clk?jk=6af6baa1956f9b9f&fccid=58c732f14833248a&vjs=3',\n",
       "  'location': 'New York, NY'},\n",
       " {'title': 'Manager - Business Intelligence',\n",
       "  'link': 'https://www.indeed.com/rc/clk?jk=7cea5a262c44ddcd&fccid=7c09b9795120f0d4&vjs=3',\n",
       "  'location': 'New York, NY 10018 (Garment District area)'},\n",
       " {'title': 'Research Analyst',\n",
       "  'link': 'https://www.indeed.com/rc/clk?jk=63ed92f0143c105c&fccid=1c2a61588e44123b&vjs=3',\n",
       "  'location': 'New York, NY'},\n",
       " {'title': 'Data Quality Engineer',\n",
       "  'link': 'https://www.indeed.com/rc/clk?jk=a67bb904a4707653&fccid=7ca1385998532a85&vjs=3',\n",
       "  'location': 'New York, NY 10007 (Financial District area)'},\n",
       " {'title': 'Software Engineer - Full Stack',\n",
       "  'link': 'https://www.indeed.com/rc/clk?jk=a1c630178419fe4f&fccid=17deafb845ac1078&vjs=3',\n",
       "  'location': 'New York, NY 10001 (Flatiron District area)'},\n",
       " {'title': 'Développeur Commando Front Office',\n",
       "  'link': 'https://www.indeed.com/rc/clk?jk=8b9ac16249576d19&fccid=bf3fb669dcbf8d45&vjs=3',\n",
       "  'location': 'New York, NY'},\n",
       " {'title': 'Software Engineer Intern',\n",
       "  'link': 'https://www.indeed.com/rc/clk?jk=292967f3645c8427&fccid=978d9fd9799d55a8&vjs=3',\n",
       "  'location': 'New York, NY 10014 (West Village area)'},\n",
       " {'title': 'Software Test Specialist: IBM Tech Re Entry',\n",
       "  'link': 'https://www.indeed.com/rc/clk?jk=e824435492f66841&fccid=de71a49b535e21cb&vjs=3',\n",
       "  'location': 'Poughkeepsie, NY 12601'},\n",
       " {'title': 'Data Engineer - Python, SQL and Airflow',\n",
       "  'link': 'https://www.indeed.com/rc/clk?jk=0f775671bd9c193f&fccid=105ecfd0283f415f&vjs=3',\n",
       "  'location': 'New York, NY 10003 (Flatiron District area)'},\n",
       " {'title': 'Equity Research Associate',\n",
       "  'link': 'https://www.indeed.com/rc/clk?jk=0adb0520fc9b55a1&fccid=978bc31afb217dbc&vjs=3',\n",
       "  'location': 'New York, NY 10022 (Turtle Bay area)'},\n",
       " {'title': 'Actuary',\n",
       "  'link': 'https://www.indeed.com/rc/clk?jk=b159e2dc69840ab3&fccid=40869a2bcc7c9ceb&vjs=3',\n",
       "  'location': 'New York, NY'},\n",
       " {'title': 'Supply Strategy Analyst',\n",
       "  'link': 'https://www.indeed.com/rc/clk?jk=0a39c45e6c068184&fccid=2ab13947fbb2d925&vjs=3',\n",
       "  'location': 'New York, NY'},\n",
       " {'title': 'Recruitment Solutions Consultant (REMOTE)',\n",
       "  'link': 'https://www.indeed.com/rc/clk?jk=6d0fd32330817b97&fccid=fc92bf1cef03c1d0&vjs=3',\n",
       "  'location': 'New York State'},\n",
       " {'title': 'Data Scientist',\n",
       "  'link': 'https://www.indeed.com/rc/clk?jk=1ff35ab312b3cf4b&fccid=7ca1385998532a85&vjs=3',\n",
       "  'location': 'New York, NY 10007 (Financial District area)'},\n",
       " {'title': 'Sr Planning Analyst',\n",
       "  'link': 'https://www.indeed.com/rc/clk?jk=5707aef756546424&fccid=abc6c19910f3b4e2&vjs=3',\n",
       "  'location': 'New York, NY 10003 (Greenwich Village area)'},\n",
       " {'title': 'Data Engineer',\n",
       "  'link': 'https://www.indeed.com/rc/clk?jk=3e811ffc5e8bb8dd&fccid=17deafb845ac1078&vjs=3',\n",
       "  'location': 'New York, NY 10001 (Flatiron District area)'},\n",
       " {'title': 'Senior Industrial Engineer - ( REMOTE )',\n",
       "  'link': 'https://www.indeed.com/rc/clk?jk=7ffba25da0418313&fccid=2c749d549b16ad16&vjs=3',\n",
       "  'location': 'Montgomery, NY 12549'},\n",
       " {'title': 'Linux/Python DevOps Engineer',\n",
       "  'link': 'https://www.indeed.com/rc/clk?jk=224b382e312bb5dc&fccid=01b91641951e8886&vjs=3',\n",
       "  'location': 'New York, NY 10005 (Financial District area)'},\n",
       " {'title': 'Internal Data Analyst - Internal Audit and Corporate Complia...',\n",
       "  'link': 'https://www.indeed.com/rc/clk?jk=c2592611b2cda8fe&fccid=4d5d694743c295fc&vjs=3',\n",
       "  'location': 'Manhattan, NY'},\n",
       " {'title': 'Sales Talent Acceleration Program',\n",
       "  'link': 'https://www.indeed.com/rc/clk?jk=8bdc28e6dc655190&fccid=ddf716c161cc9a6a&vjs=3',\n",
       "  'location': 'New York, NY 10007 (Tribeca area)'},\n",
       " {'title': 'Technical Analyst',\n",
       "  'link': 'https://www.indeed.com/rc/clk?jk=df5d9b4ca2ae5293&fccid=7074185bd7d0c1bb&vjs=3',\n",
       "  'location': 'New York, NY'},\n",
       " {'title': 'Bioinfo Pipeline Developer',\n",
       "  'link': 'https://www.indeed.com/rc/clk?jk=490003348555cd1a&fccid=bd976cc171c690e0&vjs=3',\n",
       "  'location': 'New York, NY'},\n",
       " {'title': 'Software Developer',\n",
       "  'link': 'https://www.indeed.com/rc/clk?jk=9af2606bcbf4167e&fccid=837edc3ec6c2367e&vjs=3',\n",
       "  'location': 'New York, NY 10036 (Garment District area)'},\n",
       " {'title': 'ICBU Market Researcher Alibaba.com',\n",
       "  'link': 'https://www.indeed.com/rc/clk?jk=2e709d1e952e115e&fccid=4e75c921d3645259&vjs=3',\n",
       "  'location': 'New York, NY (Upper West Side area)'},\n",
       " {'title': 'Java Full Stack Developer, Cognizant IoT',\n",
       "  'link': 'https://www.indeed.com/rc/clk?jk=8aed2ee61372e942&fccid=2df6a1e69a70a1e7&vjs=3',\n",
       "  'location': 'New York, NY'},\n",
       " {'title': 'Software Engineer I',\n",
       "  'link': 'https://www.indeed.com/rc/clk?jk=752aa3cc33fcebd8&fccid=12e41f7040f168e8&vjs=3',\n",
       "  'location': 'New York, NY 10018 (Garment District area)'},\n",
       " {'title': 'Quantitative Researcher - Event-Driven Trading',\n",
       "  'link': 'https://www.indeed.com/rc/clk?jk=cfbd824ffca77445&fccid=facc18fe475dac15&vjs=3',\n",
       "  'location': 'New York, NY'},\n",
       " {'title': 'Health Center Data Analyst',\n",
       "  'link': 'https://www.indeed.com/rc/clk?jk=bf4bf05d45cce9f0&fccid=45056d760b7d9d86&vjs=3',\n",
       "  'location': 'New York, NY 10007 (Tribeca area)'},\n",
       " {'title': 'Research Associate - Biotechnology',\n",
       "  'link': 'https://www.indeed.com/rc/clk?jk=dce2f3a6b1155705&fccid=0140e51652b12787&vjs=3',\n",
       "  'location': 'New York, NY 10022 (Midtown area)'},\n",
       " {'title': 'Veterans Program - New York',\n",
       "  'link': 'https://www.indeed.com/rc/clk?jk=58ddb23731a8e52f&fccid=2525ee368b671cd8&vjs=3',\n",
       "  'location': 'New York, NY 10005 (Financial District area)'},\n",
       " {'title': 'Systems Analyst',\n",
       "  'link': 'https://www.indeed.com/rc/clk?jk=1105180462894cf5&fccid=8009d67e70703a78&vjs=3',\n",
       "  'location': 'New York, NY'},\n",
       " {'title': 'Algorithmic Trading Data Analyst/Engineer',\n",
       "  'link': 'https://www.indeed.com/rc/clk?jk=0542d484ea1e18f6&fccid=a273420a182f00e4&vjs=3',\n",
       "  'location': 'New York, NY'},\n",
       " {'title': 'Specialist',\n",
       "  'link': 'https://www.indeed.com/rc/clk?jk=2d646b0504d47022&fccid=734cb5a01ee60f80&vjs=3',\n",
       "  'location': 'New York, NY'},\n",
       " {'title': 'Quantitative Researcher',\n",
       "  'link': 'https://www.indeed.com/rc/clk?jk=b23a6e9e6af0b074&fccid=db0af0ad6162783b&vjs=3',\n",
       "  'location': 'New York, NY 10014 (West Village area)'},\n",
       " {'title': 'Scientific Associate - Data Acquisition Systems (Entry-level...',\n",
       "  'link': 'https://www.indeed.com/rc/clk?jk=8122f4c253b3424c&fccid=e3775e5ec8ee0d6e&vjs=3',\n",
       "  'location': 'Long Island, NY'}]"
      ]
     },
     "execution_count": 29,
     "metadata": {},
     "output_type": "execute_result"
    }
   ],
   "source": [
    "r"
   ]
  },
  {
   "cell_type": "code",
   "execution_count": null,
   "metadata": {},
   "outputs": [],
   "source": []
  }
 ],
 "metadata": {
  "kernelspec": {
   "display_name": "Python 3",
   "language": "python",
   "name": "python3"
  },
  "language_info": {
   "codemirror_mode": {
    "name": "ipython",
    "version": 3
   },
   "file_extension": ".py",
   "mimetype": "text/x-python",
   "name": "python",
   "nbconvert_exporter": "python",
   "pygments_lexer": "ipython3",
   "version": "3.8.2"
  },
  "toc": {
   "base_numbering": 1,
   "nav_menu": {},
   "number_sections": true,
   "sideBar": true,
   "skip_h1_title": false,
   "title_cell": "Table of Contents",
   "title_sidebar": "Contents",
   "toc_cell": false,
   "toc_position": {},
   "toc_section_display": true,
   "toc_window_display": false
  }
 },
 "nbformat": 4,
 "nbformat_minor": 4
}
