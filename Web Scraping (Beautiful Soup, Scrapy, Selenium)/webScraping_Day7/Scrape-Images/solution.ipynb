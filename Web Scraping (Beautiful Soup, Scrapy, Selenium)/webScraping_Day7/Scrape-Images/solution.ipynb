{
 "cells": [
  {
   "cell_type": "code",
   "execution_count": 3,
   "metadata": {},
   "outputs": [],
   "source": [
    "import bs4\n",
    "import requests"
   ]
  },
  {
   "cell_type": "code",
   "execution_count": 4,
   "metadata": {},
   "outputs": [],
   "source": [
    "url='https://www.passiton.com/inspirational-quotes'\n",
    "response=requests.get(url)\n",
    "response.content\n",
    "soup=bs4.BeautifulSoup(response.content) #html parser\n",
    "div_tag=soup.findAll('div',{'class':'col-6 col-lg-3 text-center margin-30px-bottom sm-margin-30px-top'})\n",
    "for i,div_element in enumerate(div_tag):\n",
    "    # add the path to where you want the images to be saved\n",
    "    with open('/Users/jappanjeetsingh/Desktop/images/inspiration{}.jpg'.format(i),'wb') as f: \n",
    "        img_url=div_element.img.attrs['src']\n",
    "        response=requests.get(img_url)\n",
    "        f.write(response.content)"
   ]
  }
 ],
 "metadata": {
  "kernelspec": {
   "display_name": "Python 3",
   "language": "python",
   "name": "python3"
  },
  "language_info": {
   "codemirror_mode": {
    "name": "ipython",
    "version": 3
   },
   "file_extension": ".py",
   "mimetype": "text/x-python",
   "name": "python",
   "nbconvert_exporter": "python",
   "pygments_lexer": "ipython3",
   "version": "3.8.2"
  },
  "toc": {
   "base_numbering": 1,
   "nav_menu": {},
   "number_sections": true,
   "sideBar": true,
   "skip_h1_title": false,
   "title_cell": "Table of Contents",
   "title_sidebar": "Contents",
   "toc_cell": false,
   "toc_position": {},
   "toc_section_display": true,
   "toc_window_display": false
  }
 },
 "nbformat": 4,
 "nbformat_minor": 4
}
