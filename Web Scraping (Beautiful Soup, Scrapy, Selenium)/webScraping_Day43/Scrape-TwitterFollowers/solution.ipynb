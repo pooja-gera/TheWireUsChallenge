{
 "cells": [
  {
   "cell_type": "code",
   "execution_count": 112,
   "metadata": {},
   "outputs": [],
   "source": [
    "import requests\n",
    "from bs4 import BeautifulSoup\n",
    "import pandas as pd\n",
    "import re\n",
    "from bs4 import BeautifulSoup\n",
    "from selenium import webdriver\n",
    "import time"
   ]
  },
  {
   "cell_type": "code",
   "execution_count": 113,
   "metadata": {},
   "outputs": [],
   "source": [
    "driver=webdriver.Chrome(\"/Users/jappanjeetsingh/Downloads/drivers/chromedriver\")\n",
    "time.sleep(3)"
   ]
  },
  {
   "cell_type": "code",
   "execution_count": 115,
   "metadata": {},
   "outputs": [],
   "source": [
    "# list of usernames\n",
    "usernames=['BarackObama', 'justinbieber', 'katyperry', 'rihanna', 'Cristiano', 'taylorswift13', 'realDonaldTrump', 'ladygaga', 'TheEllenShow', 'ArianaGrande', 'YouTube', 'KimKardashian', 'jtimberlake', 'selenagomez', 'narendramodi', 'cnnbrk', 'twitter', 'britneyspears', 'ddlovato', 'shakira', 'jimmyfallon', 'BillGates', 'CNN', 'neymarjr', 'nytimes', 'KingJames', 'JLo', 'MileyCyrus', 'BBCBreaking', 'SrBachchan', 'Oprah', 'BrunoMars', 'BeingSalmanKhan', 'iamsrk', 'NiallOfficial', 'NASA', 'Drake', 'akshaykumar', 'PMOIndia', 'elonmusk', 'imVkohli', 'SportsCenter', 'wizkhalifa', 'KevinHart4real', 'espn', 'instagram', 'Harry_Styles', 'KylieJenner', 'LilTunechi', 'realmadrid']"
   ]
  },
  {
   "cell_type": "code",
   "execution_count": 114,
   "metadata": {},
   "outputs": [],
   "source": [
    "followers=[]\n",
    "for username in usernames:\n",
    "# make get request to the url\n",
    "    driver.get(f\"https://twitter.com/{username}\")\n",
    "    time.sleep(5)\n",
    "    element=driver.find_element_by_xpath(\"//*[@id=\\\"react-root\\\"]\")\n",
    "    pattern=re.compile(r\"([0-9k KMm\\.,]+) Followers\")\n",
    "    followers.append(pattern.findall(element.text))"
   ]
  },
  {
   "cell_type": "code",
   "execution_count": 130,
   "metadata": {},
   "outputs": [],
   "source": [
    "df=pd.DataFrame()"
   ]
  },
  {
   "cell_type": "code",
   "execution_count": 133,
   "metadata": {},
   "outputs": [],
   "source": [
    "df[\"Username\"]=usernames\n",
    "df[\"Number of Followers\"]=followers"
   ]
  },
  {
   "cell_type": "code",
   "execution_count": 137,
   "metadata": {},
   "outputs": [
    {
     "data": {
      "text/html": [
       "<div>\n",
       "<style scoped>\n",
       "    .dataframe tbody tr th:only-of-type {\n",
       "        vertical-align: middle;\n",
       "    }\n",
       "\n",
       "    .dataframe tbody tr th {\n",
       "        vertical-align: top;\n",
       "    }\n",
       "\n",
       "    .dataframe thead th {\n",
       "        text-align: right;\n",
       "    }\n",
       "</style>\n",
       "<table border=\"1\" class=\"dataframe\">\n",
       "  <thead>\n",
       "    <tr style=\"text-align: right;\">\n",
       "      <th></th>\n",
       "      <th>Username</th>\n",
       "      <th>Number of Followers</th>\n",
       "    </tr>\n",
       "  </thead>\n",
       "  <tbody>\n",
       "    <tr>\n",
       "      <th>0</th>\n",
       "      <td>BarackObama</td>\n",
       "      <td>[121.5M]</td>\n",
       "    </tr>\n",
       "    <tr>\n",
       "      <th>1</th>\n",
       "      <td>justinbieber</td>\n",
       "      <td>[112.3M]</td>\n",
       "    </tr>\n",
       "    <tr>\n",
       "      <th>2</th>\n",
       "      <td>katyperry</td>\n",
       "      <td>[108.4M]</td>\n",
       "    </tr>\n",
       "    <tr>\n",
       "      <th>3</th>\n",
       "      <td>rihanna</td>\n",
       "      <td>[98.1M]</td>\n",
       "    </tr>\n",
       "    <tr>\n",
       "      <th>4</th>\n",
       "      <td>Cristiano</td>\n",
       "      <td>[87M]</td>\n",
       "    </tr>\n",
       "  </tbody>\n",
       "</table>\n",
       "</div>"
      ],
      "text/plain": [
       "       Username Number of Followers\n",
       "0   BarackObama            [121.5M]\n",
       "1  justinbieber            [112.3M]\n",
       "2     katyperry            [108.4M]\n",
       "3       rihanna             [98.1M]\n",
       "4     Cristiano               [87M]"
      ]
     },
     "execution_count": 137,
     "metadata": {},
     "output_type": "execute_result"
    }
   ],
   "source": [
    "df.head()"
   ]
  }
 ],
 "metadata": {
  "kernelspec": {
   "display_name": "Python 3",
   "language": "python",
   "name": "python3"
  },
  "language_info": {
   "codemirror_mode": {
    "name": "ipython",
    "version": 3
   },
   "file_extension": ".py",
   "mimetype": "text/x-python",
   "name": "python",
   "nbconvert_exporter": "python",
   "pygments_lexer": "ipython3",
   "version": "3.8.2"
  },
  "toc": {
   "base_numbering": 1,
   "nav_menu": {},
   "number_sections": true,
   "sideBar": true,
   "skip_h1_title": false,
   "title_cell": "Table of Contents",
   "title_sidebar": "Contents",
   "toc_cell": false,
   "toc_position": {},
   "toc_section_display": true,
   "toc_window_display": false
  }
 },
 "nbformat": 4,
 "nbformat_minor": 4
}
