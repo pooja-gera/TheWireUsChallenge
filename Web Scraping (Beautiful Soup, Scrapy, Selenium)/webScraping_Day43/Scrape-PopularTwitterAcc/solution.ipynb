{
 "cells": [
  {
   "cell_type": "code",
   "execution_count": 1,
   "metadata": {},
   "outputs": [],
   "source": [
    "import requests\n",
    "from bs4 import BeautifulSoup\n",
    "import pandas as pd\n",
    "import re\n",
    "from bs4 import BeautifulSoup\n",
    "from selenium import webdriver"
   ]
  },
  {
   "cell_type": "code",
   "execution_count": 2,
   "metadata": {},
   "outputs": [],
   "source": [
    "driver=webdriver.Chrome(\"/Users/jappanjeetsingh/Downloads/drivers/chromedriver\")"
   ]
  },
  {
   "cell_type": "code",
   "execution_count": 3,
   "metadata": {},
   "outputs": [],
   "source": [
    "# make get request to the url\n",
    "driver.get(\"https://en.wikipedia.org/wiki/List_of_most-followed_Twitter_accounts\")"
   ]
  },
  {
   "cell_type": "code",
   "execution_count": 4,
   "metadata": {},
   "outputs": [],
   "source": [
    "element=driver.find_element_by_xpath(\"//*[@id=\\\"mw-content-text\\\"]\")"
   ]
  },
  {
   "cell_type": "code",
   "execution_count": 5,
   "metadata": {},
   "outputs": [],
   "source": [
    "pattern=re.compile(r\"@([A-Za-z0-9_]+)\")"
   ]
  },
  {
   "cell_type": "code",
   "execution_count": 6,
   "metadata": {},
   "outputs": [],
   "source": [
    "usernames=pattern.findall(element.text)"
   ]
  },
  {
   "cell_type": "code",
   "execution_count": 7,
   "metadata": {},
   "outputs": [
    {
     "name": "stdout",
     "output_type": "stream",
     "text": [
      "['BarackObama', 'justinbieber', 'katyperry', 'rihanna', 'Cristiano', 'taylorswift13', 'realDonaldTrump', 'ladygaga', 'TheEllenShow', 'ArianaGrande', 'YouTube', 'KimKardashian', 'jtimberlake', 'selenagomez', 'narendramodi', 'cnnbrk', 'twitter', 'britneyspears', 'ddlovato', 'shakira', 'jimmyfallon', 'BillGates', 'CNN', 'neymarjr', 'nytimes', 'KingJames', 'JLo', 'MileyCyrus', 'BBCBreaking', 'SrBachchan', 'Oprah', 'BrunoMars', 'BeingSalmanKhan', 'iamsrk', 'NiallOfficial', 'NASA', 'Drake', 'akshaykumar', 'PMOIndia', 'elonmusk', 'imVkohli', 'SportsCenter', 'wizkhalifa', 'KevinHart4real', 'espn', 'instagram', 'Harry_Styles', 'KylieJenner', 'LilTunechi', 'realmadrid']\n"
     ]
    }
   ],
   "source": [
    "print(usernames)"
   ]
  }
 ],
 "metadata": {
  "kernelspec": {
   "display_name": "Python 3",
   "language": "python",
   "name": "python3"
  },
  "language_info": {
   "codemirror_mode": {
    "name": "ipython",
    "version": 3
   },
   "file_extension": ".py",
   "mimetype": "text/x-python",
   "name": "python",
   "nbconvert_exporter": "python",
   "pygments_lexer": "ipython3",
   "version": "3.8.2"
  },
  "toc": {
   "base_numbering": 1,
   "nav_menu": {},
   "number_sections": true,
   "sideBar": true,
   "skip_h1_title": false,
   "title_cell": "Table of Contents",
   "title_sidebar": "Contents",
   "toc_cell": false,
   "toc_position": {},
   "toc_section_display": true,
   "toc_window_display": false
  }
 },
 "nbformat": 4,
 "nbformat_minor": 4
}
