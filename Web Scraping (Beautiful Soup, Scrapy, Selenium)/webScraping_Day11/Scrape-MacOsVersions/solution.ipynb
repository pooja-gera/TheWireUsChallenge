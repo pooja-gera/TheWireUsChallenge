{
 "cells": [
  {
   "cell_type": "code",
   "execution_count": 28,
   "metadata": {},
   "outputs": [],
   "source": [
    "from bs4 import BeautifulSoup as soup\n",
    "import requests\n",
    "import pandas as pd"
   ]
  },
  {
   "cell_type": "code",
   "execution_count": 8,
   "metadata": {},
   "outputs": [],
   "source": [
    "url=\"https://en.wikipedia.org/wiki/MacOS\""
   ]
  },
  {
   "cell_type": "code",
   "execution_count": 10,
   "metadata": {},
   "outputs": [
    {
     "data": {
      "text/plain": [
       "<Response [200]>"
      ]
     },
     "execution_count": 10,
     "metadata": {},
     "output_type": "execute_result"
    }
   ],
   "source": [
    "response=requests.get(url)\n",
    "response"
   ]
  },
  {
   "cell_type": "code",
   "execution_count": 13,
   "metadata": {},
   "outputs": [],
   "source": [
    "mac_html=soup(response.content)"
   ]
  },
  {
   "cell_type": "code",
   "execution_count": 17,
   "metadata": {},
   "outputs": [],
   "source": [
    "table=mac_soup.findAll('table',{'class':'wikitable'})[0]\n",
    "headers=table.findAll('th')"
   ]
  },
  {
   "cell_type": "code",
   "execution_count": 23,
   "metadata": {},
   "outputs": [],
   "source": [
    "col_title=[ct.text[:-1] for ct in headers]\n",
    "d=col_title[7:]\n",
    "col_title=col_title[:7]"
   ]
  },
  {
   "cell_type": "code",
   "execution_count": 24,
   "metadata": {},
   "outputs": [
    {
     "name": "stdout",
     "output_type": "stream",
     "text": [
      "['Operating system', 'Safari', 'Mail', 'QuickTime', 'iTunes', 'Messages/iChat', 'iWork']\n"
     ]
    }
   ],
   "source": [
    "print(col_title)"
   ]
  },
  {
   "cell_type": "code",
   "execution_count": 25,
   "metadata": {},
   "outputs": [],
   "source": [
    "rows=table.findAll('tr')[1:]"
   ]
  },
  {
   "cell_type": "code",
   "execution_count": 27,
   "metadata": {},
   "outputs": [],
   "source": [
    "table_row=[]\n",
    "for count,row in enumerate(rows):\n",
    "    curr_row=[]\n",
    "    curr_row.append(d[count])\n",
    "    row_data=row.findAll('td',{})\n",
    "    \n",
    "    for data in row_data:\n",
    "        \n",
    "        curr_row.append(data.text[:-1])\n",
    "    \n",
    "    table_row.append(curr_row)"
   ]
  },
  {
   "cell_type": "code",
   "execution_count": 29,
   "metadata": {
    "scrolled": true
   },
   "outputs": [],
   "source": [
    "df=pd.DataFrame(table_row,columns=col_title)"
   ]
  },
  {
   "cell_type": "code",
   "execution_count": 31,
   "metadata": {},
   "outputs": [
    {
     "data": {
      "text/html": [
       "<div>\n",
       "<style scoped>\n",
       "    .dataframe tbody tr th:only-of-type {\n",
       "        vertical-align: middle;\n",
       "    }\n",
       "\n",
       "    .dataframe tbody tr th {\n",
       "        vertical-align: top;\n",
       "    }\n",
       "\n",
       "    .dataframe thead th {\n",
       "        text-align: right;\n",
       "    }\n",
       "</style>\n",
       "<table border=\"1\" class=\"dataframe\">\n",
       "  <thead>\n",
       "    <tr style=\"text-align: right;\">\n",
       "      <th></th>\n",
       "      <th>Operating system</th>\n",
       "      <th>Safari</th>\n",
       "      <th>Mail</th>\n",
       "      <th>QuickTime</th>\n",
       "      <th>iTunes</th>\n",
       "      <th>Messages/iChat</th>\n",
       "      <th>iWork</th>\n",
       "    </tr>\n",
       "  </thead>\n",
       "  <tbody>\n",
       "    <tr>\n",
       "      <th>0</th>\n",
       "      <td>11.0 \"Big Sur\"</td>\n",
       "      <td>14.0</td>\n",
       "      <td>13.0</td>\n",
       "      <td>10.5</td>\n",
       "      <td>N/A</td>\n",
       "      <td>14.0</td>\n",
       "      <td>2020</td>\n",
       "    </tr>\n",
       "    <tr>\n",
       "      <th>1</th>\n",
       "      <td>10.15 \"Catalina\"</td>\n",
       "      <td>13.1.2</td>\n",
       "      <td>13.0</td>\n",
       "      <td>N/A</td>\n",
       "      <td>13.0</td>\n",
       "      <td>None</td>\n",
       "      <td>None</td>\n",
       "    </tr>\n",
       "    <tr>\n",
       "      <th>2</th>\n",
       "      <td>10.14 \"Mojave\"</td>\n",
       "      <td>12.0</td>\n",
       "      <td>12.9.5</td>\n",
       "      <td>12.0</td>\n",
       "      <td>None</td>\n",
       "      <td>None</td>\n",
       "      <td>None</td>\n",
       "    </tr>\n",
       "    <tr>\n",
       "      <th>3</th>\n",
       "      <td>10.13 \"High Sierra\"</td>\n",
       "      <td>11.0</td>\n",
       "      <td>10.4</td>\n",
       "      <td>12.8.2</td>\n",
       "      <td>11.0</td>\n",
       "      <td>2019</td>\n",
       "      <td>None</td>\n",
       "    </tr>\n",
       "    <tr>\n",
       "      <th>4</th>\n",
       "      <td>10.12 \"Sierra\"</td>\n",
       "      <td>12.1.2</td>\n",
       "      <td>10.0</td>\n",
       "      <td>2018</td>\n",
       "      <td>None</td>\n",
       "      <td>None</td>\n",
       "      <td>None</td>\n",
       "    </tr>\n",
       "    <tr>\n",
       "      <th>5</th>\n",
       "      <td>10.11 \"El Capitan\"</td>\n",
       "      <td>11.1.2</td>\n",
       "      <td>9.3</td>\n",
       "      <td>9.2</td>\n",
       "      <td>2014</td>\n",
       "      <td>None</td>\n",
       "      <td>None</td>\n",
       "    </tr>\n",
       "    <tr>\n",
       "      <th>6</th>\n",
       "      <td>10.10 \"Yosemite\"</td>\n",
       "      <td>10.1.2</td>\n",
       "      <td>8.0</td>\n",
       "      <td>None</td>\n",
       "      <td>None</td>\n",
       "      <td>None</td>\n",
       "      <td>None</td>\n",
       "    </tr>\n",
       "    <tr>\n",
       "      <th>7</th>\n",
       "      <td>10.9 \"Mavericks\"</td>\n",
       "      <td>9.1.3</td>\n",
       "      <td>7.3</td>\n",
       "      <td>10.3</td>\n",
       "      <td>12.6.2</td>\n",
       "      <td>2013</td>\n",
       "      <td>None</td>\n",
       "    </tr>\n",
       "    <tr>\n",
       "      <th>8</th>\n",
       "      <td>10.8 \"Mountain Lion\"</td>\n",
       "      <td>6.2.8</td>\n",
       "      <td>Unknown</td>\n",
       "      <td>10.2</td>\n",
       "      <td>12.4.3[70]</td>\n",
       "      <td>'09</td>\n",
       "      <td>None</td>\n",
       "    </tr>\n",
       "    <tr>\n",
       "      <th>9</th>\n",
       "      <td>10.7 \"Lion\" [note 1]</td>\n",
       "      <td>6.1.6</td>\n",
       "      <td>10.1</td>\n",
       "      <td>12.2.2[71]</td>\n",
       "      <td>8.0b or 6.0.1</td>\n",
       "      <td>None</td>\n",
       "      <td>None</td>\n",
       "    </tr>\n",
       "  </tbody>\n",
       "</table>\n",
       "</div>"
      ],
      "text/plain": [
       "       Operating system  Safari     Mail   QuickTime         iTunes  \\\n",
       "0        11.0 \"Big Sur\"    14.0     13.0        10.5            N/A   \n",
       "1      10.15 \"Catalina\"  13.1.2     13.0         N/A           13.0   \n",
       "2        10.14 \"Mojave\"    12.0   12.9.5        12.0           None   \n",
       "3   10.13 \"High Sierra\"    11.0     10.4      12.8.2           11.0   \n",
       "4        10.12 \"Sierra\"  12.1.2     10.0        2018           None   \n",
       "5    10.11 \"El Capitan\"  11.1.2      9.3         9.2           2014   \n",
       "6      10.10 \"Yosemite\"  10.1.2      8.0        None           None   \n",
       "7      10.9 \"Mavericks\"   9.1.3      7.3        10.3         12.6.2   \n",
       "8  10.8 \"Mountain Lion\"   6.2.8  Unknown        10.2     12.4.3[70]   \n",
       "9  10.7 \"Lion\" [note 1]   6.1.6     10.1  12.2.2[71]  8.0b or 6.0.1   \n",
       "\n",
       "  Messages/iChat iWork  \n",
       "0           14.0  2020  \n",
       "1           None  None  \n",
       "2           None  None  \n",
       "3           2019  None  \n",
       "4           None  None  \n",
       "5           None  None  \n",
       "6           None  None  \n",
       "7           2013  None  \n",
       "8            '09  None  \n",
       "9           None  None  "
      ]
     },
     "execution_count": 31,
     "metadata": {},
     "output_type": "execute_result"
    }
   ],
   "source": [
    "df.head(10)"
   ]
  },
  {
   "cell_type": "code",
   "execution_count": null,
   "metadata": {},
   "outputs": [],
   "source": []
  }
 ],
 "metadata": {
  "kernelspec": {
   "display_name": "Python 3",
   "language": "python",
   "name": "python3"
  },
  "language_info": {
   "codemirror_mode": {
    "name": "ipython",
    "version": 3
   },
   "file_extension": ".py",
   "mimetype": "text/x-python",
   "name": "python",
   "nbconvert_exporter": "python",
   "pygments_lexer": "ipython3",
   "version": "3.8.2"
  },
  "toc": {
   "base_numbering": 1,
   "nav_menu": {},
   "number_sections": true,
   "sideBar": true,
   "skip_h1_title": false,
   "title_cell": "Table of Contents",
   "title_sidebar": "Contents",
   "toc_cell": false,
   "toc_position": {},
   "toc_section_display": true,
   "toc_window_display": false
  }
 },
 "nbformat": 4,
 "nbformat_minor": 4
}
