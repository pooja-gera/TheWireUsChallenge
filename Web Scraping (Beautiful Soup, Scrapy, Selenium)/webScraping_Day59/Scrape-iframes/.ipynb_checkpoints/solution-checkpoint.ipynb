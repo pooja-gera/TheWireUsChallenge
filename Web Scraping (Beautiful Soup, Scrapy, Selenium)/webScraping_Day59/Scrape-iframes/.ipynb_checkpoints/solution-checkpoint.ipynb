{
 "cells": [
  {
   "cell_type": "code",
   "execution_count": 34,
   "metadata": {},
   "outputs": [],
   "source": [
    "# import the required libraries\n",
    "import requests\n",
    "from bs4 import BeautifulSoup\n",
    "from selenium import webdriver\n",
    "from selenium.webdriver.common.keys import Keys"
   ]
  },
  {
   "cell_type": "code",
   "execution_count": 35,
   "metadata": {},
   "outputs": [],
   "source": [
    "# load the driver for your browser\n",
    "driver=webdriver.Chrome(\"/Users/jappanjeetsingh/Downloads/drivers/chromedriver\")"
   ]
  },
  {
   "cell_type": "code",
   "execution_count": 36,
   "metadata": {},
   "outputs": [],
   "source": [
    "# make get request to the url\n",
    "driver.get(\"https://www.selenium.dev/selenium/docs/api/java/index.html\")"
   ]
  },
  {
   "cell_type": "code",
   "execution_count": 37,
   "metadata": {},
   "outputs": [],
   "source": [
    "# switching to the reqd first frame\n",
    "driver.switch_to.frame(\"packageListFrame\")"
   ]
  },
  {
   "cell_type": "code",
   "execution_count": 38,
   "metadata": {},
   "outputs": [],
   "source": [
    "# clicking on a link defined in the first frame\n",
    "driver.find_element_by_link_text(\"org.openqa.selenium\").click()"
   ]
  },
  {
   "cell_type": "code",
   "execution_count": 39,
   "metadata": {},
   "outputs": [],
   "source": [
    "# going back to the main frame to switch to other frmaes\n",
    "driver.switch_to.default_content()"
   ]
  },
  {
   "cell_type": "code",
   "execution_count": 40,
   "metadata": {},
   "outputs": [],
   "source": [
    "# switch to the second frame\n",
    "driver.switch_to.frame(\"packageFrame\")"
   ]
  },
  {
   "cell_type": "code",
   "execution_count": 41,
   "metadata": {},
   "outputs": [],
   "source": [
    "# clicking on a link defined in the second frame\n",
    "driver.find_element_by_link_text(\"WebDriver\").click()"
   ]
  },
  {
   "cell_type": "code",
   "execution_count": 42,
   "metadata": {},
   "outputs": [],
   "source": [
    "# going back to the main frame to switch to other frames\n",
    "driver.switch_to.default_content()"
   ]
  },
  {
   "cell_type": "code",
   "execution_count": 43,
   "metadata": {},
   "outputs": [],
   "source": [
    "# selecting the third frame\n",
    "driver.switch_to.frame(\"classFrame\")"
   ]
  },
  {
   "cell_type": "code",
   "execution_count": 46,
   "metadata": {},
   "outputs": [],
   "source": [
    "# finding the deprecated button by xpath and clicking it.\n",
    "driver.find_element_by_xpath(\"/html/body/div[1]/ul/li[5]\").click()"
   ]
  },
  {
   "cell_type": "code",
   "execution_count": 47,
   "metadata": {},
   "outputs": [],
   "source": [
    "# make a soup object for the current page\n",
    "soup=BeautifulSoup(driver.page_source)"
   ]
  },
  {
   "cell_type": "code",
   "execution_count": 72,
   "metadata": {},
   "outputs": [],
   "source": [
    "# find all the tables\n",
    "tables=soup.findAll(\"table\")"
   ]
  },
  {
   "cell_type": "code",
   "execution_count": 77,
   "metadata": {},
   "outputs": [],
   "source": [
    "deprecatedInterfaces_table=tables[0]"
   ]
  },
  {
   "cell_type": "code",
   "execution_count": 78,
   "metadata": {},
   "outputs": [
    {
     "data": {
      "text/plain": [
       "'org.openqa.selenium.internal.WrapsDriver'"
      ]
     },
     "execution_count": 78,
     "metadata": {},
     "output_type": "execute_result"
    }
   ],
   "source": [
    "deprecatedInterfaces_table.findAll(\"td\")[-1].a.text"
   ]
  },
  {
   "cell_type": "code",
   "execution_count": 79,
   "metadata": {},
   "outputs": [],
   "source": [
    "deprecatedClasses_table=tables[1]"
   ]
  },
  {
   "cell_type": "code",
   "execution_count": 82,
   "metadata": {},
   "outputs": [
    {
     "data": {
      "text/plain": [
       "'com.thoughtworks.selenium.Wait'"
      ]
     },
     "execution_count": 82,
     "metadata": {},
     "output_type": "execute_result"
    }
   ],
   "source": [
    "deprecatedClasses_table.findAll(\"td\")[-1].a.text"
   ]
  },
  {
   "cell_type": "code",
   "execution_count": 87,
   "metadata": {},
   "outputs": [
    {
     "data": {
      "text/plain": [
       "'Deprecated Classes'"
      ]
     },
     "execution_count": 87,
     "metadata": {},
     "output_type": "execute_result"
    }
   ],
   "source": [
    "deprecatedClasses_table.span.text"
   ]
  },
  {
   "cell_type": "code",
   "execution_count": 100,
   "metadata": {},
   "outputs": [
    {
     "name": "stdout",
     "output_type": "stream",
     "text": [
      "1 )  Deprecated Interfaces \n",
      "\n",
      "1  -  org.openqa.selenium.support.ui.Clock\n",
      "2  -  org.openqa.selenium.remote.server.CommandHandler\n",
      "3  -  com.thoughtworks.selenium.CommandProcessor\n",
      "4  -  org.openqa.selenium.firefox.internal.Extension\n",
      "5  -  org.openqa.selenium.firefox.ExtensionConnection\n",
      "6  -  org.openqa.selenium.internal.FindsByClassName\n",
      "7  -  org.openqa.selenium.internal.FindsByCssSelector\n",
      "8  -  org.openqa.selenium.internal.FindsById\n",
      "9  -  org.openqa.selenium.internal.FindsByLinkText\n",
      "10  -  org.openqa.selenium.internal.FindsByName\n",
      "11  -  org.openqa.selenium.internal.FindsByTagName\n",
      "12  -  org.openqa.selenium.internal.FindsByXPath\n",
      "13  -  org.openqa.selenium.internal.HasIdentity\n",
      "14  -  org.openqa.selenium.interactions.internal.Locatable\n",
      "15  -  org.openqa.selenium.internal.Locatable\n",
      "16  -  com.thoughtworks.selenium.Selenium\n",
      "17  -  org.openqa.selenium.internal.WrapsDriver\n",
      "\n",
      "2 )  Deprecated Classes \n",
      "\n",
      "1  -  org.openqa.selenium.internal.BuildInfo\n",
      "2  -  org.openqa.selenium.interactions.ButtonReleaseAction\n",
      "3  -  org.openqa.selenium.firefox.internal.ClasspathExtension\n",
      "4  -  org.openqa.selenium.interactions.ClickAction\n",
      "5  -  org.openqa.selenium.interactions.ClickAndHoldAction\n",
      "6  -  org.openqa.selenium.interactions.ContextClickAction\n",
      "7  -  com.thoughtworks.selenium.DefaultSelenium\n",
      "8  -  org.openqa.selenium.interactions.DoubleClickAction\n",
      "9  -  org.openqa.selenium.support.ui.Duration\n",
      "10  -  org.openqa.selenium.firefox.internal.Executable\n",
      "11  -  org.openqa.selenium.firefox.internal.FileExtension\n",
      "12  -  com.thoughtworks.selenium.HttpCommandProcessor\n",
      "13  -  org.openqa.selenium.interactions.KeyDownAction\n",
      "14  -  org.openqa.selenium.interactions.KeyUpAction\n",
      "15  -  org.openqa.selenium.interactions.MoveMouseAction\n",
      "16  -  org.openqa.selenium.interactions.MoveToOffsetAction\n",
      "17  -  org.openqa.selenium.interactions.PauseAction\n",
      "18  -  org.openqa.selenium.firefox.internal.ProfilesIni\n",
      "19  -  com.thoughtworks.selenium.SeleneseTestBase\n",
      "20  -  com.thoughtworks.selenium.SeleneseTestCase\n",
      "21  -  org.openqa.selenium.interactions.SendKeysAction\n",
      "22  -  org.openqa.selenium.remote.server.ServletRequestWrappingHttpRequest\n",
      "23  -  org.openqa.selenium.remote.server.ServletResponseWrappingHttpResponse\n",
      "24  -  org.openqa.selenium.support.ui.SystemClock\n",
      "25  -  com.thoughtworks.selenium.Wait\n",
      "\n",
      "3 )  Deprecated Enums \n",
      "\n",
      "1  -  org.openqa.selenium.internal.ElementScrollBehavior\n",
      "2  -  org.openqa.selenium.ie.InternetExplorerDriverEngine\n",
      "\n",
      "4 )  Deprecated Fields \n",
      "\n",
      "1  -  org.openqa.selenium.safari.SafariOptions.CAPABILITY\n",
      "2  -  org.openqa.selenium.remote.CapabilityType.ENABLE_PERSISTENT_HOVERING\n",
      "3  -  org.openqa.selenium.support.ui.FluentWait.FIVE_HUNDRED_MILLIS\n",
      "4  -  org.openqa.selenium.ie.InternetExplorerDriverService.IE_DRIVER_ENGINE_PROPERTY\n",
      "5  -  org.openqa.selenium.ie.InternetExplorerDriver.IE_USE_PRE_PROCESS_PROXY\n",
      "6  -  org.openqa.selenium.remote.BrowserType.OPERA\n",
      "7  -  org.openqa.selenium.remote.CapabilityType.PAGE_LOADING_STRATEGY\n",
      "8  -  org.openqa.selenium.remote.CapabilityType.PLATFORM\n",
      "\n",
      "5 )  Deprecated Methods \n",
      "\n",
      "1  -  org.openqa.selenium.ie.InternetExplorerOptions.enableNativeEvents()\n",
      "2  -  org.openqa.selenium.os.WindowsUtils.findSystemRoot()\n",
      "3  -  org.openqa.selenium.os.WindowsUtils.findTaskKill()\n",
      "4  -  org.openqa.selenium.chrome.ChromeOptions.getExperimentalOption(String)\n",
      "5  -  org.openqa.selenium.firefox.FirefoxBinary.getExtraEnv()\n",
      "6  -  org.openqa.selenium.net.NetworkInterface.getIp4LoopbackOnly()\n",
      "7  -  org.openqa.selenium.support.ui.Duration.in(TimeUnit)\n",
      "8  -  org.openqa.selenium.Capabilities.isJavascriptEnabled()\n",
      "9  -  org.openqa.selenium.os.WindowsUtils.killByName(String)\n",
      "10  -  org.openqa.selenium.os.WindowsUtils.killPID(String)\n",
      "11  -  org.openqa.selenium.support.ui.ExpectedConditions.numberOfwindowsToBe(int)\n",
      "12  -  org.openqa.selenium.remote.DesiredCapabilities.opera()\n",
      "13  -  org.openqa.selenium.remote.DesiredCapabilities.phantomjs()\n",
      "14  -  org.openqa.selenium.support.ui.FluentWait.pollingEvery(long, TimeUnit)\n",
      "15  -  org.openqa.selenium.firefox.FirefoxBinary.setEnvironmentProperty(String, String)\n",
      "16  -  org.openqa.selenium.firefox.FirefoxOptions.setLogLevel(Level)\n",
      "17  -  org.openqa.selenium.support.ui.Sleeper.sleep(Duration)\n",
      "18  -  org.openqa.selenium.support.ui.ExpectedConditions.textToBePresentInElement(By, String)\n",
      "19  -  org.openqa.selenium.ie.InternetExplorerDriverService.Builder.withEngineImplementation(InternetExplorerDriverEngine)\n",
      "20  -  org.openqa.selenium.support.ui.FluentWait.withTimeout(long, TimeUnit)\n",
      "\n",
      "6 )  Deprecated Constructors \n",
      "\n",
      "1  -  org.openqa.selenium.interactions.Actions(Keyboard)\n",
      "2  -  org.openqa.selenium.interactions.Actions(Keyboard, Mouse)\n",
      "3  -  org.openqa.selenium.support.pagefactory.AjaxElementLocator(Clock, SearchContext, Field, int)\n",
      "4  -  org.openqa.selenium.support.pagefactory.AjaxElementLocator(Clock, SearchContext, int, AbstractAnnotations)\n",
      "5  -  org.openqa.selenium.firefox.GeckoDriverService.Builder(FirefoxBinary)\n",
      "6  -  org.openqa.selenium.chrome.ChromeDriver(Capabilities)\n",
      "7  -  org.openqa.selenium.chrome.ChromeDriver(ChromeDriverService, Capabilities)\n",
      "8  -  org.openqa.selenium.support.ui.Duration(long, TimeUnit)\n",
      "9  -  org.openqa.selenium.edge.EdgeDriver(Capabilities)\n",
      "10  -  org.openqa.selenium.edge.EdgeDriver(EdgeDriverService, Capabilities)\n",
      "11  -  org.openqa.selenium.firefox.FirefoxDriver(Capabilities)\n",
      "12  -  org.openqa.selenium.firefox.FirefoxDriver(GeckoDriverService, Capabilities)\n",
      "13  -  org.openqa.selenium.support.ui.FluentWait(T, Clock, Sleeper)\n",
      "14  -  org.openqa.selenium.ie.InternetExplorerDriver(Capabilities)\n",
      "15  -  org.openqa.selenium.ie.InternetExplorerDriver(int)\n",
      "16  -  org.openqa.selenium.ie.InternetExplorerDriver(InternetExplorerDriverService, Capabilities)\n",
      "17  -  org.openqa.selenium.ie.InternetExplorerDriver(InternetExplorerDriverService, Capabilities, int)\n",
      "18  -  org.openqa.selenium.opera.OperaDriver(Capabilities)\n",
      "19  -  org.openqa.selenium.opera.OperaDriver(OperaDriverService, Capabilities)\n",
      "20  -  org.openqa.selenium.safari.SafariDriver(Capabilities)\n",
      "21  -  org.openqa.selenium.support.ui.SlowLoadableComponent(Clock, int)\n",
      "22  -  org.openqa.selenium.interactions.touch.TouchActions(Keyboard, TouchScreen)\n",
      "23  -  org.openqa.selenium.support.ui.WebDriverWait(WebDriver, Clock, Sleeper, long, long)\n",
      "\n"
     ]
    }
   ],
   "source": [
    "for index,table in enumerate(tables,1):\n",
    "    print(index,\") \",table.span.text,\"\\n\")\n",
    "    for idx,td in enumerate(table.findAll(\"td\"),1):\n",
    "        print(idx,\" - \",td.a.text)\n",
    "    print()"
   ]
  }
 ],
 "metadata": {
  "kernelspec": {
   "display_name": "Python 3",
   "language": "python",
   "name": "python3"
  },
  "language_info": {
   "codemirror_mode": {
    "name": "ipython",
    "version": 3
   },
   "file_extension": ".py",
   "mimetype": "text/x-python",
   "name": "python",
   "nbconvert_exporter": "python",
   "pygments_lexer": "ipython3",
   "version": "3.8.2"
  },
  "toc": {
   "base_numbering": 1,
   "nav_menu": {},
   "number_sections": true,
   "sideBar": true,
   "skip_h1_title": false,
   "title_cell": "Table of Contents",
   "title_sidebar": "Contents",
   "toc_cell": false,
   "toc_position": {},
   "toc_section_display": true,
   "toc_window_display": false
  }
 },
 "nbformat": 4,
 "nbformat_minor": 4
}
