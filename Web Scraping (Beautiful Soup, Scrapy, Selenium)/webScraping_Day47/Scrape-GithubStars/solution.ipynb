{
 "cells": [
  {
   "cell_type": "code",
   "execution_count": 17,
   "metadata": {},
   "outputs": [
    {
     "name": "stdout",
     "output_type": "stream",
     "text": [
      "Scraping for poteto\n",
      "\n",
      "boba-js TypeScript 17\n",
      "no.lol TypeScript 39\n",
      "ember-cli-flash JavaScript 350\n",
      "ember-changeset JavaScript 397\n",
      "rustconf-2020 unknown 296\n",
      "hiring-without-whiteboards JavaScript 17789\n",
      "ember-changeset-validations JavaScript 201\n",
      "poteto unknown 3\n",
      "vscode-tinacious-contrast unknown 5\n",
      "webamp TypeScript 0\n",
      "react-native JavaScript 0\n",
      "monkers Rust 9\n",
      "terraform Elixir 370\n",
      "ember-deep-set JavaScript 29\n",
      "ember-crumbly JavaScript 169\n",
      "vcr Ruby 0\n",
      "rustic Rust 3\n",
      "use-task TypeScript 0\n",
      "browser-monads JavaScript 0\n",
      "awesome-personal-blogs unknown 3\n",
      "gatsby-starter-blog JavaScript 0\n",
      "validated-proxy TypeScript 10\n",
      "advent-of-code-2018 Rust 19\n",
      "apollo-tooling TypeScript 0\n",
      "graphql.github.io JavaScript 0\n",
      "ember-hypersearch JavaScript 55\n",
      "ember-test-component JavaScript 21\n",
      "elixirconf-2017 unknown 105\n",
      "women-tech-speakers-organizers unknown 0\n",
      "remote-data-ts TypeScript 1\n"
     ]
    }
   ],
   "source": [
    "import requests\n",
    "from bs4 import BeautifulSoup\n",
    "import re\n",
    "\n",
    "session = requests.Session()\n",
    "\n",
    "url = 'https://github.com/{}'\n",
    "username = 'poteto'\n",
    "print(\"Scraping for\",username,end=\"\\n\\n\")\n",
    "\n",
    "\n",
    "r = session.get(url.format(username), params={'page': 1, 'tab': 'repositories'})\n",
    "html_soup = BeautifulSoup(r.text, 'html.parser')\n",
    "\n",
    "is_normal_user = False\n",
    "repos_element = html_soup.find(class_='repo-list')\n",
    "if not repos_element:\n",
    "    is_normal_user = True\n",
    "    repos_element = html_soup.find(id='user-repositories-list')\n",
    "    \n",
    "repos = repos_element.find_all('li')\n",
    "for repo in repos:\n",
    "    name = repo.find('h3').find('a').get_text(strip=True)\n",
    "    language = repo.find(attrs={'itemprop': 'programmingLanguage'})\n",
    "    language = language.get_text(strip=True) if language else 'unknown'\n",
    "    stars = repo.find('a', attrs={'href': re.compile('\\/stargazers')})\n",
    "    stars = int(stars.get_text(strip=True).replace(',', '')) if stars else 0\n",
    "    print(name, language, stars)"
   ]
  }
 ],
 "metadata": {
  "kernelspec": {
   "display_name": "Python 3",
   "language": "python",
   "name": "python3"
  },
  "language_info": {
   "codemirror_mode": {
    "name": "ipython",
    "version": 3
   },
   "file_extension": ".py",
   "mimetype": "text/x-python",
   "name": "python",
   "nbconvert_exporter": "python",
   "pygments_lexer": "ipython3",
   "version": "3.8.2"
  },
  "toc": {
   "base_numbering": 1,
   "nav_menu": {},
   "number_sections": true,
   "sideBar": true,
   "skip_h1_title": false,
   "title_cell": "Table of Contents",
   "title_sidebar": "Contents",
   "toc_cell": false,
   "toc_position": {},
   "toc_section_display": true,
   "toc_window_display": false
  }
 },
 "nbformat": 4,
 "nbformat_minor": 4
}
