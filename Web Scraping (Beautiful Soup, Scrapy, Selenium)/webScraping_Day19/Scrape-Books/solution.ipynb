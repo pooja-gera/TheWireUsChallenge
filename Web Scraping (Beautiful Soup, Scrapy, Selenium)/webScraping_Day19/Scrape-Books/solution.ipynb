{
 "cells": [
  {
   "cell_type": "code",
   "execution_count": 1,
   "metadata": {},
   "outputs": [],
   "source": [
    "# import necessary libraries\n",
    "import requests\n",
    "from bs4 import BeautifulSoup\n",
    "import pandas as pd"
   ]
  },
  {
   "cell_type": "code",
   "execution_count": 2,
   "metadata": {},
   "outputs": [],
   "source": [
    "title=[]\n",
    "price=[]\n",
    "availability=[]\n",
    "for page in range(1,51):\n",
    "    r=requests.get(\"http://books.toscrape.com/catalogue/page-{}.html\".format(page)) #GET request to a page\n",
    "    soup=BeautifulSoup(r.content)\n",
    "    products=soup.findAll(\"article\",{\"class\":\"product_pod\"})\n",
    "    for product in products:\n",
    "        title.append(product.h3.a.attrs[\"title\"])\n",
    "        price.append(product.find(\"p\",{\"class\":\"price_color\"}).getText())\n",
    "        availability.append(product.find(\"p\",{\"class\":\"instock availability\"}).getText().strip())"
   ]
  },
  {
   "cell_type": "code",
   "execution_count": 3,
   "metadata": {},
   "outputs": [],
   "source": [
    "#pandas dataframe to save data\n",
    "df=pd.DataFrame({\"title\":title,\"price\":price,\"availability\":availability})"
   ]
  },
  {
   "cell_type": "code",
   "execution_count": 4,
   "metadata": {},
   "outputs": [
    {
     "output_type": "execute_result",
     "data": {
      "text/plain": "                                   title   price availability\n0                   A Light in the Attic  £51.77     In stock\n1                     Tipping the Velvet  £53.74     In stock\n2                             Soumission  £50.10     In stock\n3                          Sharp Objects  £47.82     In stock\n4  Sapiens: A Brief History of Humankind  £54.23     In stock",
      "text/html": "<div>\n<style scoped>\n    .dataframe tbody tr th:only-of-type {\n        vertical-align: middle;\n    }\n\n    .dataframe tbody tr th {\n        vertical-align: top;\n    }\n\n    .dataframe thead th {\n        text-align: right;\n    }\n</style>\n<table border=\"1\" class=\"dataframe\">\n  <thead>\n    <tr style=\"text-align: right;\">\n      <th></th>\n      <th>title</th>\n      <th>price</th>\n      <th>availability</th>\n    </tr>\n  </thead>\n  <tbody>\n    <tr>\n      <th>0</th>\n      <td>A Light in the Attic</td>\n      <td>£51.77</td>\n      <td>In stock</td>\n    </tr>\n    <tr>\n      <th>1</th>\n      <td>Tipping the Velvet</td>\n      <td>£53.74</td>\n      <td>In stock</td>\n    </tr>\n    <tr>\n      <th>2</th>\n      <td>Soumission</td>\n      <td>£50.10</td>\n      <td>In stock</td>\n    </tr>\n    <tr>\n      <th>3</th>\n      <td>Sharp Objects</td>\n      <td>£47.82</td>\n      <td>In stock</td>\n    </tr>\n    <tr>\n      <th>4</th>\n      <td>Sapiens: A Brief History of Humankind</td>\n      <td>£54.23</td>\n      <td>In stock</td>\n    </tr>\n  </tbody>\n</table>\n</div>"
     },
     "metadata": {},
     "execution_count": 4
    }
   ],
   "source": [
    "df.head()"
   ]
  }
 ],
 "metadata": {
  "kernelspec": {
   "display_name": "Python 3",
   "language": "python",
   "name": "python3"
  },
  "language_info": {
   "codemirror_mode": {
    "name": "ipython",
    "version": 3
   },
   "file_extension": ".py",
   "mimetype": "text/x-python",
   "name": "python",
   "nbconvert_exporter": "python",
   "pygments_lexer": "ipython3",
   "version": "3.8.2"
  },
  "toc": {
   "base_numbering": 1,
   "nav_menu": {},
   "number_sections": true,
   "sideBar": true,
   "skip_h1_title": false,
   "title_cell": "Table of Contents",
   "title_sidebar": "Contents",
   "toc_cell": false,
   "toc_position": {},
   "toc_section_display": true,
   "toc_window_display": false
  }
 },
 "nbformat": 4,
 "nbformat_minor": 4
}