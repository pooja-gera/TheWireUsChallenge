{
 "cells": [
  {
   "cell_type": "code",
   "execution_count": null,
   "metadata": {},
   "outputs": [],
   "source": [
    "# importing necessary libraries\n",
    "from selenium import webdriver\n",
    "from selenium.webdriver.common.keys import Keys\n",
    "from selenium.common.exceptions import StaleElementReferenceException\n",
    "from bs4 import BeautifulSoup\n",
    "import pandas as pd\n",
    "import time"
   ]
  },
  {
   "cell_type": "code",
   "execution_count": null,
   "metadata": {},
   "outputs": [],
   "source": [
    "# mention the path to the driver\n",
    "browser = webdriver.Chrome(\n",
    "    \"/Users/jappanjeetsingh/Downloads/drivers/chromedriver\")\n",
    "# send get request to the website\n",
    "browser.get(\"https://covid19.healthdata.org/\")\n",
    "time.sleep(5)"
   ]
  },
  {
   "cell_type": "code",
   "execution_count": null,
   "metadata": {},
   "outputs": [],
   "source": [
    "deaths=[]\n",
    "countries = pd.read_csv(\"/Users/jappanjeetsingh/Downloads/countries.csv\")\n",
    "for country in countries['Country']:\n",
    "    country = country.strip()\n",
    "    # finding dropdown\n",
    "    search_element = browser.find_element_by_xpath('//*[@id=\"rc_select_4\"]')\n",
    "    time.sleep(5)\n",
    "    try:\n",
    "        search_element.send_keys(country)\n",
    "        time.sleep(2)\n",
    "# pressing down key then enter key for the scenario\n",
    "        search_element.send_keys(Keys.DOWN, Keys.RETURN)\n",
    "        time.sleep(5)\n",
    "    except StaleElementReferenceException as Exception:\n",
    "        search_element = browser.find_element_by_xpath(\n",
    "            '//*[@id=\"rc_select_4\"]')\n",
    "        time.sleep(5)\n",
    "        search_element.send_keys(country)\n",
    "        time.sleep(2)\n",
    "        search_element.send_keys(Keys.DOWN, Keys.RETURN)\n",
    "        time.sleep(5)\n",
    "    # storing html as soup object\n",
    "    soup = BeautifulSoup(browser.page_source)\n",
    "    print(country)\n",
    "    for data in soup.find_all('div', {'class': \"_30-NvbQKNSCT3T454z5_47\"}):\n",
    "        deaths.append(data.find('span', {\"class\": \"ant-statistic-content-value-int\"}).get_text())\n",
    "        print(\n",
    "            data.find('span', {\"class\": \"ant-statistic-content-value-int\"}).get_text())"
   ]
  },
  {
   "cell_type": "code",
   "execution_count": null,
   "metadata": {},
   "outputs": [],
   "source": [
    "countries[\"deaths\"]=deaths"
   ]
  },
  {
   "cell_type": "code",
   "execution_count": null,
   "metadata": {},
   "outputs": [],
   "source": [
    "# whenever we are creating a webdriver instance, it has to be terminated using browser.quit(). If we do not terminate the opened instances, it starts to use up RAM, which may impact the machine's performance and slow it down.\n",
    "browser.quit()"
   ]
  }
 ],
 "metadata": {
  "kernelspec": {
   "display_name": "Python 3",
   "language": "python",
   "name": "python3"
  },
  "language_info": {
   "codemirror_mode": {
    "name": "ipython",
    "version": 3
   },
   "file_extension": ".py",
   "mimetype": "text/x-python",
   "name": "python",
   "nbconvert_exporter": "python",
   "pygments_lexer": "ipython3",
   "version": "3.8.2"
  },
  "toc": {
   "base_numbering": 1,
   "nav_menu": {},
   "number_sections": true,
   "sideBar": true,
   "skip_h1_title": false,
   "title_cell": "Table of Contents",
   "title_sidebar": "Contents",
   "toc_cell": false,
   "toc_position": {},
   "toc_section_display": true,
   "toc_window_display": false
  }
 },
 "nbformat": 4,
 "nbformat_minor": 4
}