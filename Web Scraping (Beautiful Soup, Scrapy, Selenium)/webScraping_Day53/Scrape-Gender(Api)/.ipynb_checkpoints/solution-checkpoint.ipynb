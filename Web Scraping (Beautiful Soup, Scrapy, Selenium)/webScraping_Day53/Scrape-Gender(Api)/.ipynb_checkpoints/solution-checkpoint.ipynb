{
 "cells": [
  {
   "cell_type": "code",
   "execution_count": null,
   "metadata": {},
   "outputs": [],
   "source": [
    "import pandas as pd\n",
    "import requests\n",
    "import json"
   ]
  },
  {
   "cell_type": "code",
   "execution_count": null,
   "metadata": {},
   "outputs": [],
   "source": [
    "# load names\n",
    "df = pd.read_csv(\"names.csv\")"
   ]
  },
  {
   "cell_type": "code",
   "execution_count": null,
   "metadata": {},
   "outputs": [],
   "source": [
    "# data container\n",
    "gender = []\n",
    "#function for calling the api\n",
    "def api_request(name):\n",
    "# make a request to the api with name parameter\n",
    "    url = f\"https://api.genderize.io?name={name}\"\n",
    "    response = requests.get(url)\n",
    "    json_obj = json.loads(response.content)\n",
    "    return json_obj\n",
    "\n",
    "# main function \n",
    "def genderize(names, threshold=0.6):\n",
    "   \n",
    "    for name in names:\n",
    "        result = api_request(name)\n",
    "        \n",
    "        if result[\"probability\"]>threshold:\n",
    "# extract the gender and store it in the list\n",
    "            gender.append(json.dumps(result[\"gender\"]))\n",
    "        else:\n",
    "            gender.append(\"Unknown\")\n",
    "\n",
    "\n",
    "# call the main function\n",
    "genderize(df[\"Name\"])"
   ]
  },
  {
   "cell_type": "code",
   "execution_count": null,
   "metadata": {},
   "outputs": [],
   "source": [
    "df[\"Gender\"] = pd.Series(gender)"
   ]
  },
  {
   "cell_type": "code",
   "execution_count": null,
   "metadata": {},
   "outputs": [],
   "source": [
    "df.head(10)"
   ]
  }
 ],
 "metadata": {
  "kernelspec": {
   "display_name": "Python 3",
   "language": "python",
   "name": "python3"
  },
  "language_info": {
   "codemirror_mode": {
    "name": "ipython",
    "version": 3
   },
   "file_extension": ".py",
   "mimetype": "text/x-python",
   "name": "python",
   "nbconvert_exporter": "python",
   "pygments_lexer": "ipython3",
   "version": "3.8.2"
  },
  "toc": {
   "base_numbering": 1,
   "nav_menu": {},
   "number_sections": true,
   "sideBar": true,
   "skip_h1_title": false,
   "title_cell": "Table of Contents",
   "title_sidebar": "Contents",
   "toc_cell": false,
   "toc_position": {},
   "toc_section_display": true,
   "toc_window_display": false
  }
 },
 "nbformat": 4,
 "nbformat_minor": 4
}
