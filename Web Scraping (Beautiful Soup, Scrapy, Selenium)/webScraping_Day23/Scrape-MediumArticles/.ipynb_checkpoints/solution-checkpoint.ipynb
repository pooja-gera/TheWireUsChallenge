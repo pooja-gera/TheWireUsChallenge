{
 "cells": [
  {
   "cell_type": "code",
   "execution_count": 108,
   "metadata": {},
   "outputs": [],
   "source": [
    "import requests\n",
    "from bs4 import BeautifulSoup\n",
    "import pandas as pd"
   ]
  },
  {
   "cell_type": "code",
   "execution_count": 93,
   "metadata": {},
   "outputs": [],
   "source": [
    "urls = [\"https://medium.com/tag/artificial-intelligence\",\n",
    "        \"https://medium.com/tag/machine-learning\", \"https://medium.com/tag/deep-learning\"]"
   ]
  },
  {
   "cell_type": "code",
   "execution_count": 106,
   "metadata": {},
   "outputs": [],
   "source": [
    "titles=[]\n",
    "briefing=[]\n",
    "dates=[]\n",
    "upvotes=[]\n",
    "authors=[]\n",
    "links=[]\n",
    "readTime=[]"
   ]
  },
  {
   "cell_type": "code",
   "execution_count": 109,
   "metadata": {},
   "outputs": [],
   "source": [
    "for url in urls:\n",
    "    response = requests.get(url)\n",
    "    soup = BeautifulSoup(response.content)\n",
    "    # finding the titles\n",
    "    for title in soup.findAll(\"h3\"):\n",
    "        titles.append(title.text)\n",
    "    # finding brief\n",
    "    for brief in soup.findAll(\"h4\"):\n",
    "        briefing.append(brief.text)\n",
    "    # finding date\n",
    "    for date in soup.findAll(\"time\"):\n",
    "        dates.append(date.text)\n",
    "    # finding upvotes\n",
    "    for vote in soup.findAll(\"span\", {\n",
    "                     \"class\": \"u-relative u-background js-actionMultirecommendCount u-marginLeft5\"}):\n",
    "        upvotes.append(vote)\n",
    "    # finding author\n",
    "    for author in soup.findAll(\"a\", {\n",
    "             \"class\": \"ds-link ds-link--styleSubtle link link--darken link--accent u-accentColor--textNormal u-accentColor--textDarken\"}):\n",
    "        authors.append(author)\n",
    "     # finding links\n",
    "    for link in  soup.findAll(\"a\", {\"class\": \"\"}):\n",
    "        links.append(link.attrs[\"href\"])\n",
    "    # finding read times\n",
    "    for time in soup.find_all(\"span\",{\"class\":\"readingTime\"}):\n",
    "        readTime.append(time.attrs[\"title\"])"
   ]
  },
  {
   "cell_type": "code",
   "execution_count": 115,
   "metadata": {},
   "outputs": [],
   "source": [
    "df=pd.DataFrame({\"Title\":titles,\"Author\":authors,\"date\":dates,\"ReadTime\":readTime,\"Briefing\":briefing,\"Upvotes\":upvotes,\"Link\":links})"
   ]
  },
  {
   "cell_type": "code",
   "execution_count": 116,
   "metadata": {},
   "outputs": [
    {
     "data": {
      "text/html": [
       "<div>\n",
       "<style scoped>\n",
       "    .dataframe tbody tr th:only-of-type {\n",
       "        vertical-align: middle;\n",
       "    }\n",
       "\n",
       "    .dataframe tbody tr th {\n",
       "        vertical-align: top;\n",
       "    }\n",
       "\n",
       "    .dataframe thead th {\n",
       "        text-align: right;\n",
       "    }\n",
       "</style>\n",
       "<table border=\"1\" class=\"dataframe\">\n",
       "  <thead>\n",
       "    <tr style=\"text-align: right;\">\n",
       "      <th></th>\n",
       "      <th>Title</th>\n",
       "      <th>Author</th>\n",
       "      <th>date</th>\n",
       "      <th>ReadTime</th>\n",
       "      <th>Briefing</th>\n",
       "      <th>Upvotes</th>\n",
       "      <th>Link</th>\n",
       "    </tr>\n",
       "  </thead>\n",
       "  <tbody>\n",
       "    <tr>\n",
       "      <th>0</th>\n",
       "      <td>Amazon Wants to Make You an ML Practitioner— F...</td>\n",
       "      <td>[Anthony Agnone]</td>\n",
       "      <td>Aug 14</td>\n",
       "      <td>4 min read</td>\n",
       "      <td>The tech giant plans to speed up ML proficiency…</td>\n",
       "      <td>[[2.4K]]</td>\n",
       "      <td>https://towardsdatascience.com/amazon-wants-to...</td>\n",
       "    </tr>\n",
       "    <tr>\n",
       "      <th>1</th>\n",
       "      <td>How I’d start learning machine learning again ...</td>\n",
       "      <td>[Daniel Bourke]</td>\n",
       "      <td>Aug 14</td>\n",
       "      <td>10 min read</td>\n",
       "      <td>Putting the engineer back in machine…</td>\n",
       "      <td>[[801]]</td>\n",
       "      <td>https://towardsdatascience.com/how-id-start-le...</td>\n",
       "    </tr>\n",
       "    <tr>\n",
       "      <th>2</th>\n",
       "      <td>What makes a data analyst excellent?</td>\n",
       "      <td>[Cassie Kozyrkov]</td>\n",
       "      <td>Aug 14</td>\n",
       "      <td>6 min read</td>\n",
       "      <td>Short answer? Speed. But it’s not as simple as...</td>\n",
       "      <td>[[966]]</td>\n",
       "      <td>https://towardsdatascience.com/what-makes-a-da...</td>\n",
       "    </tr>\n",
       "    <tr>\n",
       "      <th>3</th>\n",
       "      <td>FarmEasy : Crop Recommendation Portal for Farmers</td>\n",
       "      <td>[Darshan Gandhi]</td>\n",
       "      <td>Aug 17</td>\n",
       "      <td>6 min read</td>\n",
       "      <td>Recommending crops to the farmers using Machine…</td>\n",
       "      <td>[[959]]</td>\n",
       "      <td>https://towardsdatascience.com/farmeasy-crop-r...</td>\n",
       "    </tr>\n",
       "    <tr>\n",
       "      <th>4</th>\n",
       "      <td>Creating an Algorithmic Trading Strategy Using...</td>\n",
       "      <td>[Cameron Shadmehry]</td>\n",
       "      <td>Aug 10</td>\n",
       "      <td>5 min read</td>\n",
       "      <td>This article introduces…</td>\n",
       "      <td>[[262]]</td>\n",
       "      <td>https://medium.com/automated-trading/creating-...</td>\n",
       "    </tr>\n",
       "  </tbody>\n",
       "</table>\n",
       "</div>"
      ],
      "text/plain": [
       "                                               Title               Author  \\\n",
       "0  Amazon Wants to Make You an ML Practitioner— F...     [Anthony Agnone]   \n",
       "1  How I’d start learning machine learning again ...      [Daniel Bourke]   \n",
       "2               What makes a data analyst excellent?    [Cassie Kozyrkov]   \n",
       "3  FarmEasy : Crop Recommendation Portal for Farmers     [Darshan Gandhi]   \n",
       "4  Creating an Algorithmic Trading Strategy Using...  [Cameron Shadmehry]   \n",
       "\n",
       "     date     ReadTime                                           Briefing  \\\n",
       "0  Aug 14   4 min read   The tech giant plans to speed up ML proficiency…   \n",
       "1  Aug 14  10 min read              Putting the engineer back in machine…   \n",
       "2  Aug 14   6 min read  Short answer? Speed. But it’s not as simple as...   \n",
       "3  Aug 17   6 min read   Recommending crops to the farmers using Machine…   \n",
       "4  Aug 10   5 min read                           This article introduces…   \n",
       "\n",
       "    Upvotes                                               Link  \n",
       "0  [[2.4K]]  https://towardsdatascience.com/amazon-wants-to...  \n",
       "1   [[801]]  https://towardsdatascience.com/how-id-start-le...  \n",
       "2   [[966]]  https://towardsdatascience.com/what-makes-a-da...  \n",
       "3   [[959]]  https://towardsdatascience.com/farmeasy-crop-r...  \n",
       "4   [[262]]  https://medium.com/automated-trading/creating-...  "
      ]
     },
     "execution_count": 116,
     "metadata": {},
     "output_type": "execute_result"
    }
   ],
   "source": [
    "df.head()"
   ]
  }
 ],
 "metadata": {
  "kernelspec": {
   "display_name": "Python 3",
   "language": "python",
   "name": "python3"
  },
  "language_info": {
   "codemirror_mode": {
    "name": "ipython",
    "version": 3
   },
   "file_extension": ".py",
   "mimetype": "text/x-python",
   "name": "python",
   "nbconvert_exporter": "python",
   "pygments_lexer": "ipython3",
   "version": "3.8.2"
  },
  "toc": {
   "base_numbering": 1,
   "nav_menu": {},
   "number_sections": true,
   "sideBar": true,
   "skip_h1_title": false,
   "title_cell": "Table of Contents",
   "title_sidebar": "Contents",
   "toc_cell": false,
   "toc_position": {},
   "toc_section_display": true,
   "toc_window_display": false
  }
 },
 "nbformat": 4,
 "nbformat_minor": 4
}
