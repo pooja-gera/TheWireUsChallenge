{
  "nbformat": 4,
  "nbformat_minor": 0,
  "metadata": {
    "colab": {
      "name": "Untitled4.ipynb",
      "provenance": [],
      "private_outputs": true
    },
    "kernelspec": {
      "name": "python3",
      "display_name": "Python 3"
    }
  },
  "cells": [
    {
      "cell_type": "markdown",
      "metadata": {
        "id": "U4eZN832c2QR",
        "colab_type": "text"
      },
      "source": [
        " Question 1 : Write a python code to identify the data types of different inputs given by the user."
      ]
    },
    {
      "cell_type": "code",
      "metadata": {
        "id": "QUYU2rklH3xI",
        "colab_type": "code",
        "colab": {}
      },
      "source": [
        "m = input()\n",
        "print(type(m))\n",
        "a = int(input())\n",
        "print(type(a))\n",
        "b = [1,2,3]\n",
        "print(type(b))\n",
        "c = ( 1,2,3)\n",
        "print(type(c))"
      ],
      "execution_count": null,
      "outputs": []
    },
    {
      "cell_type": "markdown",
      "metadata": {
        "id": "qtC_couwc6_G",
        "colab_type": "text"
      },
      "source": [
        "Question 2: Write a python code to count of number of digits in a number inputted by the user."
      ]
    },
    {
      "cell_type": "code",
      "metadata": {
        "id": "iEXO9g4ec-Ph",
        "colab_type": "code",
        "colab": {}
      },
      "source": [
        "n=int(input(\"Enter number:\"))\n",
        "count=0\n",
        "while(n>0):\n",
        "    count=count+1\n",
        "    n=n//10\n",
        "print(\"The number of digits in the number are:\",count)\n"
      ],
      "execution_count": null,
      "outputs": []
    },
    {
      "cell_type": "markdown",
      "metadata": {
        "id": "oKdSSr6bdCDi",
        "colab_type": "text"
      },
      "source": [
        "Question 3: Create a lambda function to print cube of a number."
      ]
    },
    {
      "cell_type": "code",
      "metadata": {
        "id": "Eq3tDlEUdJpI",
        "colab_type": "code",
        "colab": {}
      },
      "source": [
        "def lambda(n):\n",
        "    return n*n*n"
      ],
      "execution_count": null,
      "outputs": []
    },
    {
      "cell_type": "markdown",
      "metadata": {
        "id": "oyNiTtbXdOWp",
        "colab_type": "text"
      },
      "source": [
        "Question 4:Write a python code showing different string methods and functions."
      ]
    },
    {
      "cell_type": "code",
      "metadata": {
        "id": "pfpkwE1idS6R",
        "colab_type": "code",
        "colab": {}
      },
      "source": [
        "str = 'I am Shaktiman.'\n",
        "#print the string\"\n",
        "print(str)\n",
        "#print first character of string\n",
        "print(str[0])\n",
        "#last character\n",
        "print('str[-1] = ', str[-1])\n",
        "#slicing 2nd to 5th character\n",
        "print('str[1:5] = ', str[1:5])\n",
        "#slicing 6th to 2nd last character\n",
        "print('str[5:-2] = ', str[5:-2])\n",
        "\n",
        "# Iterating through a string\n",
        "count = 0\n",
        "for letter in str:\n",
        "    if(letter == 'a'):\n",
        "        count += 1\n",
        "print(count,'letters found')\n"
      ],
      "execution_count": null,
      "outputs": []
    },
    {
      "cell_type": "markdown",
      "metadata": {
        "id": "QciNZDMZddJR",
        "colab_type": "text"
      },
      "source": [
        "Question 5: Write a code to check the voting age of a person."
      ]
    },
    {
      "cell_type": "code",
      "metadata": {
        "id": "oUnsxnkqdki8",
        "colab_type": "code",
        "colab": {}
      },
      "source": [
        "age = int(input())\n",
        "if age<18 :\n",
        "  print(\"underage\")\n",
        "elif age>=18:\n",
        "  print(\"Adult\")"
      ],
      "execution_count": null,
      "outputs": []
    },
    {
      "cell_type": "markdown",
      "metadata": {
        "id": "dFqJWNDxd3Sq",
        "colab_type": "text"
      },
      "source": [
        "Question 6:Write a code in python to display different functions of python module."
      ]
    },
    {
      "cell_type": "code",
      "metadata": {
        "id": "-IixX4LdeMb2",
        "colab_type": "code",
        "colab": {}
      },
      "source": [
        "#module required\n",
        "import time\n",
        "print(\"I am Iron Man.\")\n",
        "time.sleep(2.4)#this function delays the time\n",
        "print(\"I love you 3000.\") #this statement is printed after 2.4 seconds"
      ],
      "execution_count": null,
      "outputs": []
    },
    {
      "cell_type": "code",
      "metadata": {
        "id": "FcwikmgQeqrw",
        "colab_type": "code",
        "colab": {}
      },
      "source": [
        "import time\n",
        "\n",
        "# seconds passed since epoch\n",
        "seconds = 1545925769.9618232\n",
        "local_time = time.ctime(seconds)\n",
        "print(\"Local time:\", local_time)"
      ],
      "execution_count": null,
      "outputs": []
    },
    {
      "cell_type": "markdown",
      "metadata": {
        "id": "kQIidugaf5Se",
        "colab_type": "text"
      },
      "source": [
        "Question 7: A code showing use of 'in' keyword, slicing and negative indices."
      ]
    },
    {
      "cell_type": "code",
      "metadata": {
        "id": "BHMoYAMpgGT0",
        "colab_type": "code",
        "colab": {}
      },
      "source": [
        "#for slicing and negative indices lets input a string\n",
        "str = \"I am spiderman.\"\n",
        "print(str[:2])\n",
        "#slicing from start to second last character\n",
        "print(str[:-2])\n",
        "#use of in keyword\n",
        "str1 = \"I live in Delhi.\"\n",
        "if I in str1:\n",
        "  print(\"True.\")\n",
        "else : \n",
        "  print(\"False\")"
      ],
      "execution_count": null,
      "outputs": []
    },
    {
      "cell_type": "markdown",
      "metadata": {
        "id": "NAHeWZDBg9ZO",
        "colab_type": "text"
      },
      "source": [
        ""
      ]
    }
  ]
}