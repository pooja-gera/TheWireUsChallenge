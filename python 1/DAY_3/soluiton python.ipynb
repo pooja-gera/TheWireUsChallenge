{
  "nbformat": 4,
  "nbformat_minor": 0,
  "metadata": {
    "colab": {
      "name": "Untitled7.ipynb",
      "provenance": [],
      "private_outputs": true
    },
    "kernelspec": {
      "name": "python3",
      "display_name": "Python 3"
    }
  },
  "cells": [
    {
      "cell_type": "markdown",
      "metadata": {
        "id": "CStG4PaOXRQm",
        "colab_type": "text"
      },
      "source": [
        "So here is another challenge for you guys.\n",
        "\n",
        "This module is know as fuzzywuzzy.\n",
        "To know more on this module, check this out.\n",
        "https://chairnerd.seatgeek.com/fuzzywuzzy-fuzzy-string-matching-in-python/\n",
        "\n",
        "So the challenges are \n",
        "1. import necessary libraries\n",
        "2. Write a code to find simple ration between two sentences\n",
        "3. write a code to find token sort ratio\n",
        "4. write a code to find toke set ratio.\n",
        "\n",
        "ALL THE BEST!!!"
      ]
    },
    {
      "cell_type": "code",
      "metadata": {
        "id": "AmYiVhUzWriW",
        "colab_type": "code",
        "colab": {}
      },
      "source": [
        "pip install fuzzywuzzy"
      ],
      "execution_count": null,
      "outputs": []
    },
    {
      "cell_type": "code",
      "metadata": {
        "id": "DNdtmwSlWQEP",
        "colab_type": "code",
        "colab": {}
      },
      "source": [
        "from fuzzywuzzy import fuzz\n",
        "from fuzzywuzzy import process"
      ],
      "execution_count": null,
      "outputs": []
    },
    {
      "cell_type": "code",
      "metadata": {
        "id": "ez_llyTaWpP0",
        "colab_type": "code",
        "colab": {}
      },
      "source": [
        "#code to find simple ratio\n",
        "fuzz.ratio(\"this is a test\", \"this is a test!\")"
      ],
      "execution_count": null,
      "outputs": []
    },
    {
      "cell_type": "code",
      "metadata": {
        "id": "c3kh2F15W5HB",
        "colab_type": "code",
        "colab": {}
      },
      "source": [
        "#code to find token set and token sort ratio\n",
        "fuzz.token_sort_ratio(\"fuzzy was a bear\", \"fuzzy fuzzy was a bear\")"
      ],
      "execution_count": null,
      "outputs": []
    },
    {
      "cell_type": "code",
      "metadata": {
        "id": "LFcrCGpPXCZq",
        "colab_type": "code",
        "colab": {}
      },
      "source": [
        "fuzz.token_set_ratio(\"fuzzy was a bear\", \"fuzzy fuzzy was a bear\")"
      ],
      "execution_count": null,
      "outputs": []
    },
    {
      "cell_type": "code",
      "metadata": {
        "id": "TB1oOvSKXFv1",
        "colab_type": "code",
        "colab": {}
      },
      "source": [
        "#token sort ratio\n",
        "fuzz.ratio(\"fuzzy wuzzy was a bear\", \"wuzzy fuzzy was a bear\")"
      ],
      "execution_count": null,
      "outputs": []
    },
    {
      "cell_type": "code",
      "metadata": {
        "id": "DLd0QjlUXO2a",
        "colab_type": "code",
        "colab": {}
      },
      "source": [
        "fuzz.token_sort_ratio(\"fuzzy wuzzy was a bear\", \"wuzzy fuzzy was a bear\")"
      ],
      "execution_count": null,
      "outputs": []
    }
  ]
}