{
  "nbformat": 4,
  "nbformat_minor": 0,
  "metadata": {
    "colab": {
      "name": "Untitled6.ipynb",
      "provenance": [],
      "private_outputs": true,
      "collapsed_sections": []
    },
    "kernelspec": {
      "name": "python3",
      "display_name": "Python 3"
    }
  },
  "cells": [
    {
      "cell_type": "code",
      "metadata": {
        "id": "onQGi5zQhbWC",
        "colab_type": "code",
        "colab": {}
      },
      "source": [
        "#First step is to import the libraries\n",
        "import urllib.request\n",
        "request_url = urllib.request.urlopen('https://news.google.com/topstories?hl=en-IN&gl=IN&ceid=IN:en') \n",
        "print(request_url.read()) "
      ],
      "execution_count": null,
      "outputs": []
    },
    {
      "cell_type": "code",
      "metadata": {
        "id": "zDkyXaAmqZrs",
        "colab_type": "code",
        "colab": {}
      },
      "source": [
        "#write a command to parse the values into the url\n",
        "import urllib.parse\n",
        "url = 'https://www.google.com/search'\n",
        "values = {'q' : 'TheWireUsChallenges'}\n"
      ],
      "execution_count": null,
      "outputs": []
    },
    {
      "cell_type": "code",
      "metadata": {
        "id": "UVlVM2KIrwpU",
        "colab_type": "code",
        "colab": {}
      },
      "source": [
        ""
      ],
      "execution_count": null,
      "outputs": []
    }
  ]
}