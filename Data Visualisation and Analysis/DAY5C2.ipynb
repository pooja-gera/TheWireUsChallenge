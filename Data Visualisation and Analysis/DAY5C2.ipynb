{
  "nbformat": 4,
  "nbformat_minor": 0,
  "metadata": {
    "colab": {
      "name": "Untitled6.ipynb",
      "provenance": [],
      "private_outputs": true
    },
    "kernelspec": {
      "name": "python3",
      "display_name": "Python 3"
    }
  },
  "cells": [
    {
      "cell_type": "code",
      "metadata": {
        "id": "k_EGS5Qw8y8T",
        "colab_type": "code",
        "colab": {}
      },
      "source": [
        "#code to perform lemmatization\n",
        "import nltk\n",
        "nltk.download('wordnet')"
      ],
      "execution_count": null,
      "outputs": []
    },
    {
      "cell_type": "code",
      "metadata": {
        "id": "6DGMCa8o9J7N",
        "colab_type": "code",
        "colab": {}
      },
      "source": [
        "from textblob import Word\n",
        "\n",
        "word1 = Word(\"apples\")\n",
        "print(\"apples:\", word1.lemmatize())\n",
        "\n",
        "word2 = Word(\"media\")\n",
        "print(\"media:\", word2.lemmatize())\n",
        "\n",
        "word3 = Word(\"greater\")\n",
        "print(\"greater:\", word3.lemmatize(\"a\"))"
      ],
      "execution_count": null,
      "outputs": []
    },
    {
      "cell_type": "code",
      "metadata": {
        "id": "J_Q470xd9RRh",
        "colab_type": "code",
        "colab": {}
      },
      "source": [
        ""
      ],
      "execution_count": null,
      "outputs": []
    }
  ]
}