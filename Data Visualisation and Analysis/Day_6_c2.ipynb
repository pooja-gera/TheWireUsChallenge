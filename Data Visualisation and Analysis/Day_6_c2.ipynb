{
  "nbformat": 4,
  "nbformat_minor": 0,
  "metadata": {
    "colab": {
      "name": "Untitled",
      "provenance": [],
      "private_outputs": true
    },
    "kernelspec": {
      "name": "python3",
      "display_name": "Python 3"
    }
  },
  "cells": [
    {
      "cell_type": "code",
      "metadata": {
        "id": "PyLAVQEExgpL",
        "colab_type": "code",
        "colab": {}
      },
      "source": [
        "#code to create a dictionary from list pf sentences\n",
        "documents = [\"The Saudis are preparing a report that will acknowledge that\", \n",
        "             \"Saudi journalist Jamal Khashoggi's death was the result of an\", \n",
        "             \"interrogation that went wrong, one that was intended to lead\", \n",
        "             \"to his abduction from Turkey, according to two sources.\"]\n",
        "\n",
        "documents_2 = [\"One source says the report will likely conclude that\", \n",
        "                \"the operation was carried out without clearance and\", \n",
        "                \"transparency and that those involved will be held\", \n",
        "                \"responsible. One of the sources acknowledged that the\", \n",
        "                \"report is still being prepared and cautioned that\", \n",
        "                \"things could change.\"]\n",
        "#splitting the sentence into words\n",
        "texts = [[text for text in doc.split()] for doc in documents]\n",
        "\n",
        "dictionary = corpora.Dictionary(texts)\n",
        "\n",
        "print(dictionary)"
      ],
      "execution_count": null,
      "outputs": []
    },
    {
      "cell_type": "markdown",
      "metadata": {
        "id": "YrGzhVpbzrjb",
        "colab_type": "text"
      },
      "source": [
        ""
      ]
    },
    {
      "cell_type": "code",
      "metadata": {
        "id": "Kv3jRCmWyWzL",
        "colab_type": "code",
        "colab": {}
      },
      "source": [
        ""
      ],
      "execution_count": null,
      "outputs": []
    }
  ]
}