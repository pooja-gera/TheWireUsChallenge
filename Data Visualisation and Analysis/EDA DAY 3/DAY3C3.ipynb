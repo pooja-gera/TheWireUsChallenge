{
  "nbformat": 4,
  "nbformat_minor": 0,
  "metadata": {
    "colab": {
      "name": "Untitled4.ipynb",
      "provenance": [],
      "private_outputs": true
    },
    "kernelspec": {
      "name": "python3",
      "display_name": "Python 3"
    }
  },
  "cells": [
    {
      "cell_type": "code",
      "metadata": {
        "id": "Fk_ufjE0xdrH",
        "colab_type": "code",
        "colab": {}
      },
      "source": [
        "import numpy as np\n",
        "import scipy as sp\n",
        "import matplotlib as mpl\n",
        "import matplotlib.pyplot as plt"
      ],
      "execution_count": null,
      "outputs": []
    },
    {
      "cell_type": "code",
      "metadata": {
        "id": "uOBJFJMVxuaf",
        "colab_type": "code",
        "colab": {}
      },
      "source": [
        "from scipy import linalg, optimize"
      ],
      "execution_count": null,
      "outputs": []
    },
    {
      "cell_type": "code",
      "metadata": {
        "id": "YhMqBc2yz7tc",
        "colab_type": "code",
        "colab": {}
      },
      "source": [
        "#commands for different mathematical operations using scipy\n",
        "from scipy.special import cbrt\n",
        "#Find cubic root of 27 & 64 using cbrt() function\n",
        "cb = cbrt([27, 64])\n",
        "#print value of cb\n",
        "print(cb)"
      ],
      "execution_count": null,
      "outputs": []
    },
    {
      "cell_type": "code",
      "metadata": {
        "id": "psMuq5S0z_W1",
        "colab_type": "code",
        "colab": {}
      },
      "source": [
        "from scipy.special import exp10\n",
        "#define exp10 function and pass value in its\n",
        "exp = exp10([1,10])\n",
        "print(exp)"
      ],
      "execution_count": null,
      "outputs": []
    }
  ]
}