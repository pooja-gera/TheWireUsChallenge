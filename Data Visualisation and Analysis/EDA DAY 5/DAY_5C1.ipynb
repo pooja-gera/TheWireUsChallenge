{
  "nbformat": 4,
  "nbformat_minor": 0,
  "metadata": {
    "colab": {
      "name": "Untitled5.ipynb",
      "provenance": [],
      "private_outputs": true
    },
    "kernelspec": {
      "name": "python3",
      "display_name": "Python 3"
    }
  },
  "cells": [
    {
      "cell_type": "code",
      "metadata": {
        "id": "n7XHLClf8IRE",
        "colab_type": "code",
        "colab": {}
      },
      "source": [
        "import textblob\n",
        "from textblob import TextBlob\n",
        "\n",
        "import nltk\n",
        "nltk.download('punkt')"
      ],
      "execution_count": null,
      "outputs": []
    },
    {
      "cell_type": "code",
      "metadata": {
        "id": "c5p6JSeh8TWu",
        "colab_type": "code",
        "colab": {}
      },
      "source": [
        "document = (\"In computer science, artificial intelligence (AI), \\\n",
        "            sometimes called machine intelligence, is intelligence \\\n",
        "            demonstrated by machines, in contrast to the natural intelligence \\\n",
        "            displayed by humans and animals. Computer science defines AI \\\n",
        "            research as the study of \\\"intelligent agents\\\": any device that \\\n",
        "            perceives its environment and takes actions that maximize its\\\n",
        "            chance of successfully achieving its goals.[1] Colloquially,\\\n",
        "            the term \\\"artificial intelligence\\\" is used to describe machines\\\n",
        "            that mimic \\\"cognitive\\\" functions that humans associate with other\\\n",
        "            human minds, such as \\\"learning\\\" and \\\"problem solving\\\".[2]\")"
      ],
      "execution_count": null,
      "outputs": []
    },
    {
      "cell_type": "code",
      "metadata": {
        "id": "0khSnXpJ8bsG",
        "colab_type": "code",
        "colab": {}
      },
      "source": [
        "text_blob_object = TextBlob(document)"
      ],
      "execution_count": null,
      "outputs": []
    },
    {
      "cell_type": "code",
      "metadata": {
        "id": "L4EE7zCI8eOB",
        "colab_type": "code",
        "colab": {}
      },
      "source": [
        "document_sentence = text_blob_object.sentences\n",
        "\n",
        "print(document_sentence)\n",
        "print(len(document_sentence))"
      ],
      "execution_count": null,
      "outputs": []
    },
    {
      "cell_type": "code",
      "metadata": {
        "id": "v2-ccGeo8hL8",
        "colab_type": "code",
        "colab": {}
      },
      "source": [
        "\n",
        "document_words = text_blob_object.words\n",
        "\n",
        "print(document_words)\n",
        "print(len(document_words))"
      ],
      "execution_count": null,
      "outputs": []
    }
  ]
}