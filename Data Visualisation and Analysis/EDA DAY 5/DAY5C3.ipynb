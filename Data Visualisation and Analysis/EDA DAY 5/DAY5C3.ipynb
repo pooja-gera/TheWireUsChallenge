{
  "nbformat": 4,
  "nbformat_minor": 0,
  "metadata": {
    "colab": {
      "name": "Untitled6.ipynb",
      "provenance": [],
      "private_outputs": true
    },
    "kernelspec": {
      "name": "python3",
      "display_name": "Python 3"
    }
  },
  "cells": [
    {
      "cell_type": "code",
      "metadata": {
        "id": "k_EGS5Qw8y8T",
        "colab_type": "code",
        "colab": {}
      },
      "source": [
        "#code yo convert a singular text\n",
        "text = (\"Football is a good game. It has many health benefit\")\n",
        "text_blob_object = TextBlob(text)\n",
        "print(text_blob_object.words.pluralize())"
      ],
      "execution_count": null,
      "outputs": []
    },
    {
      "cell_type": "code",
      "metadata": {
        "id": "6DGMCa8o9J7N",
        "colab_type": "code",
        "colab": {}
      },
      "source": [
        ""
      ],
      "execution_count": null,
      "outputs": []
    },
    {
      "cell_type": "code",
      "metadata": {
        "id": "J_Q470xd9RRh",
        "colab_type": "code",
        "colab": {}
      },
      "source": [
        ""
      ],
      "execution_count": null,
      "outputs": []
    }
  ]
}