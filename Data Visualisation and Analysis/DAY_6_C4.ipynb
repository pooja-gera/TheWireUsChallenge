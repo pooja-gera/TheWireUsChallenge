{
  "nbformat": 4,
  "nbformat_minor": 0,
  "metadata": {
    "colab": {
      "name": "Untitled",
      "provenance": [],
      "private_outputs": true
    },
    "kernelspec": {
      "name": "python3",
      "display_name": "Python 3"
    }
  },
  "cells": [
    {
      "cell_type": "markdown",
      "metadata": {
        "id": "YrGzhVpbzrjb",
        "colab_type": "text"
      },
      "source": [
        ""
      ]
    },
    {
      "cell_type": "code",
      "metadata": {
        "id": "Kv3jRCmWyWzL",
        "colab_type": "code",
        "colab": {}
      },
      "source": [
        "#code to add something to the dictionary\n",
        "documents_2 = [\"ABCDEFGHs\",\n",
        "               \"BHTUJ<GVWD\",\n",
        "               \"dkfnkckdmy\"]\n",
        "\n",
        "texts_2 = [[text for text in doc.split()] for doc in documents_2]\n",
        "\n",
        "dictionary.add_documents(texts_2)\n",
        "print(dictionary)"
      ],
      "execution_count": null,
      "outputs": []
    }
  ]
}