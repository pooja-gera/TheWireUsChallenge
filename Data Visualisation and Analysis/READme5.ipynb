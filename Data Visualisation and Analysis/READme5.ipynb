{
  "nbformat": 4,
  "nbformat_minor": 0,
  "metadata": {
    "colab": {
      "name": "Untitled6.ipynb",
      "provenance": [],
      "private_outputs": true
    },
    "kernelspec": {
      "name": "python3",
      "display_name": "Python 3"
    }
  },
  "cells": [
    {
      "cell_type": "markdown",
      "metadata": {
        "id": "2TgMFhA09iC7",
        "colab_type": "text"
      },
      "source": [
        "Heyya Guys!! I hope you guys are doing amazing and enjoying these challenges.\n",
        "\n",
        "So, you guys must have heard about NLP(Natural Language Processing).\n",
        "\n",
        "Natural language processing (NLP) is a subfield of linguistics, computer science, information engineering, and artificial intelligence concerned with the interactions between computers and human (natural) languages, in particular how to program computers to process and analyze large amounts of natural language data.\n",
        "\n",
        "Now we are going to learn a module which will help in learninf NLP. This is known as TextBlob.\n",
        "\n",
        "TextBlob is a Python library for processing textual data. It provides a simple API for diving into common natural language processing (NLP) tasks such as part-of-speech tagging, noun phrase extraction, sentiment analysis, classification, translation, and more.\n",
        "\n",
        "To know more you can refer https://textblob.readthedocs.io/en/dev/py-modindex.html\n",
        "\n",
        "So now the challenges are\n",
        "\n",
        "Import necessary libraries.\n",
        "Tokenize a document(any document you can find).\n",
        "Perform lemmatization, importing necessary libraries.\n",
        "A code to convert all the singular words/ sentences into plural.\n",
        "All the best!"
      ]
    },
    {
      "cell_type": "code",
      "metadata": {
        "id": "k_EGS5Qw8y8T",
        "colab_type": "code",
        "colab": {}
      },
      "source": [
        ""
      ],
      "execution_count": null,
      "outputs": []
    },
    {
      "cell_type": "code",
      "metadata": {
        "id": "6DGMCa8o9J7N",
        "colab_type": "code",
        "colab": {}
      },
      "source": [
        ""
      ],
      "execution_count": null,
      "outputs": []
    },
    {
      "cell_type": "code",
      "metadata": {
        "id": "J_Q470xd9RRh",
        "colab_type": "code",
        "colab": {}
      },
      "source": [
        ""
      ],
      "execution_count": null,
      "outputs": []
    }
  ]
}