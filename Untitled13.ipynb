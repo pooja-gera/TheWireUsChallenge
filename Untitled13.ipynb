{
  "nbformat": 4,
  "nbformat_minor": 0,
  "metadata": {
    "colab": {
      "name": "Untitled13.ipynb",
      "provenance": []
    },
    "kernelspec": {
      "name": "python3",
      "display_name": "Python 3"
    }
  },
  "cells": [
    {
      "cell_type": "code",
      "metadata": {
        "id": "2hT3fViYMxjv",
        "colab_type": "code",
        "colab": {
          "base_uri": "https://localhost:8080/",
          "height": 128
        },
        "outputId": "6e753dd9-4ac0-48d4-d7c7-dfd6085175e9"
      },
      "source": [
        "import random,time\n",
        "\n",
        "def display_welcome():\n",
        "    time.sleep(1)\n",
        "    print('='*65) # just a random number\n",
        "    time.sleep(.5)\n",
        "    print(\"welcome to the number guessing game !\")\n",
        "    time.sleep(1)\n",
        "    print('pick a number between 1 to 10 ')  #we can change to 100 also\n",
        "    time.sleep(1)\n",
        "    print('well let you know if you guess too high or low.')\n",
        "    time.sleep(1)\n",
        "    print(\"good luck!!!!!\")\n",
        "    time.sleep(.5)\n",
        "    print('='*65)\n",
        "\n",
        "def start_game():\n",
        "    display_welcome()\n",
        "\n",
        "    secret_number = ramdom.randint(1,10)\n",
        "    play_guess = \"\"\n",
        "    guesses = 0\n",
        "    high_score = []\n",
        "\n",
        "    play_a_game = input(\"would you like to play? yes/no \")\n",
        "\n",
        "    while play_a_game:\n",
        "          player_guess = input(\"pick a number > \")\n",
        "          guesses += 1\n",
        "\n",
        "          try:\n",
        "               player_guess = int(player_guess)\n",
        "               if player_guess <= 0:\n",
        "                  print(\"please picka a number between 1 to 10 .\")\n",
        "                  continue\n",
        "              elif player_guess > 10:\n",
        "                   print(\" invalid!!!!!. please pick the number between 1 to 10\")\n",
        "                   continue\n",
        "                  pass\n",
        "        except ValueError:\n",
        "              print(\"this isn't a valid number .please try again.\")\n",
        "              continue\n",
        "      if player_guess == secret_number :\n",
        "         high_score.append(guesses)\n",
        "         high_score.sort()\n",
        "         print(\"got it!\")\n",
        "         print(\"it took you {} guesses\".format(guesses))\n",
        "         time.sleep(5)\n",
        "         play_a_game = input(\"would you like to play again? yes/no \")\n",
        "         if high_score:\n",
        "            print(\"the current high score is {}\".format(high_score[0]))\n",
        "        if play_a_game.lower() == 'no':\n",
        "           time.sleep(1)\n",
        "           print(\"thanks for playing have a fantastic day!!\")\n",
        "           break\n",
        "       else:\n",
        "           guesses = 0\n",
        "           secret_number= randdom.randint(1,10)\n",
        "      elif player_guess < secret_number :\n",
        "           print(\"you guessed too low.the secret number is higher. try again!!\")\n",
        "           continue\n",
        "      elif player_guess > secret_number :\n",
        "           print(\"you guessed too high.the secret number is lower. try again!!!\")\n",
        "           continue\n",
        "\n",
        "if __name__ == '__main__':\n",
        "  start_game()\n",
        "\n",
        "         \n",
        "\n",
        "\n",
        "\n",
        "\n",
        "\n",
        "\n",
        "\n",
        "\n",
        "\n",
        "\n",
        "\n",
        "\n",
        "\n",
        "\n",
        "\n",
        "\n",
        "\n",
        "\n",
        "\n"
      ],
      "execution_count": 4,
      "outputs": [
        {
          "output_type": "error",
          "ename": "IndentationError",
          "evalue": "ignored",
          "traceback": [
            "\u001b[0;36m  File \u001b[0;32m\"<ipython-input-4-5d22cf09b6a6>\"\u001b[0;36m, line \u001b[0;32m36\u001b[0m\n\u001b[0;31m    elif player_guess > 10:\u001b[0m\n\u001b[0m                           ^\u001b[0m\n\u001b[0;31mIndentationError\u001b[0m\u001b[0;31m:\u001b[0m unindent does not match any outer indentation level\n"
          ]
        }
      ]
    }
  ]
}